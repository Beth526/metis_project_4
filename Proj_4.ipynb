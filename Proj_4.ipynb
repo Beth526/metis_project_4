{
 "cells": [
  {
   "cell_type": "code",
   "execution_count": 1,
   "metadata": {},
   "outputs": [],
   "source": [
    "import spacy\n",
    "import scispacy\n",
    "import pickle\n",
    "import numpy as np\n",
    "import pandas as pd"
   ]
  },
  {
   "cell_type": "code",
   "execution_count": 2,
   "metadata": {},
   "outputs": [],
   "source": [
    "import re\n",
    "import en_ner_bionlp13cg_md"
   ]
  },
  {
   "cell_type": "code",
   "execution_count": 15,
   "metadata": {},
   "outputs": [],
   "source": [
    "from sklearn.cluster import KMeans"
   ]
  },
  {
   "cell_type": "code",
   "execution_count": 3,
   "metadata": {},
   "outputs": [],
   "source": [
    "nlp = en_ner_bionlp13cg_md.load()"
   ]
  },
  {
   "cell_type": "code",
   "execution_count": 4,
   "metadata": {},
   "outputs": [],
   "source": [
    "#tokenizer split on '/' also\n",
    "infixes = nlp.Defaults.infixes + (r'''/''',)\n",
    "infix_regex = spacy.util.compile_infix_regex(infixes)\n",
    "nlp.tokenizer.infix_finditer = infix_regex.finditer"
   ]
  },
  {
   "cell_type": "code",
   "execution_count": 5,
   "metadata": {},
   "outputs": [],
   "source": [
    "#merge identified ents into chunks\n",
    "merge_ents = nlp.create_pipe(\"merge_entities\")\n",
    "nlp.add_pipe(merge_ents)"
   ]
  },
  {
   "cell_type": "code",
   "execution_count": 6,
   "metadata": {},
   "outputs": [],
   "source": [
    "def keep_token(t):\n",
    "    return (t.ent_type != 0) and (t.__len__() > 1)"
   ]
  },
  {
   "cell_type": "code",
   "execution_count": 8,
   "metadata": {},
   "outputs": [],
   "source": [
    "import os\n",
    "os.chdir('/Volumes/BethMac/Metis Proj 4 data/')"
   ]
  },
  {
   "cell_type": "code",
   "execution_count": 9,
   "metadata": {},
   "outputs": [],
   "source": [
    "with open('title_abstract_docs_list.pickle', 'rb') as read_file:\n",
    "    abstracts = pickle.load(read_file)"
   ]
  },
  {
   "cell_type": "code",
   "execution_count": 10,
   "metadata": {},
   "outputs": [
    {
     "data": {
      "text/plain": [
       "337871"
      ]
     },
     "execution_count": 10,
     "metadata": {},
     "output_type": "execute_result"
    }
   ],
   "source": [
    "len(abstracts)"
   ]
  },
  {
   "cell_type": "code",
   "execution_count": 11,
   "metadata": {},
   "outputs": [],
   "source": [
    "import re"
   ]
  },
  {
   "cell_type": "code",
   "execution_count": 12,
   "metadata": {},
   "outputs": [],
   "source": [
    "abstracts = list(map(lambda x: re.sub('\\\\n',' ', x),abstracts))"
   ]
  },
  {
   "cell_type": "code",
   "execution_count": 20,
   "metadata": {},
   "outputs": [],
   "source": [
    "nlp_abstracts = nlp.pipe(abstracts, disable=[\"tagger\",\"parser\"])"
   ]
  },
  {
   "cell_type": "code",
   "execution_count": 21,
   "metadata": {
    "collapsed": true,
    "jupyter": {
     "outputs_hidden": true
    }
   },
   "outputs": [
    {
     "name": "stdout",
     "output_type": "stream",
     "text": [
      "1000\n",
      "2000\n",
      "3000\n",
      "4000\n",
      "5000\n",
      "6000\n",
      "7000\n",
      "8000\n",
      "9000\n",
      "10000\n",
      "11000\n",
      "12000\n",
      "13000\n",
      "14000\n",
      "15000\n",
      "16000\n",
      "17000\n",
      "18000\n",
      "19000\n",
      "20000\n",
      "21000\n",
      "22000\n",
      "23000\n",
      "24000\n",
      "25000\n",
      "26000\n",
      "27000\n",
      "28000\n",
      "29000\n",
      "30000\n",
      "31000\n",
      "32000\n",
      "33000\n",
      "34000\n",
      "35000\n",
      "36000\n",
      "37000\n",
      "38000\n",
      "39000\n",
      "40000\n",
      "41000\n",
      "42000\n",
      "43000\n",
      "44000\n",
      "45000\n",
      "46000\n",
      "47000\n",
      "48000\n",
      "49000\n",
      "50000\n",
      "51000\n",
      "52000\n",
      "53000\n",
      "54000\n",
      "55000\n",
      "56000\n",
      "57000\n",
      "58000\n",
      "59000\n",
      "60000\n",
      "61000\n",
      "62000\n",
      "63000\n",
      "64000\n",
      "65000\n",
      "66000\n",
      "67000\n",
      "68000\n",
      "69000\n",
      "70000\n",
      "71000\n",
      "72000\n",
      "73000\n",
      "74000\n",
      "75000\n",
      "76000\n",
      "77000\n",
      "78000\n",
      "79000\n",
      "80000\n",
      "81000\n",
      "82000\n",
      "83000\n",
      "84000\n",
      "85000\n",
      "86000\n",
      "87000\n",
      "88000\n",
      "89000\n",
      "90000\n",
      "91000\n",
      "92000\n",
      "93000\n",
      "94000\n",
      "95000\n",
      "96000\n",
      "97000\n",
      "98000\n",
      "99000\n",
      "100000\n",
      "101000\n",
      "102000\n",
      "103000\n",
      "104000\n",
      "105000\n",
      "106000\n",
      "107000\n",
      "108000\n",
      "109000\n",
      "110000\n",
      "111000\n",
      "112000\n",
      "113000\n",
      "114000\n",
      "115000\n",
      "116000\n",
      "117000\n",
      "118000\n",
      "119000\n",
      "120000\n",
      "121000\n",
      "122000\n",
      "123000\n",
      "124000\n",
      "125000\n",
      "126000\n",
      "127000\n",
      "128000\n",
      "129000\n",
      "130000\n",
      "131000\n",
      "132000\n",
      "133000\n",
      "134000\n",
      "135000\n",
      "136000\n",
      "137000\n",
      "138000\n",
      "139000\n",
      "140000\n",
      "141000\n",
      "142000\n",
      "143000\n",
      "144000\n",
      "145000\n",
      "146000\n",
      "147000\n",
      "148000\n",
      "149000\n",
      "150000\n",
      "151000\n",
      "152000\n",
      "153000\n",
      "154000\n",
      "155000\n",
      "156000\n",
      "157000\n",
      "158000\n",
      "159000\n",
      "160000\n",
      "161000\n",
      "162000\n",
      "163000\n",
      "164000\n",
      "165000\n",
      "166000\n",
      "167000\n",
      "168000\n",
      "169000\n",
      "170000\n",
      "171000\n",
      "172000\n",
      "173000\n",
      "174000\n",
      "175000\n",
      "176000\n",
      "177000\n",
      "178000\n",
      "179000\n",
      "180000\n",
      "181000\n",
      "182000\n",
      "183000\n",
      "184000\n",
      "185000\n",
      "186000\n",
      "187000\n",
      "188000\n",
      "189000\n",
      "190000\n",
      "191000\n",
      "192000\n",
      "193000\n",
      "194000\n",
      "195000\n",
      "196000\n",
      "197000\n",
      "198000\n",
      "199000\n",
      "200000\n",
      "201000\n",
      "202000\n",
      "203000\n",
      "204000\n",
      "205000\n",
      "206000\n",
      "207000\n",
      "208000\n",
      "209000\n",
      "210000\n",
      "211000\n",
      "212000\n",
      "213000\n",
      "214000\n",
      "215000\n",
      "216000\n",
      "217000\n",
      "218000\n",
      "219000\n",
      "220000\n",
      "221000\n",
      "222000\n",
      "223000\n",
      "224000\n",
      "225000\n",
      "226000\n",
      "227000\n",
      "228000\n",
      "229000\n",
      "230000\n",
      "231000\n",
      "232000\n",
      "233000\n",
      "234000\n",
      "235000\n",
      "236000\n",
      "237000\n",
      "238000\n",
      "239000\n",
      "240000\n",
      "241000\n",
      "242000\n",
      "243000\n",
      "244000\n",
      "245000\n",
      "246000\n",
      "247000\n",
      "248000\n",
      "249000\n",
      "250000\n",
      "251000\n",
      "252000\n",
      "253000\n",
      "254000\n",
      "255000\n",
      "256000\n",
      "257000\n",
      "258000\n",
      "259000\n",
      "260000\n",
      "261000\n",
      "262000\n",
      "263000\n",
      "264000\n",
      "265000\n",
      "266000\n",
      "267000\n",
      "268000\n",
      "269000\n",
      "270000\n",
      "271000\n",
      "272000\n",
      "273000\n",
      "274000\n",
      "275000\n",
      "276000\n",
      "277000\n",
      "278000\n",
      "279000\n",
      "280000\n",
      "281000\n",
      "282000\n",
      "283000\n",
      "284000\n",
      "285000\n",
      "286000\n",
      "287000\n",
      "288000\n",
      "289000\n",
      "290000\n",
      "291000\n",
      "292000\n",
      "293000\n",
      "294000\n",
      "295000\n",
      "296000\n",
      "297000\n",
      "298000\n",
      "299000\n",
      "300000\n",
      "301000\n",
      "302000\n",
      "303000\n",
      "304000\n",
      "305000\n",
      "306000\n",
      "307000\n",
      "308000\n",
      "309000\n",
      "310000\n",
      "311000\n",
      "312000\n",
      "313000\n",
      "314000\n",
      "315000\n",
      "316000\n",
      "317000\n",
      "318000\n",
      "319000\n",
      "320000\n",
      "321000\n",
      "322000\n",
      "323000\n",
      "324000\n",
      "325000\n",
      "326000\n",
      "327000\n",
      "328000\n",
      "329000\n",
      "330000\n",
      "331000\n",
      "332000\n",
      "333000\n",
      "334000\n",
      "335000\n",
      "336000\n",
      "337000\n"
     ]
    }
   ],
   "source": [
    "docs = []\n",
    "count = 0\n",
    "\n",
    "for doc in nlp_abstracts:\n",
    "    docs.append([re.sub('[)(]|\\-$','',t.lemma_.lower())+\"_\"+t.ent_type_ for t in doc if keep_token(t)])\n",
    "    count += 1\n",
    "    if count%1000 == 0:\n",
    "        print(count)"
   ]
  },
  {
   "cell_type": "code",
   "execution_count": 1121,
   "metadata": {},
   "outputs": [],
   "source": [
    "docs_genes = []\n",
    "for doc in docs:\n",
    "    docs_genes.append([t for t in doc if (t.find(\"GENE\") != -1) and (t.startswith('doi_') != True) and t.startswith('usa_') != True and t.startswith('boston_') != True and t.startswith(\"uk_\") != True and t.startswith('gfp_') != True and t.startswith('luciferase_') != True and t.startswith('/_') != True and t.startswith('e.g._') != True and t.startswith('microm.') != True ])"
   ]
  },
  {
   "cell_type": "code",
   "execution_count": 1122,
   "metadata": {},
   "outputs": [
    {
     "data": {
      "text/plain": [
       "337871"
      ]
     },
     "execution_count": 1122,
     "metadata": {},
     "output_type": "execute_result"
    }
   ],
   "source": [
    "len(docs_genes)"
   ]
  },
  {
   "cell_type": "code",
   "execution_count": 1123,
   "metadata": {},
   "outputs": [],
   "source": [
    "docs_dict = Dictionary(docs_genes)"
   ]
  },
  {
   "cell_type": "code",
   "execution_count": 1124,
   "metadata": {},
   "outputs": [
    {
     "data": {
      "text/plain": [
       "362425"
      ]
     },
     "execution_count": 1124,
     "metadata": {},
     "output_type": "execute_result"
    }
   ],
   "source": [
    "len(docs_dict)"
   ]
  },
  {
   "cell_type": "code",
   "execution_count": 1125,
   "metadata": {},
   "outputs": [],
   "source": [
    "docs_dict.filter_extremes(no_below=5, no_above=0.1)"
   ]
  },
  {
   "cell_type": "code",
   "execution_count": 1126,
   "metadata": {},
   "outputs": [],
   "source": [
    "docs_dict.compactify()"
   ]
  },
  {
   "cell_type": "code",
   "execution_count": 1127,
   "metadata": {},
   "outputs": [
    {
     "data": {
      "text/plain": [
       "41089"
      ]
     },
     "execution_count": 1127,
     "metadata": {},
     "output_type": "execute_result"
    }
   ],
   "source": [
    "len(docs_dict)"
   ]
  },
  {
   "cell_type": "code",
   "execution_count": 1128,
   "metadata": {},
   "outputs": [],
   "source": [
    "docs_corpus = [docs_dict.doc2bow(doc) for doc in docs]"
   ]
  },
  {
   "cell_type": "code",
   "execution_count": 1129,
   "metadata": {},
   "outputs": [],
   "source": [
    "model_tfidf = TfidfModel(docs_corpus, id2word=docs_dict)"
   ]
  },
  {
   "cell_type": "code",
   "execution_count": 1130,
   "metadata": {},
   "outputs": [],
   "source": [
    "docs_tfidf  = model_tfidf[docs_corpus]"
   ]
  },
  {
   "cell_type": "code",
   "execution_count": 566,
   "metadata": {},
   "outputs": [],
   "source": [
    "from gensim.models import nmf"
   ]
  },
  {
   "cell_type": "code",
   "execution_count": 722,
   "metadata": {},
   "outputs": [],
   "source": [
    "neg_matrix = nmf.Nmf(docs_tfidf, num_topics=25)"
   ]
  },
  {
   "cell_type": "code",
   "execution_count": 144,
   "metadata": {},
   "outputs": [],
   "source": [
    "from sklearn.cluster import KMeans"
   ]
  },
  {
   "cell_type": "code",
   "execution_count": 1,
   "metadata": {},
   "outputs": [],
   "source": [
    "import pickle\n",
    "import os\n",
    "os.chdir('/Volumes/BethMac/Metis Proj 4 data/')"
   ]
  },
  {
   "cell_type": "code",
   "execution_count": 2,
   "metadata": {},
   "outputs": [],
   "source": [
    "with open('A_25_topic_nmf.pickle', 'rb') as read_file:\n",
    "    nmf = pickle.load(read_file)\n",
    "\n",
    "with open('dict_for_nmf.pickle', 'rb') as read_file:\n",
    "    doc_dict = pickle.load(read_file)\n",
    "    \n",
    "with open('docs_for_nmf.pickle', 'rb') as read_file:\n",
    "    docs = pickle.load(read_file)    "
   ]
  },
  {
   "cell_type": "code",
   "execution_count": 34,
   "metadata": {},
   "outputs": [],
   "source": [
    "nmf_term_topic = nmf.get_topics()"
   ]
  },
  {
   "cell_type": "code",
   "execution_count": 35,
   "metadata": {},
   "outputs": [
    {
     "data": {
      "text/plain": [
       "14051"
      ]
     },
     "execution_count": 35,
     "metadata": {},
     "output_type": "execute_result"
    }
   ],
   "source": [
    "sum(nmf_term_topic[1] > 0)"
   ]
  },
  {
   "cell_type": "code",
   "execution_count": 36,
   "metadata": {},
   "outputs": [
    {
     "data": {
      "text/plain": [
       "(25, 30642)"
      ]
     },
     "execution_count": 36,
     "metadata": {},
     "output_type": "execute_result"
    }
   ],
   "source": [
    "nmf_term_topic.shape"
   ]
  },
  {
   "cell_type": "code",
   "execution_count": 38,
   "metadata": {},
   "outputs": [],
   "source": [
    "import pandas as pd"
   ]
  },
  {
   "cell_type": "code",
   "execution_count": 39,
   "metadata": {},
   "outputs": [],
   "source": [
    "nmf_term_topic = pd.DataFrame(nmf_term_topic)"
   ]
  },
  {
   "cell_type": "code",
   "execution_count": 41,
   "metadata": {},
   "outputs": [],
   "source": [
    "nmf_term_topic.columns = doc_dict.values()"
   ]
  },
  {
   "cell_type": "code",
   "execution_count": 42,
   "metadata": {},
   "outputs": [],
   "source": [
    "nmf_term_topic = nmf_term_topic.transpose()"
   ]
  },
  {
   "cell_type": "markdown",
   "metadata": {},
   "source": [
    "\n",
    "nmf 0 = IFNs, jak\n",
    "nmf 1 = p53\n",
    "nmf 2 = b-cell and toll like\n",
    "nmf 3 = nitric oxide\n",
    "nmf 4 = camp\n",
    "nmf 5 = nfkb\n",
    "nmf 6 = wnt and tgfb\n",
    "nmf 7 = g-protein receptors\n",
    "nmf 8 = interleukins, jak\n",
    "nmf 9 = mtor and akt\n",
    "nmf 10 = insulin and igf\n",
    "nmf 11 = thrombin, clotting\n",
    "nmf 12 = egfr\n",
    "nmf 13 = androgen and nfkb\n",
    "nmf 14 = notch\n",
    "nmf 15 = pkc and lipids\n",
    "nmf 16 = unfolded protein response, er and golgi\n",
    "nmf 17 = actin and tyrosine-kinase receptors\n",
    "nmf 18 = integrin adhesion\n",
    "nmf 19 = t-cell receptor\n",
    "nmf 20 = chemotaxis\n",
    "nmf 21 = pkc and calcium\n",
    "nmf 22 = extrinsic apoptosis\n",
    "nmf 23 = IL-6, intrinsic apoptosis\n",
    "nmf 24 = tnf-alpha, tgfb, serotonin"
   ]
  },
  {
   "cell_type": "code",
   "execution_count": 150,
   "metadata": {},
   "outputs": [
    {
     "data": {
      "text/html": [
       "<div>\n",
       "<style scoped>\n",
       "    .dataframe tbody tr th:only-of-type {\n",
       "        vertical-align: middle;\n",
       "    }\n",
       "\n",
       "    .dataframe tbody tr th {\n",
       "        vertical-align: top;\n",
       "    }\n",
       "\n",
       "    .dataframe thead th {\n",
       "        text-align: right;\n",
       "    }\n",
       "</style>\n",
       "<table border=\"1\" class=\"dataframe\">\n",
       "  <thead>\n",
       "    <tr style=\"text-align: right;\">\n",
       "      <th></th>\n",
       "      <th>0</th>\n",
       "      <th>1</th>\n",
       "      <th>2</th>\n",
       "      <th>3</th>\n",
       "      <th>4</th>\n",
       "      <th>5</th>\n",
       "      <th>6</th>\n",
       "      <th>7</th>\n",
       "      <th>8</th>\n",
       "      <th>9</th>\n",
       "      <th>...</th>\n",
       "      <th>15</th>\n",
       "      <th>16</th>\n",
       "      <th>17</th>\n",
       "      <th>18</th>\n",
       "      <th>19</th>\n",
       "      <th>20</th>\n",
       "      <th>21</th>\n",
       "      <th>22</th>\n",
       "      <th>23</th>\n",
       "      <th>24</th>\n",
       "    </tr>\n",
       "  </thead>\n",
       "  <tbody>\n",
       "    <tr>\n",
       "      <th>pkc_GENE_OR_GENE_PRODUCT</th>\n",
       "      <td>0.000000</td>\n",
       "      <td>0.000000</td>\n",
       "      <td>0.000000</td>\n",
       "      <td>0.000000</td>\n",
       "      <td>0.000000</td>\n",
       "      <td>0.000000</td>\n",
       "      <td>0.000000</td>\n",
       "      <td>0.000000</td>\n",
       "      <td>0.000000</td>\n",
       "      <td>0.000000</td>\n",
       "      <td>...</td>\n",
       "      <td>0.000000</td>\n",
       "      <td>0.000000</td>\n",
       "      <td>0.000000</td>\n",
       "      <td>0.000000</td>\n",
       "      <td>3.635109e-03</td>\n",
       "      <td>0.000000</td>\n",
       "      <td>0.295121</td>\n",
       "      <td>0.000000</td>\n",
       "      <td>0.000000</td>\n",
       "      <td>0.000004</td>\n",
       "    </tr>\n",
       "    <tr>\n",
       "      <th>protein kinase c_GENE_OR_GENE_PRODUCT</th>\n",
       "      <td>0.000000</td>\n",
       "      <td>0.000002</td>\n",
       "      <td>0.000000</td>\n",
       "      <td>0.000000</td>\n",
       "      <td>0.000000</td>\n",
       "      <td>0.000000</td>\n",
       "      <td>0.000000</td>\n",
       "      <td>0.000000</td>\n",
       "      <td>0.000733</td>\n",
       "      <td>0.000000</td>\n",
       "      <td>...</td>\n",
       "      <td>0.305021</td>\n",
       "      <td>0.000000</td>\n",
       "      <td>0.000000</td>\n",
       "      <td>0.000000</td>\n",
       "      <td>0.000000e+00</td>\n",
       "      <td>0.000000</td>\n",
       "      <td>0.027193</td>\n",
       "      <td>0.000000</td>\n",
       "      <td>0.000000</td>\n",
       "      <td>0.000277</td>\n",
       "    </tr>\n",
       "    <tr>\n",
       "      <th>pka_GENE_OR_GENE_PRODUCT</th>\n",
       "      <td>0.000800</td>\n",
       "      <td>0.000000</td>\n",
       "      <td>0.000000</td>\n",
       "      <td>0.000000</td>\n",
       "      <td>0.049709</td>\n",
       "      <td>0.000161</td>\n",
       "      <td>0.000000</td>\n",
       "      <td>0.000000</td>\n",
       "      <td>0.000000</td>\n",
       "      <td>0.000000</td>\n",
       "      <td>...</td>\n",
       "      <td>0.000000</td>\n",
       "      <td>0.000354</td>\n",
       "      <td>0.002053</td>\n",
       "      <td>0.000029</td>\n",
       "      <td>0.000000e+00</td>\n",
       "      <td>0.000000</td>\n",
       "      <td>0.017074</td>\n",
       "      <td>0.000000</td>\n",
       "      <td>0.000000</td>\n",
       "      <td>0.000000</td>\n",
       "    </tr>\n",
       "    <tr>\n",
       "      <th>erk_GENE_OR_GENE_PRODUCT</th>\n",
       "      <td>0.000000</td>\n",
       "      <td>0.008075</td>\n",
       "      <td>0.000000</td>\n",
       "      <td>0.000000</td>\n",
       "      <td>0.002857</td>\n",
       "      <td>0.026337</td>\n",
       "      <td>0.000000</td>\n",
       "      <td>0.003030</td>\n",
       "      <td>0.001082</td>\n",
       "      <td>0.003666</td>\n",
       "      <td>...</td>\n",
       "      <td>0.000000</td>\n",
       "      <td>0.000000</td>\n",
       "      <td>0.037148</td>\n",
       "      <td>0.003786</td>\n",
       "      <td>0.000000e+00</td>\n",
       "      <td>0.000000</td>\n",
       "      <td>0.009583</td>\n",
       "      <td>0.000000</td>\n",
       "      <td>0.001108</td>\n",
       "      <td>0.000000</td>\n",
       "    </tr>\n",
       "    <tr>\n",
       "      <th>mapk_GENE_OR_GENE_PRODUCT</th>\n",
       "      <td>0.000000</td>\n",
       "      <td>0.006970</td>\n",
       "      <td>0.000000</td>\n",
       "      <td>0.000000</td>\n",
       "      <td>0.002468</td>\n",
       "      <td>0.025660</td>\n",
       "      <td>0.000000</td>\n",
       "      <td>0.001278</td>\n",
       "      <td>0.001148</td>\n",
       "      <td>0.001693</td>\n",
       "      <td>...</td>\n",
       "      <td>0.000000</td>\n",
       "      <td>0.000000</td>\n",
       "      <td>0.022045</td>\n",
       "      <td>0.000000</td>\n",
       "      <td>4.642342e-04</td>\n",
       "      <td>0.000000</td>\n",
       "      <td>0.009246</td>\n",
       "      <td>0.000000</td>\n",
       "      <td>0.000670</td>\n",
       "      <td>0.000000</td>\n",
       "    </tr>\n",
       "    <tr>\n",
       "      <th>pkcalpha_GENE_OR_GENE_PRODUCT</th>\n",
       "      <td>0.000021</td>\n",
       "      <td>0.000084</td>\n",
       "      <td>0.000000</td>\n",
       "      <td>0.000000</td>\n",
       "      <td>0.000000</td>\n",
       "      <td>0.000360</td>\n",
       "      <td>0.000000</td>\n",
       "      <td>0.000110</td>\n",
       "      <td>0.000399</td>\n",
       "      <td>0.000013</td>\n",
       "      <td>...</td>\n",
       "      <td>0.000333</td>\n",
       "      <td>0.000031</td>\n",
       "      <td>0.000050</td>\n",
       "      <td>0.000216</td>\n",
       "      <td>0.000000e+00</td>\n",
       "      <td>0.000000</td>\n",
       "      <td>0.009243</td>\n",
       "      <td>0.000000</td>\n",
       "      <td>0.000018</td>\n",
       "      <td>0.000194</td>\n",
       "    </tr>\n",
       "    <tr>\n",
       "      <th>erk1_GENE_OR_GENE_PRODUCT</th>\n",
       "      <td>0.000000</td>\n",
       "      <td>0.002342</td>\n",
       "      <td>0.000000</td>\n",
       "      <td>0.000000</td>\n",
       "      <td>0.003623</td>\n",
       "      <td>0.009938</td>\n",
       "      <td>0.000000</td>\n",
       "      <td>0.000650</td>\n",
       "      <td>0.001001</td>\n",
       "      <td>0.001721</td>\n",
       "      <td>...</td>\n",
       "      <td>0.000000</td>\n",
       "      <td>0.000418</td>\n",
       "      <td>0.011343</td>\n",
       "      <td>0.002552</td>\n",
       "      <td>0.000000e+00</td>\n",
       "      <td>0.000000</td>\n",
       "      <td>0.008541</td>\n",
       "      <td>0.000000</td>\n",
       "      <td>0.001776</td>\n",
       "      <td>0.000326</td>\n",
       "    </tr>\n",
       "    <tr>\n",
       "      <th>plc_GENE_OR_GENE_PRODUCT</th>\n",
       "      <td>0.000000</td>\n",
       "      <td>0.000079</td>\n",
       "      <td>0.000000</td>\n",
       "      <td>0.000028</td>\n",
       "      <td>0.000226</td>\n",
       "      <td>0.000000</td>\n",
       "      <td>0.000000</td>\n",
       "      <td>0.029261</td>\n",
       "      <td>0.000000</td>\n",
       "      <td>0.000551</td>\n",
       "      <td>...</td>\n",
       "      <td>0.000874</td>\n",
       "      <td>0.000207</td>\n",
       "      <td>0.000141</td>\n",
       "      <td>0.000000</td>\n",
       "      <td>0.000000e+00</td>\n",
       "      <td>0.000000</td>\n",
       "      <td>0.007386</td>\n",
       "      <td>0.000000</td>\n",
       "      <td>0.000000</td>\n",
       "      <td>0.000470</td>\n",
       "    </tr>\n",
       "    <tr>\n",
       "      <th>pkcs_GENE_OR_GENE_PRODUCT</th>\n",
       "      <td>0.000000</td>\n",
       "      <td>0.000024</td>\n",
       "      <td>0.000002</td>\n",
       "      <td>0.000000</td>\n",
       "      <td>0.000000</td>\n",
       "      <td>0.000000</td>\n",
       "      <td>0.000000</td>\n",
       "      <td>0.000000</td>\n",
       "      <td>0.000000</td>\n",
       "      <td>0.000045</td>\n",
       "      <td>...</td>\n",
       "      <td>0.001038</td>\n",
       "      <td>0.000000</td>\n",
       "      <td>0.000000</td>\n",
       "      <td>0.000000</td>\n",
       "      <td>0.000000e+00</td>\n",
       "      <td>0.000000</td>\n",
       "      <td>0.007009</td>\n",
       "      <td>0.000000</td>\n",
       "      <td>0.000000</td>\n",
       "      <td>0.000000</td>\n",
       "    </tr>\n",
       "    <tr>\n",
       "      <th>pkc alpha_GENE_OR_GENE_PRODUCT</th>\n",
       "      <td>0.000018</td>\n",
       "      <td>0.000000</td>\n",
       "      <td>0.000000</td>\n",
       "      <td>0.000000</td>\n",
       "      <td>0.000000</td>\n",
       "      <td>0.000000</td>\n",
       "      <td>0.000000</td>\n",
       "      <td>0.000000</td>\n",
       "      <td>0.000000</td>\n",
       "      <td>0.000000</td>\n",
       "      <td>...</td>\n",
       "      <td>0.000000</td>\n",
       "      <td>0.000020</td>\n",
       "      <td>0.000000</td>\n",
       "      <td>0.000014</td>\n",
       "      <td>1.152071e-07</td>\n",
       "      <td>0.000000</td>\n",
       "      <td>0.005440</td>\n",
       "      <td>0.000000</td>\n",
       "      <td>0.000000</td>\n",
       "      <td>0.000000</td>\n",
       "    </tr>\n",
       "    <tr>\n",
       "      <th>pkcdelta_GENE_OR_GENE_PRODUCT</th>\n",
       "      <td>0.000229</td>\n",
       "      <td>0.000000</td>\n",
       "      <td>0.000000</td>\n",
       "      <td>0.000000</td>\n",
       "      <td>0.000000</td>\n",
       "      <td>0.000613</td>\n",
       "      <td>0.000065</td>\n",
       "      <td>0.000135</td>\n",
       "      <td>0.000086</td>\n",
       "      <td>0.000000</td>\n",
       "      <td>...</td>\n",
       "      <td>0.001006</td>\n",
       "      <td>0.000039</td>\n",
       "      <td>0.000051</td>\n",
       "      <td>0.000314</td>\n",
       "      <td>0.000000e+00</td>\n",
       "      <td>0.000000</td>\n",
       "      <td>0.005328</td>\n",
       "      <td>0.000058</td>\n",
       "      <td>0.000141</td>\n",
       "      <td>0.000166</td>\n",
       "    </tr>\n",
       "    <tr>\n",
       "      <th>egf_GENE_OR_GENE_PRODUCT</th>\n",
       "      <td>0.000076</td>\n",
       "      <td>0.000000</td>\n",
       "      <td>0.000000</td>\n",
       "      <td>0.000000</td>\n",
       "      <td>0.000095</td>\n",
       "      <td>0.000000</td>\n",
       "      <td>0.000000</td>\n",
       "      <td>0.000000</td>\n",
       "      <td>0.000000</td>\n",
       "      <td>0.000000</td>\n",
       "      <td>...</td>\n",
       "      <td>0.000000</td>\n",
       "      <td>0.000000</td>\n",
       "      <td>0.000000</td>\n",
       "      <td>0.000000</td>\n",
       "      <td>0.000000e+00</td>\n",
       "      <td>0.004015</td>\n",
       "      <td>0.005308</td>\n",
       "      <td>0.000000</td>\n",
       "      <td>0.000000</td>\n",
       "      <td>0.000000</td>\n",
       "    </tr>\n",
       "    <tr>\n",
       "      <th>pkc-alpha_GENE_OR_GENE_PRODUCT</th>\n",
       "      <td>0.000041</td>\n",
       "      <td>0.000036</td>\n",
       "      <td>0.000033</td>\n",
       "      <td>0.000065</td>\n",
       "      <td>0.000004</td>\n",
       "      <td>0.000094</td>\n",
       "      <td>0.000159</td>\n",
       "      <td>0.000000</td>\n",
       "      <td>0.000027</td>\n",
       "      <td>0.000009</td>\n",
       "      <td>...</td>\n",
       "      <td>0.000665</td>\n",
       "      <td>0.000000</td>\n",
       "      <td>0.000026</td>\n",
       "      <td>0.000000</td>\n",
       "      <td>6.358483e-05</td>\n",
       "      <td>0.000000</td>\n",
       "      <td>0.004899</td>\n",
       "      <td>0.000000</td>\n",
       "      <td>0.000000</td>\n",
       "      <td>0.000000</td>\n",
       "    </tr>\n",
       "    <tr>\n",
       "      <th>mek_GENE_OR_GENE_PRODUCT</th>\n",
       "      <td>0.000000</td>\n",
       "      <td>0.005660</td>\n",
       "      <td>0.000000</td>\n",
       "      <td>0.000000</td>\n",
       "      <td>0.000312</td>\n",
       "      <td>0.006052</td>\n",
       "      <td>0.000000</td>\n",
       "      <td>0.000000</td>\n",
       "      <td>0.000134</td>\n",
       "      <td>0.003403</td>\n",
       "      <td>...</td>\n",
       "      <td>0.000000</td>\n",
       "      <td>0.000109</td>\n",
       "      <td>0.012024</td>\n",
       "      <td>0.000158</td>\n",
       "      <td>1.678852e-03</td>\n",
       "      <td>0.000000</td>\n",
       "      <td>0.004607</td>\n",
       "      <td>0.000000</td>\n",
       "      <td>0.000000</td>\n",
       "      <td>0.000000</td>\n",
       "    </tr>\n",
       "    <tr>\n",
       "      <th>calphostin c_GENE_OR_GENE_PRODUCT</th>\n",
       "      <td>0.000042</td>\n",
       "      <td>0.000000</td>\n",
       "      <td>0.000026</td>\n",
       "      <td>0.000000</td>\n",
       "      <td>0.000058</td>\n",
       "      <td>0.000030</td>\n",
       "      <td>0.000059</td>\n",
       "      <td>0.000000</td>\n",
       "      <td>0.000000</td>\n",
       "      <td>0.000053</td>\n",
       "      <td>...</td>\n",
       "      <td>0.001393</td>\n",
       "      <td>0.000000</td>\n",
       "      <td>0.000000</td>\n",
       "      <td>0.000032</td>\n",
       "      <td>4.624408e-08</td>\n",
       "      <td>0.000000</td>\n",
       "      <td>0.004028</td>\n",
       "      <td>0.000077</td>\n",
       "      <td>0.000021</td>\n",
       "      <td>0.000000</td>\n",
       "    </tr>\n",
       "    <tr>\n",
       "      <th>pkcα_GENE_OR_GENE_PRODUCT</th>\n",
       "      <td>0.000000</td>\n",
       "      <td>0.000037</td>\n",
       "      <td>0.000021</td>\n",
       "      <td>0.000086</td>\n",
       "      <td>0.000000</td>\n",
       "      <td>0.000015</td>\n",
       "      <td>0.000000</td>\n",
       "      <td>0.000000</td>\n",
       "      <td>0.000000</td>\n",
       "      <td>0.000131</td>\n",
       "      <td>...</td>\n",
       "      <td>0.000916</td>\n",
       "      <td>0.000193</td>\n",
       "      <td>0.000081</td>\n",
       "      <td>0.000160</td>\n",
       "      <td>0.000000e+00</td>\n",
       "      <td>0.000000</td>\n",
       "      <td>0.003946</td>\n",
       "      <td>0.000017</td>\n",
       "      <td>0.000026</td>\n",
       "      <td>0.000000</td>\n",
       "    </tr>\n",
       "    <tr>\n",
       "      <th>pkcepsilon_GENE_OR_GENE_PRODUCT</th>\n",
       "      <td>0.000000</td>\n",
       "      <td>0.000071</td>\n",
       "      <td>0.000000</td>\n",
       "      <td>0.000042</td>\n",
       "      <td>0.000000</td>\n",
       "      <td>0.000082</td>\n",
       "      <td>0.000000</td>\n",
       "      <td>0.000000</td>\n",
       "      <td>0.000208</td>\n",
       "      <td>0.000000</td>\n",
       "      <td>...</td>\n",
       "      <td>0.000826</td>\n",
       "      <td>0.000000</td>\n",
       "      <td>0.000064</td>\n",
       "      <td>0.000109</td>\n",
       "      <td>0.000000e+00</td>\n",
       "      <td>0.000000</td>\n",
       "      <td>0.003727</td>\n",
       "      <td>0.000012</td>\n",
       "      <td>0.000045</td>\n",
       "      <td>0.000000</td>\n",
       "    </tr>\n",
       "    <tr>\n",
       "      <th>nadph oxidase_GENE_OR_GENE_PRODUCT</th>\n",
       "      <td>0.000000</td>\n",
       "      <td>0.000017</td>\n",
       "      <td>0.000000</td>\n",
       "      <td>0.001905</td>\n",
       "      <td>0.000000</td>\n",
       "      <td>0.000456</td>\n",
       "      <td>0.000000</td>\n",
       "      <td>0.000014</td>\n",
       "      <td>0.000000</td>\n",
       "      <td>0.000441</td>\n",
       "      <td>...</td>\n",
       "      <td>0.005260</td>\n",
       "      <td>0.001189</td>\n",
       "      <td>0.000086</td>\n",
       "      <td>0.000027</td>\n",
       "      <td>0.000000e+00</td>\n",
       "      <td>0.000000</td>\n",
       "      <td>0.003502</td>\n",
       "      <td>0.000359</td>\n",
       "      <td>0.000000</td>\n",
       "      <td>0.008101</td>\n",
       "    </tr>\n",
       "    <tr>\n",
       "      <th>ptk_GENE_OR_GENE_PRODUCT</th>\n",
       "      <td>0.000336</td>\n",
       "      <td>0.000004</td>\n",
       "      <td>0.000106</td>\n",
       "      <td>0.000101</td>\n",
       "      <td>0.000204</td>\n",
       "      <td>0.000085</td>\n",
       "      <td>0.000000</td>\n",
       "      <td>0.002309</td>\n",
       "      <td>0.000812</td>\n",
       "      <td>0.000031</td>\n",
       "      <td>...</td>\n",
       "      <td>0.000249</td>\n",
       "      <td>0.000000</td>\n",
       "      <td>0.000065</td>\n",
       "      <td>0.000334</td>\n",
       "      <td>8.260396e-04</td>\n",
       "      <td>0.001620</td>\n",
       "      <td>0.003401</td>\n",
       "      <td>0.000034</td>\n",
       "      <td>0.000160</td>\n",
       "      <td>0.000075</td>\n",
       "    </tr>\n",
       "    <tr>\n",
       "      <th>pld_GENE_OR_GENE_PRODUCT</th>\n",
       "      <td>0.000000</td>\n",
       "      <td>0.000000</td>\n",
       "      <td>0.000000</td>\n",
       "      <td>0.000000</td>\n",
       "      <td>0.000000</td>\n",
       "      <td>0.000000</td>\n",
       "      <td>0.000000</td>\n",
       "      <td>0.001871</td>\n",
       "      <td>0.000000</td>\n",
       "      <td>0.005975</td>\n",
       "      <td>...</td>\n",
       "      <td>0.001677</td>\n",
       "      <td>0.000000</td>\n",
       "      <td>0.000000</td>\n",
       "      <td>0.000000</td>\n",
       "      <td>0.000000e+00</td>\n",
       "      <td>0.000000</td>\n",
       "      <td>0.003244</td>\n",
       "      <td>0.000000</td>\n",
       "      <td>0.000000</td>\n",
       "      <td>0.000000</td>\n",
       "    </tr>\n",
       "  </tbody>\n",
       "</table>\n",
       "<p>20 rows × 25 columns</p>\n",
       "</div>"
      ],
      "text/plain": [
       "                                             0         1         2         3   \\\n",
       "pkc_GENE_OR_GENE_PRODUCT               0.000000  0.000000  0.000000  0.000000   \n",
       "protein kinase c_GENE_OR_GENE_PRODUCT  0.000000  0.000002  0.000000  0.000000   \n",
       "pka_GENE_OR_GENE_PRODUCT               0.000800  0.000000  0.000000  0.000000   \n",
       "erk_GENE_OR_GENE_PRODUCT               0.000000  0.008075  0.000000  0.000000   \n",
       "mapk_GENE_OR_GENE_PRODUCT              0.000000  0.006970  0.000000  0.000000   \n",
       "pkcalpha_GENE_OR_GENE_PRODUCT          0.000021  0.000084  0.000000  0.000000   \n",
       "erk1_GENE_OR_GENE_PRODUCT              0.000000  0.002342  0.000000  0.000000   \n",
       "plc_GENE_OR_GENE_PRODUCT               0.000000  0.000079  0.000000  0.000028   \n",
       "pkcs_GENE_OR_GENE_PRODUCT              0.000000  0.000024  0.000002  0.000000   \n",
       "pkc alpha_GENE_OR_GENE_PRODUCT         0.000018  0.000000  0.000000  0.000000   \n",
       "pkcdelta_GENE_OR_GENE_PRODUCT          0.000229  0.000000  0.000000  0.000000   \n",
       "egf_GENE_OR_GENE_PRODUCT               0.000076  0.000000  0.000000  0.000000   \n",
       "pkc-alpha_GENE_OR_GENE_PRODUCT         0.000041  0.000036  0.000033  0.000065   \n",
       "mek_GENE_OR_GENE_PRODUCT               0.000000  0.005660  0.000000  0.000000   \n",
       "calphostin c_GENE_OR_GENE_PRODUCT      0.000042  0.000000  0.000026  0.000000   \n",
       "pkcα_GENE_OR_GENE_PRODUCT              0.000000  0.000037  0.000021  0.000086   \n",
       "pkcepsilon_GENE_OR_GENE_PRODUCT        0.000000  0.000071  0.000000  0.000042   \n",
       "nadph oxidase_GENE_OR_GENE_PRODUCT     0.000000  0.000017  0.000000  0.001905   \n",
       "ptk_GENE_OR_GENE_PRODUCT               0.000336  0.000004  0.000106  0.000101   \n",
       "pld_GENE_OR_GENE_PRODUCT               0.000000  0.000000  0.000000  0.000000   \n",
       "\n",
       "                                             4         5         6         7   \\\n",
       "pkc_GENE_OR_GENE_PRODUCT               0.000000  0.000000  0.000000  0.000000   \n",
       "protein kinase c_GENE_OR_GENE_PRODUCT  0.000000  0.000000  0.000000  0.000000   \n",
       "pka_GENE_OR_GENE_PRODUCT               0.049709  0.000161  0.000000  0.000000   \n",
       "erk_GENE_OR_GENE_PRODUCT               0.002857  0.026337  0.000000  0.003030   \n",
       "mapk_GENE_OR_GENE_PRODUCT              0.002468  0.025660  0.000000  0.001278   \n",
       "pkcalpha_GENE_OR_GENE_PRODUCT          0.000000  0.000360  0.000000  0.000110   \n",
       "erk1_GENE_OR_GENE_PRODUCT              0.003623  0.009938  0.000000  0.000650   \n",
       "plc_GENE_OR_GENE_PRODUCT               0.000226  0.000000  0.000000  0.029261   \n",
       "pkcs_GENE_OR_GENE_PRODUCT              0.000000  0.000000  0.000000  0.000000   \n",
       "pkc alpha_GENE_OR_GENE_PRODUCT         0.000000  0.000000  0.000000  0.000000   \n",
       "pkcdelta_GENE_OR_GENE_PRODUCT          0.000000  0.000613  0.000065  0.000135   \n",
       "egf_GENE_OR_GENE_PRODUCT               0.000095  0.000000  0.000000  0.000000   \n",
       "pkc-alpha_GENE_OR_GENE_PRODUCT         0.000004  0.000094  0.000159  0.000000   \n",
       "mek_GENE_OR_GENE_PRODUCT               0.000312  0.006052  0.000000  0.000000   \n",
       "calphostin c_GENE_OR_GENE_PRODUCT      0.000058  0.000030  0.000059  0.000000   \n",
       "pkcα_GENE_OR_GENE_PRODUCT              0.000000  0.000015  0.000000  0.000000   \n",
       "pkcepsilon_GENE_OR_GENE_PRODUCT        0.000000  0.000082  0.000000  0.000000   \n",
       "nadph oxidase_GENE_OR_GENE_PRODUCT     0.000000  0.000456  0.000000  0.000014   \n",
       "ptk_GENE_OR_GENE_PRODUCT               0.000204  0.000085  0.000000  0.002309   \n",
       "pld_GENE_OR_GENE_PRODUCT               0.000000  0.000000  0.000000  0.001871   \n",
       "\n",
       "                                             8         9   ...        15  \\\n",
       "pkc_GENE_OR_GENE_PRODUCT               0.000000  0.000000  ...  0.000000   \n",
       "protein kinase c_GENE_OR_GENE_PRODUCT  0.000733  0.000000  ...  0.305021   \n",
       "pka_GENE_OR_GENE_PRODUCT               0.000000  0.000000  ...  0.000000   \n",
       "erk_GENE_OR_GENE_PRODUCT               0.001082  0.003666  ...  0.000000   \n",
       "mapk_GENE_OR_GENE_PRODUCT              0.001148  0.001693  ...  0.000000   \n",
       "pkcalpha_GENE_OR_GENE_PRODUCT          0.000399  0.000013  ...  0.000333   \n",
       "erk1_GENE_OR_GENE_PRODUCT              0.001001  0.001721  ...  0.000000   \n",
       "plc_GENE_OR_GENE_PRODUCT               0.000000  0.000551  ...  0.000874   \n",
       "pkcs_GENE_OR_GENE_PRODUCT              0.000000  0.000045  ...  0.001038   \n",
       "pkc alpha_GENE_OR_GENE_PRODUCT         0.000000  0.000000  ...  0.000000   \n",
       "pkcdelta_GENE_OR_GENE_PRODUCT          0.000086  0.000000  ...  0.001006   \n",
       "egf_GENE_OR_GENE_PRODUCT               0.000000  0.000000  ...  0.000000   \n",
       "pkc-alpha_GENE_OR_GENE_PRODUCT         0.000027  0.000009  ...  0.000665   \n",
       "mek_GENE_OR_GENE_PRODUCT               0.000134  0.003403  ...  0.000000   \n",
       "calphostin c_GENE_OR_GENE_PRODUCT      0.000000  0.000053  ...  0.001393   \n",
       "pkcα_GENE_OR_GENE_PRODUCT              0.000000  0.000131  ...  0.000916   \n",
       "pkcepsilon_GENE_OR_GENE_PRODUCT        0.000208  0.000000  ...  0.000826   \n",
       "nadph oxidase_GENE_OR_GENE_PRODUCT     0.000000  0.000441  ...  0.005260   \n",
       "ptk_GENE_OR_GENE_PRODUCT               0.000812  0.000031  ...  0.000249   \n",
       "pld_GENE_OR_GENE_PRODUCT               0.000000  0.005975  ...  0.001677   \n",
       "\n",
       "                                             16        17        18  \\\n",
       "pkc_GENE_OR_GENE_PRODUCT               0.000000  0.000000  0.000000   \n",
       "protein kinase c_GENE_OR_GENE_PRODUCT  0.000000  0.000000  0.000000   \n",
       "pka_GENE_OR_GENE_PRODUCT               0.000354  0.002053  0.000029   \n",
       "erk_GENE_OR_GENE_PRODUCT               0.000000  0.037148  0.003786   \n",
       "mapk_GENE_OR_GENE_PRODUCT              0.000000  0.022045  0.000000   \n",
       "pkcalpha_GENE_OR_GENE_PRODUCT          0.000031  0.000050  0.000216   \n",
       "erk1_GENE_OR_GENE_PRODUCT              0.000418  0.011343  0.002552   \n",
       "plc_GENE_OR_GENE_PRODUCT               0.000207  0.000141  0.000000   \n",
       "pkcs_GENE_OR_GENE_PRODUCT              0.000000  0.000000  0.000000   \n",
       "pkc alpha_GENE_OR_GENE_PRODUCT         0.000020  0.000000  0.000014   \n",
       "pkcdelta_GENE_OR_GENE_PRODUCT          0.000039  0.000051  0.000314   \n",
       "egf_GENE_OR_GENE_PRODUCT               0.000000  0.000000  0.000000   \n",
       "pkc-alpha_GENE_OR_GENE_PRODUCT         0.000000  0.000026  0.000000   \n",
       "mek_GENE_OR_GENE_PRODUCT               0.000109  0.012024  0.000158   \n",
       "calphostin c_GENE_OR_GENE_PRODUCT      0.000000  0.000000  0.000032   \n",
       "pkcα_GENE_OR_GENE_PRODUCT              0.000193  0.000081  0.000160   \n",
       "pkcepsilon_GENE_OR_GENE_PRODUCT        0.000000  0.000064  0.000109   \n",
       "nadph oxidase_GENE_OR_GENE_PRODUCT     0.001189  0.000086  0.000027   \n",
       "ptk_GENE_OR_GENE_PRODUCT               0.000000  0.000065  0.000334   \n",
       "pld_GENE_OR_GENE_PRODUCT               0.000000  0.000000  0.000000   \n",
       "\n",
       "                                                 19        20        21  \\\n",
       "pkc_GENE_OR_GENE_PRODUCT               3.635109e-03  0.000000  0.295121   \n",
       "protein kinase c_GENE_OR_GENE_PRODUCT  0.000000e+00  0.000000  0.027193   \n",
       "pka_GENE_OR_GENE_PRODUCT               0.000000e+00  0.000000  0.017074   \n",
       "erk_GENE_OR_GENE_PRODUCT               0.000000e+00  0.000000  0.009583   \n",
       "mapk_GENE_OR_GENE_PRODUCT              4.642342e-04  0.000000  0.009246   \n",
       "pkcalpha_GENE_OR_GENE_PRODUCT          0.000000e+00  0.000000  0.009243   \n",
       "erk1_GENE_OR_GENE_PRODUCT              0.000000e+00  0.000000  0.008541   \n",
       "plc_GENE_OR_GENE_PRODUCT               0.000000e+00  0.000000  0.007386   \n",
       "pkcs_GENE_OR_GENE_PRODUCT              0.000000e+00  0.000000  0.007009   \n",
       "pkc alpha_GENE_OR_GENE_PRODUCT         1.152071e-07  0.000000  0.005440   \n",
       "pkcdelta_GENE_OR_GENE_PRODUCT          0.000000e+00  0.000000  0.005328   \n",
       "egf_GENE_OR_GENE_PRODUCT               0.000000e+00  0.004015  0.005308   \n",
       "pkc-alpha_GENE_OR_GENE_PRODUCT         6.358483e-05  0.000000  0.004899   \n",
       "mek_GENE_OR_GENE_PRODUCT               1.678852e-03  0.000000  0.004607   \n",
       "calphostin c_GENE_OR_GENE_PRODUCT      4.624408e-08  0.000000  0.004028   \n",
       "pkcα_GENE_OR_GENE_PRODUCT              0.000000e+00  0.000000  0.003946   \n",
       "pkcepsilon_GENE_OR_GENE_PRODUCT        0.000000e+00  0.000000  0.003727   \n",
       "nadph oxidase_GENE_OR_GENE_PRODUCT     0.000000e+00  0.000000  0.003502   \n",
       "ptk_GENE_OR_GENE_PRODUCT               8.260396e-04  0.001620  0.003401   \n",
       "pld_GENE_OR_GENE_PRODUCT               0.000000e+00  0.000000  0.003244   \n",
       "\n",
       "                                             22        23        24  \n",
       "pkc_GENE_OR_GENE_PRODUCT               0.000000  0.000000  0.000004  \n",
       "protein kinase c_GENE_OR_GENE_PRODUCT  0.000000  0.000000  0.000277  \n",
       "pka_GENE_OR_GENE_PRODUCT               0.000000  0.000000  0.000000  \n",
       "erk_GENE_OR_GENE_PRODUCT               0.000000  0.001108  0.000000  \n",
       "mapk_GENE_OR_GENE_PRODUCT              0.000000  0.000670  0.000000  \n",
       "pkcalpha_GENE_OR_GENE_PRODUCT          0.000000  0.000018  0.000194  \n",
       "erk1_GENE_OR_GENE_PRODUCT              0.000000  0.001776  0.000326  \n",
       "plc_GENE_OR_GENE_PRODUCT               0.000000  0.000000  0.000470  \n",
       "pkcs_GENE_OR_GENE_PRODUCT              0.000000  0.000000  0.000000  \n",
       "pkc alpha_GENE_OR_GENE_PRODUCT         0.000000  0.000000  0.000000  \n",
       "pkcdelta_GENE_OR_GENE_PRODUCT          0.000058  0.000141  0.000166  \n",
       "egf_GENE_OR_GENE_PRODUCT               0.000000  0.000000  0.000000  \n",
       "pkc-alpha_GENE_OR_GENE_PRODUCT         0.000000  0.000000  0.000000  \n",
       "mek_GENE_OR_GENE_PRODUCT               0.000000  0.000000  0.000000  \n",
       "calphostin c_GENE_OR_GENE_PRODUCT      0.000077  0.000021  0.000000  \n",
       "pkcα_GENE_OR_GENE_PRODUCT              0.000017  0.000026  0.000000  \n",
       "pkcepsilon_GENE_OR_GENE_PRODUCT        0.000012  0.000045  0.000000  \n",
       "nadph oxidase_GENE_OR_GENE_PRODUCT     0.000359  0.000000  0.008101  \n",
       "ptk_GENE_OR_GENE_PRODUCT               0.000034  0.000160  0.000075  \n",
       "pld_GENE_OR_GENE_PRODUCT               0.000000  0.000000  0.000000  \n",
       "\n",
       "[20 rows x 25 columns]"
      ]
     },
     "execution_count": 150,
     "metadata": {},
     "output_type": "execute_result"
    }
   ],
   "source": [
    "nmf_term_topic.sort_values(21,ascending=False).head(20)"
   ]
  },
  {
   "cell_type": "code",
   "execution_count": null,
   "metadata": {},
   "outputs": [],
   "source": []
  },
  {
   "cell_type": "code",
   "execution_count": 3,
   "metadata": {},
   "outputs": [],
   "source": [
    "docs_corpus = [doc_dict.doc2bow(doc) for doc in docs]"
   ]
  },
  {
   "cell_type": "code",
   "execution_count": 4,
   "metadata": {},
   "outputs": [],
   "source": [
    "doc_topics = nmf.get_document_topics(docs_corpus)"
   ]
  },
  {
   "cell_type": "code",
   "execution_count": 5,
   "metadata": {},
   "outputs": [
    {
     "data": {
      "text/plain": [
       "337871"
      ]
     },
     "execution_count": 5,
     "metadata": {},
     "output_type": "execute_result"
    }
   ],
   "source": [
    "len(doc_topics)"
   ]
  },
  {
   "cell_type": "code",
   "execution_count": 7,
   "metadata": {},
   "outputs": [],
   "source": [
    "import numpy as np"
   ]
  },
  {
   "cell_type": "code",
   "execution_count": 8,
   "metadata": {},
   "outputs": [],
   "source": [
    "doc_topic_matrix = np.zeros((337871,25))"
   ]
  },
  {
   "cell_type": "code",
   "execution_count": 9,
   "metadata": {},
   "outputs": [],
   "source": [
    "\n",
    "for i, doc in enumerate(doc_topics):\n",
    "    for p in doc:\n",
    "        doc_topic_matrix[i,p[0]] = p[1]\n",
    "    "
   ]
  },
  {
   "cell_type": "code",
   "execution_count": 10,
   "metadata": {},
   "outputs": [
    {
     "data": {
      "text/plain": [
       "(337871, 25)"
      ]
     },
     "execution_count": 10,
     "metadata": {},
     "output_type": "execute_result"
    }
   ],
   "source": [
    "doc_topic_matrix.shape"
   ]
  },
  {
   "cell_type": "code",
   "execution_count": 11,
   "metadata": {},
   "outputs": [],
   "source": [
    "keep_abstract = doc_topic_matrix.sum(axis=1)!= 0"
   ]
  },
  {
   "cell_type": "code",
   "execution_count": 12,
   "metadata": {},
   "outputs": [
    {
     "data": {
      "text/plain": [
       "(294319, 25)"
      ]
     },
     "execution_count": 12,
     "metadata": {},
     "output_type": "execute_result"
    }
   ],
   "source": [
    "doc_topic_matrix[keep_abstract].shape"
   ]
  },
  {
   "cell_type": "code",
   "execution_count": 13,
   "metadata": {},
   "outputs": [],
   "source": [
    "doc_topic_matrix = doc_topic_matrix[keep_abstract]"
   ]
  },
  {
   "cell_type": "code",
   "execution_count": 179,
   "metadata": {},
   "outputs": [],
   "source": [
    "inertias = []\n",
    "\n",
    "for k in np.arange(25, 55, 5):\n",
    "    km = KMeans(n_clusters=k)\n",
    "    km.fit(doc_topic_matrix)\n",
    "    inertias.append(km.inertia_)"
   ]
  },
  {
   "cell_type": "code",
   "execution_count": 184,
   "metadata": {},
   "outputs": [],
   "source": [
    "for k in np.arange(55, 80, 5):\n",
    "    km = KMeans(n_clusters=k)\n",
    "    km.fit(doc_topic_matrix)\n",
    "    inertias.append(km.inertia_)"
   ]
  },
  {
   "cell_type": "code",
   "execution_count": 190,
   "metadata": {},
   "outputs": [],
   "source": [
    "inertias_low = []\n",
    "for k in np.arange(10, 25, 5):\n",
    "    km = KMeans(n_clusters=k)\n",
    "    km.fit(doc_topic_matrix)\n",
    "    inertias_low.append(km.inertia_)"
   ]
  },
  {
   "cell_type": "code",
   "execution_count": 191,
   "metadata": {},
   "outputs": [],
   "source": [
    "intertias_2 = inertias_low + inertias"
   ]
  },
  {
   "cell_type": "code",
   "execution_count": 181,
   "metadata": {},
   "outputs": [],
   "source": [
    "import matplotlib.pyplot as plt"
   ]
  },
  {
   "cell_type": "code",
   "execution_count": 192,
   "metadata": {},
   "outputs": [
    {
     "data": {
      "image/png": "[encoded data removed]",
      "text/plain": [
       "<Figure size 432x288 with 1 Axes>"
      ]
     },
     "metadata": {
      "needs_background": "light"
     },
     "output_type": "display_data"
    }
   ],
   "source": [
    "plt.plot(np.arange(10, 80, 5), intertias_2, marker='o')\n",
    "plt.vlines(x=4, ymin=0, ymax=max(inertias), ls='--', label='Elbow')\n",
    "plt.ylabel(\"Inertia\")\n",
    "plt.xlabel('k')\n",
    "plt.legend();"
   ]
  },
  {
   "cell_type": "code",
   "execution_count": 94,
   "metadata": {},
   "outputs": [
    {
     "data": {
      "text/plain": [
       "KMeans(algorithm='auto', copy_x=True, init='k-means++', max_iter=300,\n",
       "       n_clusters=30, n_init=10, n_jobs=None, precompute_distances='auto',\n",
       "       random_state=None, tol=0.0001, verbose=0)"
      ]
     },
     "execution_count": 94,
     "metadata": {},
     "output_type": "execute_result"
    }
   ],
   "source": [
    "km = KMeans(n_clusters=30)\n",
    "km.fit(doc_topic_matrix)"
   ]
  },
  {
   "cell_type": "code",
   "execution_count": 275,
   "metadata": {},
   "outputs": [],
   "source": [
    "with open('kmeans_on_nmf_25.pickle', 'wb') as write_file:\n",
    "    pickle.dump(km, write_file)"
   ]
  },
  {
   "cell_type": "code",
   "execution_count": 95,
   "metadata": {},
   "outputs": [
    {
     "data": {
      "text/plain": [
       "294319"
      ]
     },
     "execution_count": 95,
     "metadata": {},
     "output_type": "execute_result"
    }
   ],
   "source": [
    "len(km.labels_)"
   ]
  },
  {
   "cell_type": "code",
   "execution_count": 96,
   "metadata": {},
   "outputs": [],
   "source": [
    "cluster_centers = km.cluster_centers_"
   ]
  },
  {
   "cell_type": "code",
   "execution_count": 21,
   "metadata": {},
   "outputs": [],
   "source": [
    "from collections import Counter"
   ]
  },
  {
   "cell_type": "code",
   "execution_count": 60,
   "metadata": {},
   "outputs": [],
   "source": [
    "import pandas as pd"
   ]
  },
  {
   "cell_type": "code",
   "execution_count": 97,
   "metadata": {},
   "outputs": [],
   "source": [
    "cluster_sizes = pd.Series(Counter(km.labels_)).sort_index()"
   ]
  },
  {
   "cell_type": "code",
   "execution_count": 293,
   "metadata": {},
   "outputs": [
    {
     "data": {
      "text/plain": [
       "0      5241\n",
       "1     14154\n",
       "2     13188\n",
       "3     18853\n",
       "4      7204\n",
       "5     12672\n",
       "6      8325\n",
       "7     14425\n",
       "8      7261\n",
       "9      5787\n",
       "10     6259\n",
       "11     8490\n",
       "12    10347\n",
       "13     9899\n",
       "14    11999\n",
       "15    13825\n",
       "16     6060\n",
       "17     5102\n",
       "18    11128\n",
       "19     2676\n",
       "20    14464\n",
       "21     9471\n",
       "22     6765\n",
       "23    31391\n",
       "24     3138\n",
       "25     4675\n",
       "26     3001\n",
       "27     7604\n",
       "28    12819\n",
       "29     8096\n",
       "dtype: int64"
      ]
     },
     "execution_count": 293,
     "metadata": {},
     "output_type": "execute_result"
    }
   ],
   "source": [
    "cluster_sizes"
   ]
  },
  {
   "cell_type": "code",
   "execution_count": 28,
   "metadata": {},
   "outputs": [],
   "source": [
    "from sklearn.manifold import TSNE"
   ]
  },
  {
   "cell_type": "code",
   "execution_count": 98,
   "metadata": {},
   "outputs": [],
   "source": [
    "clusters_embedded = TSNE(n_components=2, learning_rate=10, perplexity=4).fit_transform(cluster_centers)"
   ]
  },
  {
   "cell_type": "code",
   "execution_count": 107,
   "metadata": {},
   "outputs": [],
   "source": [
    "x = [i[0] for i in clusters_embedded]"
   ]
  },
  {
   "cell_type": "code",
   "execution_count": 108,
   "metadata": {},
   "outputs": [],
   "source": [
    "y = [i[1] for i in clusters_embedded]"
   ]
  },
  {
   "cell_type": "code",
   "execution_count": 30,
   "metadata": {},
   "outputs": [],
   "source": [
    "import seaborn as sns"
   ]
  },
  {
   "cell_type": "code",
   "execution_count": 102,
   "metadata": {},
   "outputs": [],
   "source": [
    "cluster_colors=np.arange(0,30)"
   ]
  },
  {
   "cell_type": "code",
   "execution_count": 84,
   "metadata": {},
   "outputs": [],
   "source": [
    "import matplotlib.pyplot as plt"
   ]
  },
  {
   "cell_type": "code",
   "execution_count": 713,
   "metadata": {},
   "outputs": [
    {
     "data": {
      "image/png": "[encoded data removed]",
      "text/plain": [
       "<Figure size 720x720 with 1 Axes>"
      ]
     },
     "metadata": {
      "needs_background": "light"
     },
     "output_type": "display_data"
    }
   ],
   "source": [
    "plt.figure(figsize=(10,10))\n",
    "plt.scatter(x,y, \n",
    "            c = cluster_colors, s=(cluster_sizes/4), cmap=\"cool\", alpha=0.5)\n",
    "i=-1\n",
    "for x_lab,y_lab in zip(x,y):\n",
    "    i +=1\n",
    "    plt.annotate(topic_labels[i],(x_lab,y_lab), ha=\"center\", fontsize=12)\n",
    "\n",
    "plt.xlabel('tSNE dimension 1',fontsize=12)\n",
    "plt.ylabel('tSNE dimension 2', fontsize=12)\n",
    "\n",
    "plt.savefig('tSNE_2.jpg')"
   ]
  },
  {
   "cell_type": "code",
   "execution_count": 120,
   "metadata": {},
   "outputs": [
    {
     "data": {
      "text/plain": [
       "337871"
      ]
     },
     "execution_count": 120,
     "metadata": {},
     "output_type": "execute_result"
    }
   ],
   "source": [
    "len(keep_abstract)"
   ]
  },
  {
   "cell_type": "code",
   "execution_count": 121,
   "metadata": {},
   "outputs": [
    {
     "data": {
      "text/plain": [
       "337871"
      ]
     },
     "execution_count": 121,
     "metadata": {},
     "output_type": "execute_result"
    }
   ],
   "source": [
    "len(docs)"
   ]
  },
  {
   "cell_type": "code",
   "execution_count": 525,
   "metadata": {},
   "outputs": [],
   "source": [
    "keep_docs = np.array(docs)"
   ]
  },
  {
   "cell_type": "code",
   "execution_count": 526,
   "metadata": {},
   "outputs": [],
   "source": [
    "keep_docs = keep_docs[keep_abstract]"
   ]
  },
  {
   "cell_type": "code",
   "execution_count": 527,
   "metadata": {},
   "outputs": [
    {
     "data": {
      "text/plain": [
       "294319"
      ]
     },
     "execution_count": 527,
     "metadata": {},
     "output_type": "execute_result"
    }
   ],
   "source": [
    "len(keep_docs)"
   ]
  },
  {
   "cell_type": "code",
   "execution_count": 528,
   "metadata": {},
   "outputs": [
    {
     "data": {
      "text/plain": [
       "294319"
      ]
     },
     "execution_count": 528,
     "metadata": {},
     "output_type": "execute_result"
    }
   ],
   "source": [
    "sum(keep_abstract)"
   ]
  },
  {
   "cell_type": "code",
   "execution_count": 529,
   "metadata": {},
   "outputs": [],
   "source": [
    "keep_docs = pd.DataFrame({'genes':keep_docs, 'label':km.labels_})"
   ]
  },
  {
   "cell_type": "code",
   "execution_count": 568,
   "metadata": {},
   "outputs": [],
   "source": [
    "from collections import defaultdict\n",
    "genes_dict = defaultdict(list)\n",
    "\n",
    "for i in range(0,30):\n",
    "    group = keep_docs[keep_docs['label']==i]['genes']\n",
    "    group = [g.replace(\"_GENE_OR_GENE_PRODUCT\",'') for j in list(group) for g in j]\n",
    "    genes_dict[i]= pd.Series(group).value_counts()/cluster_sizes[i]*100"
   ]
  },
  {
   "cell_type": "code",
   "execution_count": 362,
   "metadata": {},
   "outputs": [
    {
     "data": {
      "text/html": [
       "<div>\n",
       "<style scoped>\n",
       "    .dataframe tbody tr th:only-of-type {\n",
       "        vertical-align: middle;\n",
       "    }\n",
       "\n",
       "    .dataframe tbody tr th {\n",
       "        vertical-align: top;\n",
       "    }\n",
       "\n",
       "    .dataframe thead th {\n",
       "        text-align: right;\n",
       "    }\n",
       "</style>\n",
       "<table border=\"1\" class=\"dataframe\">\n",
       "  <thead>\n",
       "    <tr style=\"text-align: right;\">\n",
       "      <th></th>\n",
       "      <th>other</th>\n",
       "      <th>label</th>\n",
       "    </tr>\n",
       "  </thead>\n",
       "  <tbody>\n",
       "    <tr>\n",
       "      <th>0</th>\n",
       "      <td>[rat hypothalamus_ORGANISM, neurointermediate ...</td>\n",
       "      <td>7</td>\n",
       "    </tr>\n",
       "    <tr>\n",
       "      <th>1</th>\n",
       "      <td>[human interleukin-2_ORGANISM, mouse cells_ORG...</td>\n",
       "      <td>26</td>\n",
       "    </tr>\n",
       "    <tr>\n",
       "      <th>2</th>\n",
       "      <td>[human natural killer cells_ORGANISM, manuscri...</td>\n",
       "      <td>19</td>\n",
       "    </tr>\n",
       "    <tr>\n",
       "      <th>3</th>\n",
       "      <td>[blood glucose_ORGANISM_SUBSTANCE, intravenous...</td>\n",
       "      <td>6</td>\n",
       "    </tr>\n",
       "    <tr>\n",
       "      <th>4</th>\n",
       "      <td>[phorbol ester_SIMPLE_CHEMICAL, human hematopo...</td>\n",
       "      <td>25</td>\n",
       "    </tr>\n",
       "  </tbody>\n",
       "</table>\n",
       "</div>"
      ],
      "text/plain": [
       "                                               other  label\n",
       "0  [rat hypothalamus_ORGANISM, neurointermediate ...      7\n",
       "1  [human interleukin-2_ORGANISM, mouse cells_ORG...     26\n",
       "2  [human natural killer cells_ORGANISM, manuscri...     19\n",
       "3  [blood glucose_ORGANISM_SUBSTANCE, intravenous...      6\n",
       "4  [phorbol ester_SIMPLE_CHEMICAL, human hematopo...     25"
      ]
     },
     "execution_count": 362,
     "metadata": {},
     "output_type": "execute_result"
    }
   ],
   "source": [
    "keep_docs.head()"
   ]
  },
  {
   "cell_type": "code",
   "execution_count": 425,
   "metadata": {},
   "outputs": [],
   "source": [
    "from scipy.stats import gaussian_kde"
   ]
  },
  {
   "cell_type": "code",
   "execution_count": 436,
   "metadata": {},
   "outputs": [],
   "source": [
    "for_steamplot = []\n",
    "for i in range(30):\n",
    "    kde = gaussian_kde(keep_docs[keep_docs['label']==i].index)\n",
    "    kde = kde(np.linspace(0,294319))\n",
    "    for_steamplot.append(kde)\n",
    "    "
   ]
  },
  {
   "cell_type": "code",
   "execution_count": 496,
   "metadata": {},
   "outputs": [],
   "source": [
    "for i in range(30):\n",
    "    for_steamplot[i] = for_steamplot[i] * cluster_sizes[i]"
   ]
  },
  {
   "cell_type": "code",
   "execution_count": 519,
   "metadata": {},
   "outputs": [
    {
     "data": {
      "text/plain": [
       "Text(100000, -0.35, 'p53')"
      ]
     },
     "execution_count": 519,
     "metadata": {},
     "output_type": "execute_result"
    },
    {
     "data": {
      "image/png": "[encoded data removed]",
      "text/plain": [
       "<Figure size 432x288 with 1 Axes>"
      ]
     },
     "metadata": {
      "needs_background": "light"
     },
     "output_type": "display_data"
    }
   ],
   "source": [
    "plt.figure(figsize=(15,15))\n",
    "plt.stackplot(np.linspace(0,294319), for_steamplot, baseline='wiggle',colors=colors,labels=topic_labels, alpha=0.5);\n",
    "plt.xlim(30000,270000)\n",
    "\n",
    "plt.annotate(topic_labels[0],(100000,-0.52), ha=\"center\", fontsize=12)\n",
    "plt.annotate(topic_labels[1],(200000,-0.48), ha=\"center\", fontsize=12)\n",
    "plt.annotate(topic_labels[2],(100000,-0.45), ha=\"center\", fontsize=12)\n",
    "plt.annotate(topic_labels[3],(200000,-0.38), ha=\"center\", fontsize=12)\n",
    "plt.annotate(topic_labels[4],(100000,-0.35), ha=\"center\", fontsize=12)\n"
   ]
  },
  {
   "cell_type": "code",
   "execution_count": 660,
   "metadata": {},
   "outputs": [],
   "source": [
    "colors = plt.cm.cool(np.linspace(0.1,0.9,30)) "
   ]
  },
  {
   "cell_type": "code",
   "execution_count": 463,
   "metadata": {},
   "outputs": [],
   "source": [
    "colors =colors.tolist() * 10"
   ]
  },
  {
   "cell_type": "code",
   "execution_count": 451,
   "metadata": {},
   "outputs": [],
   "source": [
    "np.random.shuffle(colors)"
   ]
  },
  {
   "cell_type": "code",
   "execution_count": 294,
   "metadata": {},
   "outputs": [],
   "source": [
    "#genes_dict[23].head(40)"
   ]
  },
  {
   "cell_type": "code",
   "execution_count": 227,
   "metadata": {},
   "outputs": [],
   "source": [
    "with open('docs_annotated_ner.pickle', 'rb') as read_file:\n",
    "    docs_ner = pickle.load(read_file)"
   ]
  },
  {
   "cell_type": "code",
   "execution_count": 228,
   "metadata": {},
   "outputs": [],
   "source": [
    "docs_other = []\n",
    "for doc in docs_ner:\n",
    "    docs_other.append([t for t in doc if (t.find(\"GENE\") == -1) and (t.startswith('doi_') != True) and t.startswith('usa_') != True and t.startswith('boston_') != True and t.startswith(\"uk_\") != True and t.startswith('gfp_') != True and t.startswith('luciferase_') != True and t.startswith('/_') != True and t.startswith('e.g._') != True and t.startswith('microm.') != True ])"
   ]
  },
  {
   "cell_type": "code",
   "execution_count": 229,
   "metadata": {},
   "outputs": [
    {
     "data": {
      "text/plain": [
       "337871"
      ]
     },
     "execution_count": 229,
     "metadata": {},
     "output_type": "execute_result"
    }
   ],
   "source": [
    "len(docs_other)"
   ]
  },
  {
   "cell_type": "code",
   "execution_count": 230,
   "metadata": {},
   "outputs": [],
   "source": [
    "keep_docs = np.array(docs_other)"
   ]
  },
  {
   "cell_type": "code",
   "execution_count": 231,
   "metadata": {},
   "outputs": [],
   "source": [
    "keep_docs = keep_docs[keep_abstract]"
   ]
  },
  {
   "cell_type": "code",
   "execution_count": 523,
   "metadata": {},
   "outputs": [
    {
     "data": {
      "text/html": [
       "<div>\n",
       "<style scoped>\n",
       "    .dataframe tbody tr th:only-of-type {\n",
       "        vertical-align: middle;\n",
       "    }\n",
       "\n",
       "    .dataframe tbody tr th {\n",
       "        vertical-align: top;\n",
       "    }\n",
       "\n",
       "    .dataframe thead th {\n",
       "        text-align: right;\n",
       "    }\n",
       "</style>\n",
       "<table border=\"1\" class=\"dataframe\">\n",
       "  <thead>\n",
       "    <tr style=\"text-align: right;\">\n",
       "      <th></th>\n",
       "      <th>other</th>\n",
       "      <th>label</th>\n",
       "    </tr>\n",
       "  </thead>\n",
       "  <tbody>\n",
       "    <tr>\n",
       "      <th>0</th>\n",
       "      <td>[rat hypothalamus_ORGANISM, neurointermediate ...</td>\n",
       "      <td>7</td>\n",
       "    </tr>\n",
       "    <tr>\n",
       "      <th>1</th>\n",
       "      <td>[human interleukin-2_ORGANISM, mouse cells_ORG...</td>\n",
       "      <td>26</td>\n",
       "    </tr>\n",
       "    <tr>\n",
       "      <th>2</th>\n",
       "      <td>[human natural killer cells_ORGANISM, manuscri...</td>\n",
       "      <td>19</td>\n",
       "    </tr>\n",
       "    <tr>\n",
       "      <th>3</th>\n",
       "      <td>[blood glucose_ORGANISM_SUBSTANCE, intravenous...</td>\n",
       "      <td>6</td>\n",
       "    </tr>\n",
       "    <tr>\n",
       "      <th>4</th>\n",
       "      <td>[phorbol ester_SIMPLE_CHEMICAL, human hematopo...</td>\n",
       "      <td>25</td>\n",
       "    </tr>\n",
       "  </tbody>\n",
       "</table>\n",
       "</div>"
      ],
      "text/plain": [
       "                                               other  label\n",
       "0  [rat hypothalamus_ORGANISM, neurointermediate ...      7\n",
       "1  [human interleukin-2_ORGANISM, mouse cells_ORG...     26\n",
       "2  [human natural killer cells_ORGANISM, manuscri...     19\n",
       "3  [blood glucose_ORGANISM_SUBSTANCE, intravenous...      6\n",
       "4  [phorbol ester_SIMPLE_CHEMICAL, human hematopo...     25"
      ]
     },
     "execution_count": 523,
     "metadata": {},
     "output_type": "execute_result"
    }
   ],
   "source": [
    "keep_docs.head()"
   ]
  },
  {
   "cell_type": "code",
   "execution_count": 233,
   "metadata": {},
   "outputs": [
    {
     "data": {
      "text/plain": [
       "294319"
      ]
     },
     "execution_count": 233,
     "metadata": {},
     "output_type": "execute_result"
    }
   ],
   "source": [
    "sum(keep_abstract)"
   ]
  },
  {
   "cell_type": "code",
   "execution_count": 237,
   "metadata": {},
   "outputs": [],
   "source": [
    "keep_docs = pd.DataFrame({'other':keep_docs, 'label':km.labels_})"
   ]
  },
  {
   "cell_type": "code",
   "execution_count": 234,
   "metadata": {},
   "outputs": [],
   "source": [
    "import re"
   ]
  },
  {
   "cell_type": "code",
   "execution_count": 521,
   "metadata": {},
   "outputs": [],
   "source": [
    "from collections import defaultdict\n",
    "other_dict = defaultdict(list)\n",
    "\n",
    "for i in range(0,30):\n",
    "    group = keep_docs[keep_docs['label']==i]['other']\n",
    "    group = [re.sub(\"_.*\",'', g) for j in list(group) for g in j]\n",
    "    other_dict[i]= pd.Series(group).value_counts()/cluster_sizes[i]*100"
   ]
  },
  {
   "cell_type": "code",
   "execution_count": 712,
   "metadata": {},
   "outputs": [],
   "source": [
    "topic_labels=['integrin','mTOR','calcium','Erk','p53','FAS apoptosis','insulin','TGF-B','cAMP','Notch/Hedgehog'\\\n",
    "             ,'UPR/ER','EGFR/ErbB','VEGF/NO/HIF','WNT','intrinsic apoptosis','IFN/JAK','TNF/trail'\\\n",
    "             ,'chemotaxis','TNF/serotonin','B-cell receptor','PI3K','NFkB/JNK','actin/PDGF/FGF','ROS','thrombin'\\\n",
    "             ,'PKC', 'interleukin', 'T-cell receptor', 'AR/NFkB', 'cell cycle']"
   ]
  },
  {
   "cell_type": "code",
   "execution_count": 541,
   "metadata": {},
   "outputs": [],
   "source": [
    "with open('genes_dict.pickle','wb') as write_file:\n",
    "    pickle.dump(genes_dict,write_file)\n",
    "with open('other_dict.pickle','wb') as write_file:\n",
    "    pickle.dump(other_dict, write_file)"
   ]
  },
  {
   "cell_type": "code",
   "execution_count": 561,
   "metadata": {},
   "outputs": [],
   "source": []
  },
  {
   "cell_type": "code",
   "execution_count": 685,
   "metadata": {},
   "outputs": [],
   "source": [
    "def top_categories_other(string):\n",
    "    output=[]\n",
    "    for i in range(30):\n",
    "        try:\n",
    "            output.append((topic_labels[i],other_dict[i][string]))\n",
    "        except:\n",
    "            continue\n",
    "    return sorted(output, key=lambda x: x[1], reverse=True)"
   ]
  },
  {
   "cell_type": "code",
   "execution_count": 611,
   "metadata": {},
   "outputs": [],
   "source": [
    "def top_categories(string):\n",
    "    output=[]\n",
    "    for i in range(30):\n",
    "        try:\n",
    "            output.append((topic_labels[i],genes_dict[i][string]))\n",
    "        except:\n",
    "            continue\n",
    "    return sorted(output, key=lambda x: x[1], reverse=True)"
   ]
  },
  {
   "cell_type": "code",
   "execution_count": 683,
   "metadata": {},
   "outputs": [],
   "source": [
    "def plot_top_categories(string):\n",
    "    output = top_categories(string)\n",
    "    colors = plt.cm.cool(np.linspace(0.1,0.9,10))[::-1]\n",
    "    plt.figure(figsize=(10,5))\n",
    "    plt.bar(x=range(len(output)),height=list(map(lambda x:x[1],output)),color=colors,alpha=0.5)\n",
    "    plt.xticks(ticks=range(len(output)),labels=list(map(lambda x:x[0],output)),rotation=90,fontsize=13)\n",
    "    plt.xlabel('Pathway',fontsize=13)\n",
    "    plt.ylabel('(Mentions / Number of Abstracts) * 100',fontsize=13)\n",
    "    plt.title(string, fontsize=14)"
   ]
  },
  {
   "cell_type": "code",
   "execution_count": 684,
   "metadata": {},
   "outputs": [
    {
     "data": {
      "image/png": "[encoded data removed]",
      "text/plain": [
       "<Figure size 720x360 with 1 Axes>"
      ]
     },
     "metadata": {
      "needs_background": "light"
     },
     "output_type": "display_data"
    }
   ],
   "source": [
    "plot_top_categories('cpt1')\n",
    "plt.savefig('cpt1.jpg')"
   ]
  },
  {
   "cell_type": "code",
   "execution_count": null,
   "metadata": {},
   "outputs": [],
   "source": []
  },
  {
   "cell_type": "code",
   "execution_count": 686,
   "metadata": {},
   "outputs": [],
   "source": [
    "def plot_top_categories_other(string):\n",
    "    output = top_categories_other(string)\n",
    "    colors = plt.cm.cool(np.linspace(0.1,0.9,10))[::-1]\n",
    "    plt.figure(figsize=(10,5))\n",
    "    plt.bar(x=range(len(output)),height=list(map(lambda x:x[1],output)),color=colors,alpha=0.5)\n",
    "    plt.xticks(ticks=range(len(output)),labels=list(map(lambda x:x[0],output)),rotation=90,fontsize=13)\n",
    "    plt.xlabel('Pathway',fontsize=13)\n",
    "    plt.ylabel('(Mentions / Number of Abstracts) * 100',fontsize=13)\n",
    "    plt.title(string, fontsize=14)"
   ]
  },
  {
   "cell_type": "code",
   "execution_count": 707,
   "metadata": {},
   "outputs": [
    {
     "data": {
      "image/png": "[encoded data removed]",
      "text/plain": [
       "<Figure size 720x360 with 1 Axes>"
      ]
     },
     "metadata": {
      "needs_background": "light"
     },
     "output_type": "display_data"
    }
   ],
   "source": [
    "plot_top_categories('taz')\n",
    "plt.savefig('taz.jpg')"
   ]
  },
  {
   "cell_type": "code",
   "execution_count": 690,
   "metadata": {},
   "outputs": [
    {
     "data": {
      "image/png": "[encoded data removed]",
      "text/plain": [
       "<Figure size 720x360 with 1 Axes>"
      ]
     },
     "metadata": {
      "needs_background": "light"
     },
     "output_type": "display_data"
    }
   ],
   "source": [
    "plot_top_categories_other('colon cancer')\n",
    "plt.savefig('colon_cancer.jpg')"
   ]
  },
  {
   "cell_type": "code",
   "execution_count": 714,
   "metadata": {},
   "outputs": [],
   "source": [
    "final_dict = {}\n",
    "\n",
    "for i in range(0,30):\n",
    "    final_dict[topic_labels[i]] = genes_dict[i].head(30).index"
   ]
  },
  {
   "cell_type": "code",
   "execution_count": 715,
   "metadata": {},
   "outputs": [
    {
     "data": {
      "text/html": [
       "<div>\n",
       "<style scoped>\n",
       "    .dataframe tbody tr th:only-of-type {\n",
       "        vertical-align: middle;\n",
       "    }\n",
       "\n",
       "    .dataframe tbody tr th {\n",
       "        vertical-align: top;\n",
       "    }\n",
       "\n",
       "    .dataframe thead th {\n",
       "        text-align: right;\n",
       "    }\n",
       "</style>\n",
       "<table border=\"1\" class=\"dataframe\">\n",
       "  <thead>\n",
       "    <tr style=\"text-align: right;\">\n",
       "      <th></th>\n",
       "      <th>integrin</th>\n",
       "      <th>mTOR</th>\n",
       "      <th>calcium</th>\n",
       "      <th>Erk</th>\n",
       "      <th>p53</th>\n",
       "      <th>FAS apoptosis</th>\n",
       "      <th>insulin</th>\n",
       "      <th>TGF-B</th>\n",
       "      <th>cAMP</th>\n",
       "      <th>Notch/Hedgehog</th>\n",
       "      <th>...</th>\n",
       "      <th>PI3K</th>\n",
       "      <th>NFkB/JNK</th>\n",
       "      <th>actin/PDGF/FGF</th>\n",
       "      <th>ROS</th>\n",
       "      <th>thrombin</th>\n",
       "      <th>PKC</th>\n",
       "      <th>interleukin</th>\n",
       "      <th>T-cell receptor</th>\n",
       "      <th>AR/NFkB</th>\n",
       "      <th>cell cycle</th>\n",
       "    </tr>\n",
       "  </thead>\n",
       "  <tbody>\n",
       "    <tr>\n",
       "      <th>0</th>\n",
       "      <td>integrin</td>\n",
       "      <td>akt</td>\n",
       "      <td>src</td>\n",
       "      <td>erk</td>\n",
       "      <td>p53</td>\n",
       "      <td>fas</td>\n",
       "      <td>insulin</td>\n",
       "      <td>tgf-beta</td>\n",
       "      <td>camp</td>\n",
       "      <td>notch</td>\n",
       "      <td>...</td>\n",
       "      <td>akt</td>\n",
       "      <td>nf-kappab</td>\n",
       "      <td>actin</td>\n",
       "      <td>nrf2</td>\n",
       "      <td>thrombin</td>\n",
       "      <td>pkc</td>\n",
       "      <td>il-2</td>\n",
       "      <td>tcr</td>\n",
       "      <td>nf-κb</td>\n",
       "      <td>ras</td>\n",
       "    </tr>\n",
       "    <tr>\n",
       "      <th>1</th>\n",
       "      <td>fak</td>\n",
       "      <td>mtor</td>\n",
       "      <td>bcr</td>\n",
       "      <td>mapk</td>\n",
       "      <td>atm</td>\n",
       "      <td>caspase</td>\n",
       "      <td>igf-i</td>\n",
       "      <td>rho</td>\n",
       "      <td>pka</td>\n",
       "      <td>notch1</td>\n",
       "      <td>...</td>\n",
       "      <td>pi3k</td>\n",
       "      <td>jnk</td>\n",
       "      <td>pdgf</td>\n",
       "      <td>cox-2</td>\n",
       "      <td>tf</td>\n",
       "      <td>protein kinase c</td>\n",
       "      <td>protein kinase c</td>\n",
       "      <td>gpcrs</td>\n",
       "      <td>ar</td>\n",
       "      <td>p53</td>\n",
       "    </tr>\n",
       "    <tr>\n",
       "      <th>2</th>\n",
       "      <td>fibronectin</td>\n",
       "      <td>pi3k</td>\n",
       "      <td>s1p</td>\n",
       "      <td>erk1</td>\n",
       "      <td>p21</td>\n",
       "      <td>il-6</td>\n",
       "      <td>igf-1</td>\n",
       "      <td>smad</td>\n",
       "      <td>cftr</td>\n",
       "      <td>hedgehog</td>\n",
       "      <td>...</td>\n",
       "      <td>erk</td>\n",
       "      <td>p38</td>\n",
       "      <td>actin cytoskeleton</td>\n",
       "      <td>hgf</td>\n",
       "      <td>par1</td>\n",
       "      <td>pka</td>\n",
       "      <td>il-15</td>\n",
       "      <td>src</td>\n",
       "      <td>androgen</td>\n",
       "      <td>c-myc</td>\n",
       "    </tr>\n",
       "    <tr>\n",
       "      <th>3</th>\n",
       "      <td>focal adhesion kinase</td>\n",
       "      <td>pten</td>\n",
       "      <td>abl</td>\n",
       "      <td>p38</td>\n",
       "      <td>mdm2</td>\n",
       "      <td>bcl-2</td>\n",
       "      <td>akt</td>\n",
       "      <td>tgf</td>\n",
       "      <td>creb</td>\n",
       "      <td>hh</td>\n",
       "      <td>...</td>\n",
       "      <td>ampk</td>\n",
       "      <td>ap-1</td>\n",
       "      <td>clathrin</td>\n",
       "      <td>leptin</td>\n",
       "      <td>par-1</td>\n",
       "      <td>erk</td>\n",
       "      <td>interleukin-2</td>\n",
       "      <td>g-protein</td>\n",
       "      <td>il-8</td>\n",
       "      <td>rb</td>\n",
       "    </tr>\n",
       "    <tr>\n",
       "      <th>4</th>\n",
       "      <td>ilk</td>\n",
       "      <td>mtorc1</td>\n",
       "      <td>apc</td>\n",
       "      <td>jnk</td>\n",
       "      <td>chk1</td>\n",
       "      <td>stat3</td>\n",
       "      <td>igf</td>\n",
       "      <td>rhoa</td>\n",
       "      <td>protein kinase a</td>\n",
       "      <td>paf</td>\n",
       "      <td>...</td>\n",
       "      <td>mtor</td>\n",
       "      <td>c-jun</td>\n",
       "      <td>rac1</td>\n",
       "      <td>met</td>\n",
       "      <td>pars</td>\n",
       "      <td>pkcalpha</td>\n",
       "      <td>il-7</td>\n",
       "      <td>syk</td>\n",
       "      <td>ubiquitin</td>\n",
       "      <td>myc</td>\n",
       "    </tr>\n",
       "    <tr>\n",
       "      <th>5</th>\n",
       "      <td>paxillin</td>\n",
       "      <td>ampk</td>\n",
       "      <td>[ca2+]i</td>\n",
       "      <td>mek</td>\n",
       "      <td>bax</td>\n",
       "      <td>fasl</td>\n",
       "      <td>irs-1</td>\n",
       "      <td>beta-catenin</td>\n",
       "      <td>epac</td>\n",
       "      <td>hes1</td>\n",
       "      <td>...</td>\n",
       "      <td>mapk</td>\n",
       "      <td>erk</td>\n",
       "      <td>fgf</td>\n",
       "      <td>c-met</td>\n",
       "      <td>csf</td>\n",
       "      <td>mapk</td>\n",
       "      <td>stat5</td>\n",
       "      <td>plc</td>\n",
       "      <td>tlr4</td>\n",
       "      <td>p21</td>\n",
       "    </tr>\n",
       "    <tr>\n",
       "      <th>6</th>\n",
       "      <td>src</td>\n",
       "      <td>phosphatidylinositol 3-kinase</td>\n",
       "      <td>tcr</td>\n",
       "      <td>p38 mapk</td>\n",
       "      <td>rb</td>\n",
       "      <td>caspase-3</td>\n",
       "      <td>insulin receptor</td>\n",
       "      <td>smad3</td>\n",
       "      <td>hcg</td>\n",
       "      <td>notch3</td>\n",
       "      <td>...</td>\n",
       "      <td>pten</td>\n",
       "      <td>mapk</td>\n",
       "      <td>cdc42</td>\n",
       "      <td>pge2</td>\n",
       "      <td>par2</td>\n",
       "      <td>erk1</td>\n",
       "      <td>il-2r</td>\n",
       "      <td>phospholipase c</td>\n",
       "      <td>androgen receptor</td>\n",
       "      <td>bcl-2</td>\n",
       "    </tr>\n",
       "    <tr>\n",
       "      <th>7</th>\n",
       "      <td>collagen</td>\n",
       "      <td>pik3ca</td>\n",
       "      <td>protein-protein</td>\n",
       "      <td>mitogen-activated protein kinase</td>\n",
       "      <td>chk2</td>\n",
       "      <td>bax</td>\n",
       "      <td>igf-1r</td>\n",
       "      <td>smad2</td>\n",
       "      <td>adenylyl cyclase</td>\n",
       "      <td>dll4</td>\n",
       "      <td>...</td>\n",
       "      <td>erk1</td>\n",
       "      <td>tnfalpha</td>\n",
       "      <td>rac</td>\n",
       "      <td>app</td>\n",
       "      <td>fibrinogen</td>\n",
       "      <td>pkcdelta</td>\n",
       "      <td>jak3</td>\n",
       "      <td>lck</td>\n",
       "      <td>epo</td>\n",
       "      <td>bax</td>\n",
       "    </tr>\n",
       "    <tr>\n",
       "      <th>8</th>\n",
       "      <td>igg</td>\n",
       "      <td>mtorc2</td>\n",
       "      <td>trpv1</td>\n",
       "      <td>ras</td>\n",
       "      <td>arf</td>\n",
       "      <td>caspase-8</td>\n",
       "      <td>leptin</td>\n",
       "      <td>wnt</td>\n",
       "      <td>lh</td>\n",
       "      <td>notch2</td>\n",
       "      <td>...</td>\n",
       "      <td>insulin</td>\n",
       "      <td>c-jun n-terminal kinase</td>\n",
       "      <td>f-actin</td>\n",
       "      <td>hsp90</td>\n",
       "      <td>par</td>\n",
       "      <td>marcks</td>\n",
       "      <td>calcineurin</td>\n",
       "      <td>rgs</td>\n",
       "      <td>tlr2</td>\n",
       "      <td>e2f</td>\n",
       "    </tr>\n",
       "    <tr>\n",
       "      <th>9</th>\n",
       "      <td>laminin</td>\n",
       "      <td>phosphoinositide 3-kinase</td>\n",
       "      <td>gnrh</td>\n",
       "      <td>nf-kappab</td>\n",
       "      <td>cip1</td>\n",
       "      <td>cd95</td>\n",
       "      <td>adiponectin</td>\n",
       "      <td>e-cadherin</td>\n",
       "      <td>pde4</td>\n",
       "      <td>jagged1</td>\n",
       "      <td>...</td>\n",
       "      <td>ras</td>\n",
       "      <td>ikappabalpha</td>\n",
       "      <td>ret</td>\n",
       "      <td>il-4</td>\n",
       "      <td>apc</td>\n",
       "      <td>plc</td>\n",
       "      <td>cd28</td>\n",
       "      <td>zap-70</td>\n",
       "      <td>p65</td>\n",
       "      <td>p27</td>\n",
       "    </tr>\n",
       "    <tr>\n",
       "      <th>10</th>\n",
       "      <td>reelin</td>\n",
       "      <td>p70s6k</td>\n",
       "      <td>syk</td>\n",
       "      <td>extracellular signal-regulated kinase</td>\n",
       "      <td>prb</td>\n",
       "      <td>survivin</td>\n",
       "      <td>glut4</td>\n",
       "      <td>shh</td>\n",
       "      <td>tsh</td>\n",
       "      <td>smo</td>\n",
       "      <td>...</td>\n",
       "      <td>vegf</td>\n",
       "      <td>ikk</td>\n",
       "      <td>fgfr</td>\n",
       "      <td>histone</td>\n",
       "      <td>par-2</td>\n",
       "      <td>camkii</td>\n",
       "      <td>il-4</td>\n",
       "      <td>trp</td>\n",
       "      <td>hmgb1</td>\n",
       "      <td>prb</td>\n",
       "    </tr>\n",
       "    <tr>\n",
       "      <th>11</th>\n",
       "      <td>vitronectin</td>\n",
       "      <td>akt1</td>\n",
       "      <td>nfat</td>\n",
       "      <td>raf</td>\n",
       "      <td>p73</td>\n",
       "      <td>jak2</td>\n",
       "      <td>ampk</td>\n",
       "      <td>smad4</td>\n",
       "      <td>erk</td>\n",
       "      <td>wnt</td>\n",
       "      <td>...</td>\n",
       "      <td>mek</td>\n",
       "      <td>p65</td>\n",
       "      <td>pdgf-bb</td>\n",
       "      <td>cd44</td>\n",
       "      <td>fibrin</td>\n",
       "      <td>ras</td>\n",
       "      <td>il-2 receptor</td>\n",
       "      <td>lat</td>\n",
       "      <td>toll</td>\n",
       "      <td>atm</td>\n",
       "    </tr>\n",
       "    <tr>\n",
       "      <th>12</th>\n",
       "      <td>rac1</td>\n",
       "      <td>pkb</td>\n",
       "      <td>fak</td>\n",
       "      <td>akt</td>\n",
       "      <td>tp53</td>\n",
       "      <td>cd40</td>\n",
       "      <td>pi3k</td>\n",
       "      <td>yap</td>\n",
       "      <td>tshr</td>\n",
       "      <td>gli1</td>\n",
       "      <td>...</td>\n",
       "      <td>nf-κb</td>\n",
       "      <td>p38 mapk</td>\n",
       "      <td>rho</td>\n",
       "      <td>sirt1</td>\n",
       "      <td>rhoa</td>\n",
       "      <td>pkd</td>\n",
       "      <td>cd3</td>\n",
       "      <td>cd3</td>\n",
       "      <td>mapk</td>\n",
       "      <td>raf</td>\n",
       "    </tr>\n",
       "    <tr>\n",
       "      <th>13</th>\n",
       "      <td>beta1</td>\n",
       "      <td>pa</td>\n",
       "      <td>soce</td>\n",
       "      <td>c-fos</td>\n",
       "      <td>p16</td>\n",
       "      <td>fadd</td>\n",
       "      <td>igf-ir</td>\n",
       "      <td>tgfbeta</td>\n",
       "      <td>pge2</td>\n",
       "      <td>gamma-secretase</td>\n",
       "      <td>...</td>\n",
       "      <td>gm-csf</td>\n",
       "      <td>erk1</td>\n",
       "      <td>cofilin</td>\n",
       "      <td>tau</td>\n",
       "      <td>vwf</td>\n",
       "      <td>akt</td>\n",
       "      <td>il-2r beta</td>\n",
       "      <td>fyn</td>\n",
       "      <td>akt</td>\n",
       "      <td>erk</td>\n",
       "    </tr>\n",
       "    <tr>\n",
       "      <th>14</th>\n",
       "      <td>upar</td>\n",
       "      <td>protein kinase b</td>\n",
       "      <td>cam</td>\n",
       "      <td>ap-1</td>\n",
       "      <td>sirt1</td>\n",
       "      <td>nf-κb</td>\n",
       "      <td>igf-ii</td>\n",
       "      <td>bmp</td>\n",
       "      <td>rap1</td>\n",
       "      <td>notch-1</td>\n",
       "      <td>...</td>\n",
       "      <td>phosphatidylinositol 3-kinase</td>\n",
       "      <td>ikappab</td>\n",
       "      <td>bfgf</td>\n",
       "      <td>fibronectin</td>\n",
       "      <td>tfpi</td>\n",
       "      <td>camp</td>\n",
       "      <td>il-9</td>\n",
       "      <td>g-protein-coupled receptors</td>\n",
       "      <td>interleukin-8</td>\n",
       "      <td>k-ras</td>\n",
       "    </tr>\n",
       "    <tr>\n",
       "      <th>15</th>\n",
       "      <td>fn</td>\n",
       "      <td>tsc2</td>\n",
       "      <td>orai1</td>\n",
       "      <td>cyclin d1</td>\n",
       "      <td>waf1</td>\n",
       "      <td>cytochrome c</td>\n",
       "      <td>igf1r</td>\n",
       "      <td>transforming growth factor-beta</td>\n",
       "      <td>cre</td>\n",
       "      <td>γ-secretase</td>\n",
       "      <td>...</td>\n",
       "      <td>bcl-2</td>\n",
       "      <td>il-1beta</td>\n",
       "      <td>pdgfr</td>\n",
       "      <td>vegf</td>\n",
       "      <td>fviia</td>\n",
       "      <td>pkcα</td>\n",
       "      <td>cd25</td>\n",
       "      <td>g protein-coupled receptors</td>\n",
       "      <td>tlr</td>\n",
       "      <td>akt</td>\n",
       "    </tr>\n",
       "    <tr>\n",
       "      <th>16</th>\n",
       "      <td>actin</td>\n",
       "      <td>4e-bp1</td>\n",
       "      <td>car</td>\n",
       "      <td>c-jun</td>\n",
       "      <td>c-myc</td>\n",
       "      <td>erk</td>\n",
       "      <td>glp-1</td>\n",
       "      <td>hippo</td>\n",
       "      <td>cgmp</td>\n",
       "      <td>gli</td>\n",
       "      <td>...</td>\n",
       "      <td>egfr</td>\n",
       "      <td>sapk</td>\n",
       "      <td>fgf-2</td>\n",
       "      <td>vdr</td>\n",
       "      <td>rho</td>\n",
       "      <td>pi3k</td>\n",
       "      <td>foxp3</td>\n",
       "      <td>g protein</td>\n",
       "      <td>erythropoietin</td>\n",
       "      <td>tp53</td>\n",
       "    </tr>\n",
       "    <tr>\n",
       "      <th>17</th>\n",
       "      <td>talin</td>\n",
       "      <td>p-akt</td>\n",
       "      <td>cd3</td>\n",
       "      <td>mapks</td>\n",
       "      <td>p53 tumor</td>\n",
       "      <td>fas ligand</td>\n",
       "      <td>igfbp-3</td>\n",
       "      <td>rock</td>\n",
       "      <td>epac1</td>\n",
       "      <td>jag1</td>\n",
       "      <td>...</td>\n",
       "      <td>src</td>\n",
       "      <td>jnk1</td>\n",
       "      <td>platelet-derived growth factor</td>\n",
       "      <td>cd28</td>\n",
       "      <td>thrombin receptor</td>\n",
       "      <td>egf</td>\n",
       "      <td>nfat</td>\n",
       "      <td>slp-76</td>\n",
       "      <td>ahr</td>\n",
       "      <td>cdk2</td>\n",
       "    </tr>\n",
       "    <tr>\n",
       "      <th>18</th>\n",
       "      <td>actin cytoskeleton</td>\n",
       "      <td>her2</td>\n",
       "      <td>p2x</td>\n",
       "      <td>map kinase</td>\n",
       "      <td>ras</td>\n",
       "      <td>parp</td>\n",
       "      <td>irs1</td>\n",
       "      <td>tgf-β1</td>\n",
       "      <td>erk1</td>\n",
       "      <td>nicd</td>\n",
       "      <td>...</td>\n",
       "      <td>igf-i</td>\n",
       "      <td>akt</td>\n",
       "      <td>pthrp</td>\n",
       "      <td>cd3</td>\n",
       "      <td>collagen</td>\n",
       "      <td>pkcs</td>\n",
       "      <td>il-2r alpha</td>\n",
       "      <td>g-proteins</td>\n",
       "      <td>cox-2</td>\n",
       "      <td>cyclin d1</td>\n",
       "    </tr>\n",
       "    <tr>\n",
       "      <th>19</th>\n",
       "      <td>fibrinogen</td>\n",
       "      <td>s6k1</td>\n",
       "      <td>calmodulin</td>\n",
       "      <td>cox-2</td>\n",
       "      <td>p14arf</td>\n",
       "      <td>xiap</td>\n",
       "      <td>gh</td>\n",
       "      <td>β-catenin</td>\n",
       "      <td>camp-dependent protein kinase</td>\n",
       "      <td>numb</td>\n",
       "      <td>...</td>\n",
       "      <td>caspase-3</td>\n",
       "      <td>nf-kappab.</td>\n",
       "      <td>rhoa</td>\n",
       "      <td>jak2</td>\n",
       "      <td>fxa</td>\n",
       "      <td>src</td>\n",
       "      <td>il-21</td>\n",
       "      <td>pip2</td>\n",
       "      <td>il-6</td>\n",
       "      <td>dsb</td>\n",
       "    </tr>\n",
       "    <tr>\n",
       "      <th>20</th>\n",
       "      <td>rho</td>\n",
       "      <td>cyclin d1</td>\n",
       "      <td>g protein-coupled receptors</td>\n",
       "      <td>mek1</td>\n",
       "      <td>bcl-2</td>\n",
       "      <td>bcl-xl</td>\n",
       "      <td>irs-2</td>\n",
       "      <td>tgfβ</td>\n",
       "      <td>cgrp</td>\n",
       "      <td>shh</td>\n",
       "      <td>...</td>\n",
       "      <td>pkb</td>\n",
       "      <td>lmp1</td>\n",
       "      <td>fgfr1</td>\n",
       "      <td>ho-1</td>\n",
       "      <td>par4</td>\n",
       "      <td>mek</td>\n",
       "      <td>il-10</td>\n",
       "      <td>antigen</td>\n",
       "      <td>cxcr2</td>\n",
       "      <td>e2f1</td>\n",
       "    </tr>\n",
       "    <tr>\n",
       "      <th>21</th>\n",
       "      <td>beta1 integrin</td>\n",
       "      <td>foxo3a</td>\n",
       "      <td>lyn</td>\n",
       "      <td>mmp-9</td>\n",
       "      <td>puma</td>\n",
       "      <td>smac</td>\n",
       "      <td>ptp1b</td>\n",
       "      <td>smad7</td>\n",
       "      <td>glp-1</td>\n",
       "      <td>smoothened</td>\n",
       "      <td>...</td>\n",
       "      <td>hgf</td>\n",
       "      <td>ikkbeta</td>\n",
       "      <td>actin filaments</td>\n",
       "      <td>nlrp3</td>\n",
       "      <td>plasmin</td>\n",
       "      <td>pld</td>\n",
       "      <td>il-1</td>\n",
       "      <td>cd28</td>\n",
       "      <td>epor</td>\n",
       "      <td>cdk</td>\n",
       "    </tr>\n",
       "    <tr>\n",
       "      <th>22</th>\n",
       "      <td>rhoa</td>\n",
       "      <td>mek</td>\n",
       "      <td>c-src</td>\n",
       "      <td>erk2</td>\n",
       "      <td>ubiquitin</td>\n",
       "      <td>caspase 3</td>\n",
       "      <td>shc</td>\n",
       "      <td>transforming growth factor</td>\n",
       "      <td>pth</td>\n",
       "      <td>dll1</td>\n",
       "      <td>...</td>\n",
       "      <td>bax</td>\n",
       "      <td>c-fos</td>\n",
       "      <td>pth</td>\n",
       "      <td>mapk</td>\n",
       "      <td>tissue factor</td>\n",
       "      <td>pkc-alpha</td>\n",
       "      <td>interleukin 2</td>\n",
       "      <td>g proteins</td>\n",
       "      <td>psa</td>\n",
       "      <td>chk1</td>\n",
       "    </tr>\n",
       "    <tr>\n",
       "      <th>23</th>\n",
       "      <td>alphavbeta3</td>\n",
       "      <td>erk</td>\n",
       "      <td>calcineurin</td>\n",
       "      <td>ngf</td>\n",
       "      <td>mir-34a</td>\n",
       "      <td>akt</td>\n",
       "      <td>phosphatidylinositol 3-kinase</td>\n",
       "      <td>tgf-beta1</td>\n",
       "      <td>calcitonin</td>\n",
       "      <td>mir-34a</td>\n",
       "      <td>...</td>\n",
       "      <td>p53</td>\n",
       "      <td>mmp-9</td>\n",
       "      <td>erk</td>\n",
       "      <td>il-13</td>\n",
       "      <td>par-4</td>\n",
       "      <td>insulin</td>\n",
       "      <td>il-2-induced</td>\n",
       "      <td>rgs4</td>\n",
       "      <td>erk1</td>\n",
       "      <td>cdk4</td>\n",
       "    </tr>\n",
       "    <tr>\n",
       "      <th>24</th>\n",
       "      <td>e-cadherin</td>\n",
       "      <td>igf-i</td>\n",
       "      <td>grb2</td>\n",
       "      <td>nf-κb</td>\n",
       "      <td>p21waf1</td>\n",
       "      <td>trail</td>\n",
       "      <td>foxo1</td>\n",
       "      <td>activin</td>\n",
       "      <td>fsh</td>\n",
       "      <td>ptch1</td>\n",
       "      <td>...</td>\n",
       "      <td>stat3</td>\n",
       "      <td>il-8</td>\n",
       "      <td>dynamin</td>\n",
       "      <td>nf-κb</td>\n",
       "      <td>epcr</td>\n",
       "      <td>phospholipase c</td>\n",
       "      <td>src</td>\n",
       "      <td>glutamate receptors</td>\n",
       "      <td>erk</td>\n",
       "      <td>p16</td>\n",
       "    </tr>\n",
       "    <tr>\n",
       "      <th>25</th>\n",
       "      <td>pyk2</td>\n",
       "      <td>pakt</td>\n",
       "      <td>trp</td>\n",
       "      <td>il-8</td>\n",
       "      <td>p63</td>\n",
       "      <td>leptin</td>\n",
       "      <td>pkb</td>\n",
       "      <td>ctgf</td>\n",
       "      <td>adenylate cyclase</td>\n",
       "      <td>hey1</td>\n",
       "      <td>...</td>\n",
       "      <td>p38</td>\n",
       "      <td>mapks</td>\n",
       "      <td>pak1</td>\n",
       "      <td>erk1</td>\n",
       "      <td>opn</td>\n",
       "      <td>c-fos</td>\n",
       "      <td>stat</td>\n",
       "      <td>arrestin</td>\n",
       "      <td>ikk</td>\n",
       "      <td>mek</td>\n",
       "    </tr>\n",
       "    <tr>\n",
       "      <th>26</th>\n",
       "      <td>integrins</td>\n",
       "      <td>eif4e</td>\n",
       "      <td>stim1</td>\n",
       "      <td>mitogen-activated protein kinases</td>\n",
       "      <td>p27</td>\n",
       "      <td>il-8</td>\n",
       "      <td>igf1</td>\n",
       "      <td>taz</td>\n",
       "      <td>mc1r</td>\n",
       "      <td>jagged-1</td>\n",
       "      <td>...</td>\n",
       "      <td>fak</td>\n",
       "      <td>tnf</td>\n",
       "      <td>vegf</td>\n",
       "      <td>telomerase</td>\n",
       "      <td>tfpi-2</td>\n",
       "      <td>nadph oxidase</td>\n",
       "      <td>jak1</td>\n",
       "      <td>sh2</td>\n",
       "      <td>ltb4</td>\n",
       "      <td>kras</td>\n",
       "    </tr>\n",
       "    <tr>\n",
       "      <th>27</th>\n",
       "      <td>rap1</td>\n",
       "      <td>rheb</td>\n",
       "      <td>btk</td>\n",
       "      <td>raf-1</td>\n",
       "      <td>caspase-3</td>\n",
       "      <td>caspase-9</td>\n",
       "      <td>mapk</td>\n",
       "      <td>smads</td>\n",
       "      <td>acth</td>\n",
       "      <td>gli2</td>\n",
       "      <td>...</td>\n",
       "      <td>her2</td>\n",
       "      <td>mitogen-activated protein kinase</td>\n",
       "      <td>fgfs</td>\n",
       "      <td>hepatocyte growth factor</td>\n",
       "      <td>xa</td>\n",
       "      <td>pkcepsilon</td>\n",
       "      <td>gm-csf</td>\n",
       "      <td>vav</td>\n",
       "      <td>tlrs</td>\n",
       "      <td>mapk</td>\n",
       "    </tr>\n",
       "    <tr>\n",
       "      <th>28</th>\n",
       "      <td>erk</td>\n",
       "      <td>pdk1</td>\n",
       "      <td>cd45</td>\n",
       "      <td>braf</td>\n",
       "      <td>wip1</td>\n",
       "      <td>p53</td>\n",
       "      <td>irs</td>\n",
       "      <td>rac1</td>\n",
       "      <td>mc4r</td>\n",
       "      <td>platelet-activating factor</td>\n",
       "      <td>...</td>\n",
       "      <td>enos</td>\n",
       "      <td>traf6</td>\n",
       "      <td>cortactin</td>\n",
       "      <td>icam-1</td>\n",
       "      <td>protease-activated receptors</td>\n",
       "      <td>pkc alpha</td>\n",
       "      <td>protein kinase a</td>\n",
       "      <td>rgs2</td>\n",
       "      <td>ezh2</td>\n",
       "      <td>nhej</td>\n",
       "    </tr>\n",
       "    <tr>\n",
       "      <th>29</th>\n",
       "      <td>c-src</td>\n",
       "      <td>tsc1</td>\n",
       "      <td>adenylyl cyclase</td>\n",
       "      <td>erk1/2</td>\n",
       "      <td>53bp1</td>\n",
       "      <td>stat</td>\n",
       "      <td>pi 3-kinase</td>\n",
       "      <td>transforming growth factor beta</td>\n",
       "      <td>cl</td>\n",
       "      <td>presenilin</td>\n",
       "      <td>...</td>\n",
       "      <td>bcr</td>\n",
       "      <td>caspase</td>\n",
       "      <td>fibroblast growth factor</td>\n",
       "      <td>beta</td>\n",
       "      <td>par3</td>\n",
       "      <td>rack1</td>\n",
       "      <td>il-12</td>\n",
       "      <td>il-2</td>\n",
       "      <td>myd88</td>\n",
       "      <td>caspase-3</td>\n",
       "    </tr>\n",
       "  </tbody>\n",
       "</table>\n",
       "<p>30 rows × 30 columns</p>\n",
       "</div>"
      ],
      "text/plain": [
       "                 integrin                           mTOR  \\\n",
       "0                integrin                            akt   \n",
       "1                     fak                           mtor   \n",
       "2             fibronectin                           pi3k   \n",
       "3   focal adhesion kinase                           pten   \n",
       "4                     ilk                         mtorc1   \n",
       "5                paxillin                           ampk   \n",
       "6                     src  phosphatidylinositol 3-kinase   \n",
       "7                collagen                         pik3ca   \n",
       "8                     igg                         mtorc2   \n",
       "9                 laminin      phosphoinositide 3-kinase   \n",
       "10                 reelin                         p70s6k   \n",
       "11            vitronectin                           akt1   \n",
       "12                   rac1                            pkb   \n",
       "13                  beta1                             pa   \n",
       "14                   upar               protein kinase b   \n",
       "15                     fn                           tsc2   \n",
       "16                  actin                         4e-bp1   \n",
       "17                  talin                          p-akt   \n",
       "18     actin cytoskeleton                           her2   \n",
       "19             fibrinogen                           s6k1   \n",
       "20                    rho                      cyclin d1   \n",
       "21         beta1 integrin                         foxo3a   \n",
       "22                   rhoa                            mek   \n",
       "23            alphavbeta3                            erk   \n",
       "24             e-cadherin                          igf-i   \n",
       "25                   pyk2                           pakt   \n",
       "26              integrins                          eif4e   \n",
       "27                   rap1                           rheb   \n",
       "28                    erk                           pdk1   \n",
       "29                  c-src                           tsc1   \n",
       "\n",
       "                        calcium                                    Erk  \\\n",
       "0                           src                                    erk   \n",
       "1                           bcr                                   mapk   \n",
       "2                           s1p                                   erk1   \n",
       "3                           abl                                    p38   \n",
       "4                           apc                                    jnk   \n",
       "5                       [ca2+]i                                    mek   \n",
       "6                           tcr                               p38 mapk   \n",
       "7               protein-protein       mitogen-activated protein kinase   \n",
       "8                         trpv1                                    ras   \n",
       "9                          gnrh                              nf-kappab   \n",
       "10                          syk  extracellular signal-regulated kinase   \n",
       "11                         nfat                                    raf   \n",
       "12                          fak                                    akt   \n",
       "13                         soce                                  c-fos   \n",
       "14                          cam                                   ap-1   \n",
       "15                        orai1                              cyclin d1   \n",
       "16                          car                                  c-jun   \n",
       "17                          cd3                                  mapks   \n",
       "18                          p2x                             map kinase   \n",
       "19                   calmodulin                                  cox-2   \n",
       "20  g protein-coupled receptors                                   mek1   \n",
       "21                          lyn                                  mmp-9   \n",
       "22                        c-src                                   erk2   \n",
       "23                  calcineurin                                    ngf   \n",
       "24                         grb2                                  nf-κb   \n",
       "25                          trp                                   il-8   \n",
       "26                        stim1      mitogen-activated protein kinases   \n",
       "27                          btk                                  raf-1   \n",
       "28                         cd45                                   braf   \n",
       "29             adenylyl cyclase                                 erk1/2   \n",
       "\n",
       "          p53 FAS apoptosis                        insulin  \\\n",
       "0         p53           fas                        insulin   \n",
       "1         atm       caspase                          igf-i   \n",
       "2         p21          il-6                          igf-1   \n",
       "3        mdm2         bcl-2                            akt   \n",
       "4        chk1         stat3                            igf   \n",
       "5         bax          fasl                          irs-1   \n",
       "6          rb     caspase-3               insulin receptor   \n",
       "7        chk2           bax                         igf-1r   \n",
       "8         arf     caspase-8                         leptin   \n",
       "9        cip1          cd95                    adiponectin   \n",
       "10        prb      survivin                          glut4   \n",
       "11        p73          jak2                           ampk   \n",
       "12       tp53          cd40                           pi3k   \n",
       "13        p16          fadd                         igf-ir   \n",
       "14      sirt1         nf-κb                         igf-ii   \n",
       "15       waf1  cytochrome c                          igf1r   \n",
       "16      c-myc           erk                          glp-1   \n",
       "17  p53 tumor    fas ligand                        igfbp-3   \n",
       "18        ras          parp                           irs1   \n",
       "19     p14arf          xiap                             gh   \n",
       "20      bcl-2        bcl-xl                          irs-2   \n",
       "21       puma          smac                          ptp1b   \n",
       "22  ubiquitin     caspase 3                            shc   \n",
       "23    mir-34a           akt  phosphatidylinositol 3-kinase   \n",
       "24    p21waf1         trail                          foxo1   \n",
       "25        p63        leptin                            pkb   \n",
       "26        p27          il-8                           igf1   \n",
       "27  caspase-3     caspase-9                           mapk   \n",
       "28       wip1           p53                            irs   \n",
       "29      53bp1          stat                    pi 3-kinase   \n",
       "\n",
       "                              TGF-B                           cAMP  \\\n",
       "0                          tgf-beta                           camp   \n",
       "1                               rho                            pka   \n",
       "2                              smad                           cftr   \n",
       "3                               tgf                           creb   \n",
       "4                              rhoa               protein kinase a   \n",
       "5                      beta-catenin                           epac   \n",
       "6                             smad3                            hcg   \n",
       "7                             smad2               adenylyl cyclase   \n",
       "8                               wnt                             lh   \n",
       "9                        e-cadherin                           pde4   \n",
       "10                              shh                            tsh   \n",
       "11                            smad4                            erk   \n",
       "12                              yap                           tshr   \n",
       "13                          tgfbeta                           pge2   \n",
       "14                              bmp                           rap1   \n",
       "15  transforming growth factor-beta                            cre   \n",
       "16                            hippo                           cgmp   \n",
       "17                             rock                          epac1   \n",
       "18                           tgf-β1                           erk1   \n",
       "19                        β-catenin  camp-dependent protein kinase   \n",
       "20                             tgfβ                           cgrp   \n",
       "21                            smad7                          glp-1   \n",
       "22       transforming growth factor                            pth   \n",
       "23                        tgf-beta1                     calcitonin   \n",
       "24                          activin                            fsh   \n",
       "25                             ctgf              adenylate cyclase   \n",
       "26                              taz                           mc1r   \n",
       "27                            smads                           acth   \n",
       "28                             rac1                           mc4r   \n",
       "29  transforming growth factor beta                             cl   \n",
       "\n",
       "                Notch/Hedgehog  ...                           PI3K  \\\n",
       "0                        notch  ...                            akt   \n",
       "1                       notch1  ...                           pi3k   \n",
       "2                     hedgehog  ...                            erk   \n",
       "3                           hh  ...                           ampk   \n",
       "4                          paf  ...                           mtor   \n",
       "5                         hes1  ...                           mapk   \n",
       "6                       notch3  ...                           pten   \n",
       "7                         dll4  ...                           erk1   \n",
       "8                       notch2  ...                        insulin   \n",
       "9                      jagged1  ...                            ras   \n",
       "10                         smo  ...                           vegf   \n",
       "11                         wnt  ...                            mek   \n",
       "12                        gli1  ...                          nf-κb   \n",
       "13             gamma-secretase  ...                         gm-csf   \n",
       "14                     notch-1  ...  phosphatidylinositol 3-kinase   \n",
       "15                 γ-secretase  ...                          bcl-2   \n",
       "16                         gli  ...                           egfr   \n",
       "17                        jag1  ...                            src   \n",
       "18                        nicd  ...                          igf-i   \n",
       "19                        numb  ...                      caspase-3   \n",
       "20                         shh  ...                            pkb   \n",
       "21                  smoothened  ...                            hgf   \n",
       "22                        dll1  ...                            bax   \n",
       "23                     mir-34a  ...                            p53   \n",
       "24                       ptch1  ...                          stat3   \n",
       "25                        hey1  ...                            p38   \n",
       "26                    jagged-1  ...                            fak   \n",
       "27                        gli2  ...                           her2   \n",
       "28  platelet-activating factor  ...                           enos   \n",
       "29                  presenilin  ...                            bcr   \n",
       "\n",
       "                            NFkB/JNK                  actin/PDGF/FGF  \\\n",
       "0                          nf-kappab                           actin   \n",
       "1                                jnk                            pdgf   \n",
       "2                                p38              actin cytoskeleton   \n",
       "3                               ap-1                        clathrin   \n",
       "4                              c-jun                            rac1   \n",
       "5                                erk                             fgf   \n",
       "6                               mapk                           cdc42   \n",
       "7                           tnfalpha                             rac   \n",
       "8            c-jun n-terminal kinase                         f-actin   \n",
       "9                       ikappabalpha                             ret   \n",
       "10                               ikk                            fgfr   \n",
       "11                               p65                         pdgf-bb   \n",
       "12                          p38 mapk                             rho   \n",
       "13                              erk1                         cofilin   \n",
       "14                           ikappab                            bfgf   \n",
       "15                          il-1beta                           pdgfr   \n",
       "16                              sapk                           fgf-2   \n",
       "17                              jnk1  platelet-derived growth factor   \n",
       "18                               akt                           pthrp   \n",
       "19                        nf-kappab.                            rhoa   \n",
       "20                              lmp1                           fgfr1   \n",
       "21                           ikkbeta                 actin filaments   \n",
       "22                             c-fos                             pth   \n",
       "23                             mmp-9                             erk   \n",
       "24                              il-8                         dynamin   \n",
       "25                             mapks                            pak1   \n",
       "26                               tnf                            vegf   \n",
       "27  mitogen-activated protein kinase                            fgfs   \n",
       "28                             traf6                       cortactin   \n",
       "29                           caspase        fibroblast growth factor   \n",
       "\n",
       "                         ROS                      thrombin               PKC  \\\n",
       "0                       nrf2                      thrombin               pkc   \n",
       "1                      cox-2                            tf  protein kinase c   \n",
       "2                        hgf                          par1               pka   \n",
       "3                     leptin                         par-1               erk   \n",
       "4                        met                          pars          pkcalpha   \n",
       "5                      c-met                           csf              mapk   \n",
       "6                       pge2                          par2              erk1   \n",
       "7                        app                    fibrinogen          pkcdelta   \n",
       "8                      hsp90                           par            marcks   \n",
       "9                       il-4                           apc               plc   \n",
       "10                   histone                         par-2            camkii   \n",
       "11                      cd44                        fibrin               ras   \n",
       "12                     sirt1                          rhoa               pkd   \n",
       "13                       tau                           vwf               akt   \n",
       "14               fibronectin                          tfpi              camp   \n",
       "15                      vegf                         fviia              pkcα   \n",
       "16                       vdr                           rho              pi3k   \n",
       "17                      cd28             thrombin receptor               egf   \n",
       "18                       cd3                      collagen              pkcs   \n",
       "19                      jak2                           fxa               src   \n",
       "20                      ho-1                          par4               mek   \n",
       "21                     nlrp3                       plasmin               pld   \n",
       "22                      mapk                 tissue factor         pkc-alpha   \n",
       "23                     il-13                         par-4           insulin   \n",
       "24                     nf-κb                          epcr   phospholipase c   \n",
       "25                      erk1                           opn             c-fos   \n",
       "26                telomerase                        tfpi-2     nadph oxidase   \n",
       "27  hepatocyte growth factor                            xa        pkcepsilon   \n",
       "28                    icam-1  protease-activated receptors         pkc alpha   \n",
       "29                      beta                          par3             rack1   \n",
       "\n",
       "         interleukin              T-cell receptor            AR/NFkB  \\\n",
       "0               il-2                          tcr              nf-κb   \n",
       "1   protein kinase c                        gpcrs                 ar   \n",
       "2              il-15                          src           androgen   \n",
       "3      interleukin-2                    g-protein               il-8   \n",
       "4               il-7                          syk          ubiquitin   \n",
       "5              stat5                          plc               tlr4   \n",
       "6              il-2r              phospholipase c  androgen receptor   \n",
       "7               jak3                          lck                epo   \n",
       "8        calcineurin                          rgs               tlr2   \n",
       "9               cd28                       zap-70                p65   \n",
       "10              il-4                          trp              hmgb1   \n",
       "11     il-2 receptor                          lat               toll   \n",
       "12               cd3                          cd3               mapk   \n",
       "13        il-2r beta                          fyn                akt   \n",
       "14              il-9  g-protein-coupled receptors      interleukin-8   \n",
       "15              cd25  g protein-coupled receptors                tlr   \n",
       "16             foxp3                    g protein     erythropoietin   \n",
       "17              nfat                       slp-76                ahr   \n",
       "18       il-2r alpha                   g-proteins              cox-2   \n",
       "19             il-21                         pip2               il-6   \n",
       "20             il-10                      antigen              cxcr2   \n",
       "21              il-1                         cd28               epor   \n",
       "22     interleukin 2                   g proteins                psa   \n",
       "23      il-2-induced                         rgs4               erk1   \n",
       "24               src          glutamate receptors                erk   \n",
       "25              stat                     arrestin                ikk   \n",
       "26              jak1                          sh2               ltb4   \n",
       "27            gm-csf                          vav               tlrs   \n",
       "28  protein kinase a                         rgs2               ezh2   \n",
       "29             il-12                         il-2              myd88   \n",
       "\n",
       "   cell cycle  \n",
       "0         ras  \n",
       "1         p53  \n",
       "2       c-myc  \n",
       "3          rb  \n",
       "4         myc  \n",
       "5         p21  \n",
       "6       bcl-2  \n",
       "7         bax  \n",
       "8         e2f  \n",
       "9         p27  \n",
       "10        prb  \n",
       "11        atm  \n",
       "12        raf  \n",
       "13        erk  \n",
       "14      k-ras  \n",
       "15        akt  \n",
       "16       tp53  \n",
       "17       cdk2  \n",
       "18  cyclin d1  \n",
       "19        dsb  \n",
       "20       e2f1  \n",
       "21        cdk  \n",
       "22       chk1  \n",
       "23       cdk4  \n",
       "24        p16  \n",
       "25        mek  \n",
       "26       kras  \n",
       "27       mapk  \n",
       "28       nhej  \n",
       "29  caspase-3  \n",
       "\n",
       "[30 rows x 30 columns]"
      ]
     },
     "execution_count": 715,
     "metadata": {},
     "output_type": "execute_result"
    }
   ],
   "source": [
    "pd.DataFrame(final_dict,index=range(0,30))"
   ]
  },
  {
   "cell_type": "code",
   "execution_count": 716,
   "metadata": {},
   "outputs": [],
   "source": [
    "with open('final_dict.pickle', 'wb') as write_file:\n",
    "    pickle.dump(final_dict, write_file)"
   ]
  },
  {
   "cell_type": "code",
   "execution_count": 711,
   "metadata": {},
   "outputs": [
    {
     "ename": "ModuleNotFoundError",
     "evalue": "No module named 'tabulate'",
     "output_type": "error",
     "traceback": [
      "\u001b[0;31m---------------------------------------------------------------------------\u001b[0m",
      "\u001b[0;31mModuleNotFoundError\u001b[0m                       Traceback (most recent call last)",
      "\u001b[0;32m<ipython-input-711-5df088049afd>\u001b[0m in \u001b[0;36m<module>\u001b[0;34m\u001b[0m\n\u001b[0;32m----> 1\u001b[0;31m \u001b[0;32mfrom\u001b[0m \u001b[0mtabulate\u001b[0m \u001b[0;32mimport\u001b[0m \u001b[0mtabulate\u001b[0m\u001b[0;34m\u001b[0m\u001b[0;34m\u001b[0m\u001b[0m\n\u001b[0m",
      "\u001b[0;31mModuleNotFoundError\u001b[0m: No module named 'tabulate'"
     ]
    }
   ],
   "source": [
    "from tabulate import tabulate"
   ]
  },
  {
   "cell_type": "code",
   "execution_count": 710,
   "metadata": {},
   "outputs": [
    {
     "ename": "AttributeError",
     "evalue": "'dict' object has no attribute 'to_markdown'",
     "output_type": "error",
     "traceback": [
      "\u001b[0;31m---------------------------------------------------------------------------\u001b[0m",
      "\u001b[0;31mAttributeError\u001b[0m                            Traceback (most recent call last)",
      "\u001b[0;32m<ipython-input-710-7eed30b8bd57>\u001b[0m in \u001b[0;36m<module>\u001b[0;34m\u001b[0m\n\u001b[0;32m----> 1\u001b[0;31m \u001b[0mfinal_dict\u001b[0m\u001b[0;34m.\u001b[0m\u001b[0mto_markdown\u001b[0m\u001b[0;34m(\u001b[0m\u001b[0;34m)\u001b[0m\u001b[0;34m\u001b[0m\u001b[0;34m\u001b[0m\u001b[0m\n\u001b[0m",
      "\u001b[0;31mAttributeError\u001b[0m: 'dict' object has no attribute 'to_markdown'"
     ]
    }
   ],
   "source": [
    "final_dict.to_markdown()"
   ]
  },
  {
   "cell_type": "code",
   "execution_count": 66,
   "metadata": {},
   "outputs": [],
   "source": [
    "from gensim.corpora import Dictionary\n",
    "from gensim.models.tfidfmodel import TfidfModel\n",
    "from gensim.models import nmf"
   ]
  },
  {
   "cell_type": "code",
   "execution_count": 71,
   "metadata": {},
   "outputs": [],
   "source": [
    "docs_dict_other = Dictionary(docs_other)"
   ]
  },
  {
   "cell_type": "code",
   "execution_count": 72,
   "metadata": {},
   "outputs": [
    {
     "data": {
      "text/plain": [
       "410572"
      ]
     },
     "execution_count": 72,
     "metadata": {},
     "output_type": "execute_result"
    }
   ],
   "source": [
    "len(docs_dict_other)"
   ]
  },
  {
   "cell_type": "code",
   "execution_count": 73,
   "metadata": {},
   "outputs": [],
   "source": [
    "docs_dict_other.filter_extremes(no_below=5, no_above=0.1)"
   ]
  },
  {
   "cell_type": "code",
   "execution_count": 74,
   "metadata": {},
   "outputs": [],
   "source": [
    "docs_dict_other.compactify()"
   ]
  },
  {
   "cell_type": "code",
   "execution_count": 75,
   "metadata": {},
   "outputs": [
    {
     "data": {
      "text/plain": [
       "44986"
      ]
     },
     "execution_count": 75,
     "metadata": {},
     "output_type": "execute_result"
    }
   ],
   "source": [
    "len(docs_dict_other)"
   ]
  },
  {
   "cell_type": "code",
   "execution_count": 76,
   "metadata": {},
   "outputs": [],
   "source": [
    "docs_corpus = [docs_dict_other.doc2bow(doc) for doc in docs_other]"
   ]
  },
  {
   "cell_type": "code",
   "execution_count": 77,
   "metadata": {},
   "outputs": [],
   "source": [
    "model_tfidf = TfidfModel(docs_corpus, id2word=docs_dict_other)"
   ]
  },
  {
   "cell_type": "code",
   "execution_count": 78,
   "metadata": {},
   "outputs": [],
   "source": [
    "docs_tfidf  = model_tfidf[docs_corpus]"
   ]
  },
  {
   "cell_type": "code",
   "execution_count": 843,
   "metadata": {},
   "outputs": [],
   "source": []
  },
  {
   "cell_type": "code",
   "execution_count": 110,
   "metadata": {},
   "outputs": [],
   "source": [
    "neg_matrix_3 = nmf.Nmf(docs_tfidf, num_topics=25)"
   ]
  },
  {
   "cell_type": "code",
   "execution_count": 111,
   "metadata": {},
   "outputs": [],
   "source": [
    "nmf_term_topic_other = neg_matrix_3.get_topics()"
   ]
  },
  {
   "cell_type": "code",
   "execution_count": 112,
   "metadata": {},
   "outputs": [
    {
     "data": {
      "text/plain": [
       "14426"
      ]
     },
     "execution_count": 112,
     "metadata": {},
     "output_type": "execute_result"
    }
   ],
   "source": [
    "sum(nmf_term_topic_other[1] > 0)"
   ]
  },
  {
   "cell_type": "code",
   "execution_count": 113,
   "metadata": {},
   "outputs": [],
   "source": [
    "nmf_term_topic_other = pd.DataFrame(nmf_term_topic_other)"
   ]
  },
  {
   "cell_type": "code",
   "execution_count": 114,
   "metadata": {},
   "outputs": [],
   "source": [
    "nmf_term_topic_other.columns = docs_dict_other.values()"
   ]
  },
  {
   "cell_type": "code",
   "execution_count": 115,
   "metadata": {},
   "outputs": [],
   "source": [
    "nmf_term_topic_other = nmf_term_topic_other.transpose()"
   ]
  },
  {
   "cell_type": "markdown",
   "metadata": {},
   "source": [
    "0 - tpa and muscle \n",
    "1 - macrophage and monocyte and neuron\n",
    "2 - b cells\n",
    "3 - various cellular components\n",
    "4 - nucelar\n",
    "5 - lymphocyte\n",
    "6 -\n",
    "7 - neutrophil\n",
    "8 - neuromuscular\n",
    "9 - amino acids\n",
    "10 - brain and cns\n",
    "11 - tumors, tissues, stem cells\n",
    "12 - platelets\n",
    "13 - vascular cells\n",
    "14 - lipid membranes\n",
    "15 - t-cells\n",
    "16 - neurons\n",
    "17 - ?\n",
    "18 - heart\n",
    "19 - chromatin\n",
    "20 - eye\n",
    "21 - calcium \n",
    "22 - calcium\n",
    "23 - t-cells\n",
    "24 - keratinocyte"
   ]
  },
  {
   "cell_type": "code",
   "execution_count": 628,
   "metadata": {},
   "outputs": [
    {
     "ename": "NameError",
     "evalue": "name 'nmf_term_topic_other' is not defined",
     "output_type": "error",
     "traceback": [
      "\u001b[0;31m---------------------------------------------------------------------------\u001b[0m",
      "\u001b[0;31mNameError\u001b[0m                                 Traceback (most recent call last)",
      "\u001b[0;32m<ipython-input-628-3cc4a47acc25>\u001b[0m in \u001b[0;36m<module>\u001b[0;34m\u001b[0m\n\u001b[0;32m----> 1\u001b[0;31m \u001b[0mnmf_term_topic_other\u001b[0m\u001b[0;34m.\u001b[0m\u001b[0msort_values\u001b[0m\u001b[0;34m(\u001b[0m\u001b[0;36m1\u001b[0m\u001b[0;34m,\u001b[0m\u001b[0mascending\u001b[0m\u001b[0;34m=\u001b[0m\u001b[0;32mFalse\u001b[0m\u001b[0;34m)\u001b[0m\u001b[0;34m.\u001b[0m\u001b[0mhead\u001b[0m\u001b[0;34m(\u001b[0m\u001b[0;36m20\u001b[0m\u001b[0;34m)\u001b[0m\u001b[0;34m\u001b[0m\u001b[0;34m\u001b[0m\u001b[0m\n\u001b[0m",
      "\u001b[0;31mNameError\u001b[0m: name 'nmf_term_topic_other' is not defined"
     ]
    }
   ],
   "source": [
    "nmf_term_topic_other.sort_values(1,ascending=False).head(20)"
   ]
  },
  {
   "cell_type": "code",
   "execution_count": null,
   "metadata": {},
   "outputs": [],
   "source": []
  }
 ],
 "metadata": {
  "kernelspec": {
   "display_name": "Python 3",
   "language": "python",
   "name": "python3"
  },
  "language_info": {
   "codemirror_mode": {
    "name": "ipython",
    "version": 3
   },
   "file_extension": ".py",
   "mimetype": "text/x-python",
   "name": "python",
   "nbconvert_exporter": "python",
   "pygments_lexer": "ipython3",
   "version": "3.7.6"
  }
 },
 "nbformat": 4,
 "nbformat_minor": 4
}
