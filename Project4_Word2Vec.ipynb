{
 "cells": [
  {
   "cell_type": "markdown",
   "metadata": {},
   "source": [
    "# Word2Vec model"
   ]
  },
  {
   "cell_type": "code",
   "execution_count": 350,
   "metadata": {},
   "outputs": [],
   "source": [
    "import spacy\n",
    "import scispacy\n",
    "import pickle\n",
    "import numpy as np\n",
    "import pandas as pd\n",
    "import re\n",
    "import en_ner_bionlp13cg_md\n",
    "from sklearn.decomposition import PCA\n",
    "import matplotlib.pyplot as plt\n",
    "plt.style.use('classic')"
   ]
  },
  {
   "cell_type": "markdown",
   "metadata": {},
   "source": [
    "A list of tokenized sentences is needed for a Word2Vec model "
   ]
  },
  {
   "cell_type": "code",
   "execution_count": 3,
   "metadata": {},
   "outputs": [],
   "source": [
    "nlp = en_ner_bionlp13cg_md.load()"
   ]
  },
  {
   "cell_type": "code",
   "execution_count": 4,
   "metadata": {},
   "outputs": [],
   "source": [
    "#tokenizer split on '/' also\n",
    "infixes = nlp.Defaults.infixes + (r'''/''',)\n",
    "infix_regex = spacy.util.compile_infix_regex(infixes)\n",
    "nlp.tokenizer.infix_finditer = infix_regex.finditer"
   ]
  },
  {
   "cell_type": "code",
   "execution_count": 5,
   "metadata": {},
   "outputs": [],
   "source": [
    "#merge identified entitites into chunks, this is important for multi-word proteins \n",
    "merge_ents = nlp.create_pipe(\"merge_entities\")\n",
    "nlp.add_pipe(merge_ents)"
   ]
  },
  {
   "cell_type": "code",
   "execution_count": 21,
   "metadata": {},
   "outputs": [],
   "source": [
    "#had turned on noun chunks but model was better with it disabled\n",
    "merge_nouns = nlp.create_pipe(\"merge_noun_chunks\")\n",
    "nlp.add_pipe(merge_nouns)"
   ]
  },
  {
   "cell_type": "code",
   "execution_count": 65,
   "metadata": {},
   "outputs": [],
   "source": [
    "#add the sentencizer pipe component from spacy\n",
    "nlp.add_pipe(nlp.create_pipe('sentencizer'))"
   ]
  },
  {
   "cell_type": "code",
   "execution_count": 56,
   "metadata": {},
   "outputs": [],
   "source": [
    "#define the keep token rules: the token needs to be more than 1 character and not a stop word\n",
    "def keep_token(t):\n",
    "    #return (t.ent_type != 0 or t.pos_ == \"NOUN\" or t.pos_ == \"PROPN\" or t.pos_ == \"VERB\") \n",
    "    return (t.__len__() > 1 and t.is_stop == False)"
   ]
  },
  {
   "cell_type": "code",
   "execution_count": 8,
   "metadata": {},
   "outputs": [],
   "source": [
    "import os\n",
    "os.chdir('/Volumes/BethMac/Metis Proj 4 data/')"
   ]
  },
  {
   "cell_type": "code",
   "execution_count": 9,
   "metadata": {},
   "outputs": [],
   "source": [
    "with open('title_abstract_docs_list.pickle', 'rb') as read_file:\n",
    "    abstracts = pickle.load(read_file)"
   ]
  },
  {
   "cell_type": "code",
   "execution_count": 10,
   "metadata": {},
   "outputs": [
    {
     "data": {
      "text/plain": [
       "337871"
      ]
     },
     "execution_count": 10,
     "metadata": {},
     "output_type": "execute_result"
    }
   ],
   "source": [
    "len(abstracts)"
   ]
  },
  {
   "cell_type": "code",
   "execution_count": 11,
   "metadata": {},
   "outputs": [],
   "source": [
    "import re"
   ]
  },
  {
   "cell_type": "code",
   "execution_count": 12,
   "metadata": {},
   "outputs": [],
   "source": [
    "#remove new line characters from abstracts\n",
    "abstracts = list(map(lambda x: re.sub('\\\\n',' ', x),abstracts))"
   ]
  },
  {
   "cell_type": "code",
   "execution_count": 71,
   "metadata": {},
   "outputs": [],
   "source": [
    "nlp_abstracts = nlp.pipe(abstracts, disable=[\"parser\",\"merge_nouns\"])"
   ]
  },
  {
   "cell_type": "code",
   "execution_count": 72,
   "metadata": {
    "collapsed": true,
    "jupyter": {
     "outputs_hidden": true
    }
   },
   "outputs": [
    {
     "name": "stdout",
     "output_type": "stream",
     "text": [
      "1000\n",
      "2000\n",
      "3000\n",
      "4000\n",
      "5000\n",
      "6000\n",
      "7000\n",
      "8000\n",
      "9000\n",
      "10000\n",
      "11000\n",
      "12000\n",
      "13000\n",
      "14000\n",
      "15000\n",
      "16000\n",
      "17000\n",
      "18000\n",
      "19000\n",
      "20000\n",
      "21000\n",
      "22000\n",
      "23000\n",
      "24000\n",
      "25000\n",
      "26000\n",
      "27000\n",
      "28000\n",
      "29000\n",
      "30000\n",
      "31000\n",
      "32000\n",
      "33000\n",
      "34000\n",
      "35000\n",
      "36000\n",
      "37000\n",
      "38000\n",
      "39000\n",
      "40000\n",
      "41000\n",
      "42000\n",
      "43000\n",
      "44000\n",
      "45000\n",
      "46000\n",
      "47000\n",
      "48000\n",
      "49000\n",
      "50000\n",
      "51000\n",
      "52000\n",
      "53000\n",
      "54000\n",
      "55000\n",
      "56000\n",
      "57000\n",
      "58000\n",
      "59000\n",
      "60000\n",
      "61000\n",
      "62000\n",
      "63000\n",
      "64000\n",
      "65000\n",
      "66000\n",
      "67000\n",
      "68000\n",
      "69000\n",
      "70000\n",
      "71000\n",
      "72000\n",
      "73000\n",
      "74000\n",
      "75000\n",
      "76000\n",
      "77000\n",
      "78000\n",
      "79000\n",
      "80000\n",
      "81000\n",
      "82000\n",
      "83000\n",
      "84000\n",
      "85000\n",
      "86000\n",
      "87000\n",
      "88000\n",
      "89000\n",
      "90000\n",
      "91000\n",
      "92000\n",
      "93000\n",
      "94000\n",
      "95000\n",
      "96000\n",
      "97000\n",
      "98000\n",
      "99000\n",
      "100000\n",
      "101000\n",
      "102000\n",
      "103000\n",
      "104000\n",
      "105000\n",
      "106000\n",
      "107000\n",
      "108000\n",
      "109000\n",
      "110000\n",
      "111000\n",
      "112000\n",
      "113000\n",
      "114000\n",
      "115000\n",
      "116000\n",
      "117000\n",
      "118000\n",
      "119000\n",
      "120000\n",
      "121000\n",
      "122000\n",
      "123000\n",
      "124000\n",
      "125000\n",
      "126000\n",
      "127000\n",
      "128000\n",
      "129000\n",
      "130000\n",
      "131000\n",
      "132000\n",
      "133000\n",
      "134000\n",
      "135000\n",
      "136000\n",
      "137000\n",
      "138000\n",
      "139000\n",
      "140000\n",
      "141000\n",
      "142000\n",
      "143000\n",
      "144000\n",
      "145000\n",
      "146000\n",
      "147000\n",
      "148000\n",
      "149000\n",
      "150000\n",
      "151000\n",
      "152000\n",
      "153000\n",
      "154000\n",
      "155000\n",
      "156000\n",
      "157000\n",
      "158000\n",
      "159000\n",
      "160000\n",
      "161000\n",
      "162000\n",
      "163000\n",
      "164000\n",
      "165000\n",
      "166000\n",
      "167000\n",
      "168000\n",
      "169000\n",
      "170000\n",
      "171000\n",
      "172000\n",
      "173000\n",
      "174000\n",
      "175000\n",
      "176000\n",
      "177000\n",
      "178000\n",
      "179000\n",
      "180000\n",
      "181000\n",
      "182000\n",
      "183000\n",
      "184000\n",
      "185000\n",
      "186000\n",
      "187000\n",
      "188000\n",
      "189000\n",
      "190000\n",
      "191000\n",
      "192000\n",
      "193000\n",
      "194000\n",
      "195000\n",
      "196000\n",
      "197000\n",
      "198000\n",
      "199000\n",
      "200000\n",
      "201000\n",
      "202000\n",
      "203000\n",
      "204000\n",
      "205000\n",
      "206000\n",
      "207000\n",
      "208000\n",
      "209000\n",
      "210000\n",
      "211000\n",
      "212000\n",
      "213000\n",
      "214000\n",
      "215000\n",
      "216000\n",
      "217000\n",
      "218000\n",
      "219000\n",
      "220000\n",
      "221000\n",
      "222000\n",
      "223000\n",
      "224000\n",
      "225000\n",
      "226000\n",
      "227000\n",
      "228000\n",
      "229000\n",
      "230000\n",
      "231000\n",
      "232000\n",
      "233000\n",
      "234000\n",
      "235000\n",
      "236000\n",
      "237000\n",
      "238000\n",
      "239000\n",
      "240000\n",
      "241000\n",
      "242000\n",
      "243000\n",
      "244000\n",
      "245000\n",
      "246000\n",
      "247000\n",
      "248000\n",
      "249000\n",
      "250000\n",
      "251000\n",
      "252000\n",
      "253000\n",
      "254000\n",
      "255000\n",
      "256000\n",
      "257000\n",
      "258000\n",
      "259000\n",
      "260000\n",
      "261000\n",
      "262000\n",
      "263000\n",
      "264000\n",
      "265000\n",
      "266000\n",
      "267000\n",
      "268000\n",
      "269000\n",
      "270000\n",
      "271000\n",
      "272000\n",
      "273000\n",
      "274000\n",
      "275000\n",
      "276000\n",
      "277000\n",
      "278000\n",
      "279000\n",
      "280000\n",
      "281000\n",
      "282000\n",
      "283000\n",
      "284000\n",
      "285000\n",
      "286000\n",
      "287000\n",
      "288000\n",
      "289000\n",
      "290000\n",
      "291000\n",
      "292000\n",
      "293000\n",
      "294000\n",
      "295000\n",
      "296000\n",
      "297000\n",
      "298000\n",
      "299000\n",
      "300000\n",
      "301000\n",
      "302000\n",
      "303000\n",
      "304000\n",
      "305000\n",
      "306000\n",
      "307000\n",
      "308000\n",
      "309000\n",
      "310000\n",
      "311000\n",
      "312000\n",
      "313000\n",
      "314000\n",
      "315000\n",
      "316000\n",
      "317000\n",
      "318000\n",
      "319000\n",
      "320000\n",
      "321000\n",
      "322000\n",
      "323000\n",
      "324000\n",
      "325000\n",
      "326000\n",
      "327000\n",
      "328000\n",
      "329000\n",
      "330000\n",
      "331000\n",
      "332000\n",
      "333000\n",
      "334000\n",
      "335000\n",
      "336000\n",
      "337000\n"
     ]
    }
   ],
   "source": [
    "#build the sentence tokens list\n",
    "sentence_tokens = []\n",
    "count = 0\n",
    "\n",
    "for doc in nlp_abstracts:\n",
    "    sentences = doc.sents\n",
    "    for s in sentences:\n",
    "        sentence_tokens.append([re.sub('[)(]|\\-$','',t.lemma_.lower()) for t in s if keep_token(t)])\n",
    "    count += 1\n",
    "    if count%1000 == 0:\n",
    "        print(count)"
   ]
  },
  {
   "cell_type": "code",
   "execution_count": 74,
   "metadata": {},
   "outputs": [
    {
     "data": {
      "text/plain": [
       "['ultrastructural',\n",
       " 'localization',\n",
       " \"5'nucleotidase\",\n",
       " 'human',\n",
       " 'normal',\n",
       " \"malignant lymphoid cells.5'nucleotidase ec 3.1.3.5\",\n",
       " 'purine',\n",
       " 'pathway',\n",
       " 'enzyme',\n",
       " 'occur',\n",
       " 'cellular',\n",
       " 'ectoenzyme']"
      ]
     },
     "execution_count": 74,
     "metadata": {},
     "output_type": "execute_result"
    }
   ],
   "source": [
    "sentence_tokens[0]"
   ]
  },
  {
   "cell_type": "code",
   "execution_count": 75,
   "metadata": {},
   "outputs": [],
   "source": [
    "#with open('sentence_tokens.pickle', 'wb') as write_file:\n",
    "#    pickle.dump(sentence_tokens,write_file)"
   ]
  },
  {
   "cell_type": "markdown",
   "metadata": {},
   "source": [
    "Train a small Word2Vec model. It's a CBOW model by default, and I used a window of 2 words on either side of the focus word and a vector size of 30. Words in less than 20 documents were excluded."
   ]
  },
  {
   "cell_type": "code",
   "execution_count": 351,
   "metadata": {},
   "outputs": [],
   "source": [
    "from gensim.models import Word2Vec"
   ]
  },
  {
   "cell_type": "code",
   "execution_count": 85,
   "metadata": {},
   "outputs": [],
   "source": [
    "w2v_model = Word2Vec(sentence_tokens,\n",
    "                     min_count=20,\n",
    "                     window=2,\n",
    "                     size=30,\n",
    "                     workers=3)"
   ]
  },
  {
   "cell_type": "code",
   "execution_count": 240,
   "metadata": {},
   "outputs": [],
   "source": [
    "#with open('w2v_model.pickle', 'wb') as write_file:\n",
    "#    pickle.dump(w2v_model, write_file)"
   ]
  },
  {
   "cell_type": "code",
   "execution_count": null,
   "metadata": {},
   "outputs": [],
   "source": [
    "with open('w2v_model.pickle', 'rb') as read_file:\n",
    "    w2v_model = pickle.load(read_file)"
   ]
  },
  {
   "cell_type": "markdown",
   "metadata": {},
   "source": [
    "Looked at similarities between words"
   ]
  },
  {
   "cell_type": "code",
   "execution_count": 356,
   "metadata": {},
   "outputs": [
    {
     "data": {
      "text/plain": [
       "[('linc00261', 0.9541552066802979),\n",
       " ('phf5a', 0.9534187316894531),\n",
       " ('mael', 0.9482311010360718),\n",
       " ('hoxa6', 0.9390056133270264),\n",
       " ('nfix', 0.9303953647613525),\n",
       " ('mir-490-5p', 0.9303116798400879),\n",
       " ('rnaseh2a', 0.93006432056427),\n",
       " ('sulf-1', 0.9300011396408081),\n",
       " ('cc10', 0.9284472465515137),\n",
       " ('klf13', 0.928395688533783)]"
      ]
     },
     "execution_count": 356,
     "metadata": {},
     "output_type": "execute_result"
    }
   ],
   "source": [
    "w2v_model.wv.most_similar(positive=[\"piwil4\"])"
   ]
  },
  {
   "cell_type": "code",
   "execution_count": 354,
   "metadata": {},
   "outputs": [
    {
     "data": {
      "text/plain": [
       "[('ago2', 0.9090682864189148),\n",
       " ('dicer', 0.9010425806045532),\n",
       " ('dgcr8', 0.8825297355651855),\n",
       " ('dicer1', 0.8360365033149719),\n",
       " ('auf1', 0.8236735463142395),\n",
       " ('sra', 0.8226485252380371),\n",
       " ('ogt', 0.8142427206039429),\n",
       " ('tsg101', 0.8045661449432373),\n",
       " ('adar1', 0.8012075424194336),\n",
       " ('hur', 0.8008813261985779)]"
      ]
     },
     "execution_count": 354,
     "metadata": {},
     "output_type": "execute_result"
    }
   ],
   "source": [
    "w2v_model.wv.most_similar(positive=[\"drosha\"])"
   ]
  },
  {
   "cell_type": "code",
   "execution_count": 89,
   "metadata": {},
   "outputs": [
    {
     "data": {
      "text/plain": [
       "[('estrogen', 0.9045140743255615),\n",
       " ('oestrogen', 0.836421549320221),\n",
       " ('progestin', 0.8155102729797363),\n",
       " ('ar', 0.8034884929656982),\n",
       " ('human androgen', 0.7988086938858032),\n",
       " ('progesterone', 0.7933131456375122),\n",
       " ('castration', 0.7886373400688171),\n",
       " ('antiestrogen', 0.783228874206543),\n",
       " ('androgen receptor', 0.7777259349822998),\n",
       " ('estradiol', 0.7774113416671753)]"
      ]
     },
     "execution_count": 89,
     "metadata": {},
     "output_type": "execute_result"
    }
   ],
   "source": [
    "w2v_model.wv.most_similar(positive=[\"androgen\"])"
   ]
  },
  {
   "cell_type": "code",
   "execution_count": 90,
   "metadata": {},
   "outputs": [
    {
     "name": "stderr",
     "output_type": "stream",
     "text": [
      "/opt/anaconda3/lib/python3.7/site-packages/gensim/models/keyedvectors.py:877: FutureWarning: arrays to stack must be passed as a \"sequence\" type such as list or tuple. Support for non-sequence iterables such as generators is deprecated as of NumPy 1.16 and will raise an error in the future.\n",
      "  vectors = vstack(self.word_vec(word, use_norm=True) for word in used_words).astype(REAL)\n"
     ]
    },
    {
     "data": {
      "text/plain": [
       "'caspase'"
      ]
     },
     "execution_count": 90,
     "metadata": {},
     "output_type": "execute_result"
    }
   ],
   "source": [
    "w2v_model.wv.doesnt_match(['smad', 'stat', 'caspase'])"
   ]
  },
  {
   "cell_type": "code",
   "execution_count": 339,
   "metadata": {},
   "outputs": [
    {
     "data": {
      "text/plain": [
       "[('janus kinase', 0.8022024631500244),\n",
       " ('jak', 0.7566204071044922),\n",
       " ('ikbke', 0.7434075474739075),\n",
       " ('jak2-stat3', 0.7219303846359253),\n",
       " ('jak-stat', 0.7154008150100708),\n",
       " ('janus kinases', 0.71361243724823),\n",
       " ('janus tyrosine kinases', 0.7063664197921753),\n",
       " ('nod2-mediated', 0.7057802081108093),\n",
       " ('socs-1', 0.702123761177063),\n",
       " ('il1', 0.6968396306037903)]"
      ]
     },
     "execution_count": 339,
     "metadata": {},
     "output_type": "execute_result"
    }
   ],
   "source": [
    "w2v_model.wv.most_similar(positive=['stat', 'tgfb'], negative=['smad'])"
   ]
  },
  {
   "cell_type": "code",
   "execution_count": 95,
   "metadata": {},
   "outputs": [
    {
     "data": {
      "text/plain": [
       "[('notch', 0.8736619353294373),\n",
       " ('β-catenin', 0.8687324523925781),\n",
       " ('hh', 0.8641165494918823),\n",
       " ('beta-catenin', 0.845676064491272),\n",
       " ('hippo', 0.8436160683631897),\n",
       " ('hedgehog', 0.842531681060791),\n",
       " ('shh', 0.8196277022361755),\n",
       " ('bmp', 0.8134657144546509),\n",
       " ('pcp', 0.8090837001800537),\n",
       " ('hedgehog-gli', 0.8014574646949768)]"
      ]
     },
     "execution_count": 95,
     "metadata": {},
     "output_type": "execute_result"
    }
   ],
   "source": [
    "w2v_model.wv.most_similar(positive=['wnt', 'stat'], negative=['jak'])"
   ]
  },
  {
   "cell_type": "code",
   "execution_count": 96,
   "metadata": {},
   "outputs": [
    {
     "data": {
      "text/plain": [
       "[('network', 0.7880990505218506),\n",
       " ('ddr', 0.7822858095169067),\n",
       " ('mtorc1', 0.774041473865509),\n",
       " ('yap', 0.7661123871803284),\n",
       " ('mtorc2', 0.7656790018081665),\n",
       " ('ras', 0.7572907209396362),\n",
       " ('torc1', 0.735136091709137),\n",
       " ('downstream', 0.7350701689720154),\n",
       " ('upstream', 0.7267253398895264),\n",
       " ('tor', 0.7166546583175659)]"
      ]
     },
     "execution_count": 96,
     "metadata": {},
     "output_type": "execute_result"
    }
   ],
   "source": [
    "w2v_model.wv.most_similar(positive=['hippo', 'smad'], negative=['tgfb'])"
   ]
  },
  {
   "cell_type": "code",
   "execution_count": 108,
   "metadata": {},
   "outputs": [
    {
     "data": {
      "text/plain": [
       "[('camkii', 0.8278478980064392),\n",
       " ('ca²⁺', 0.8230966329574585),\n",
       " ('ca2+', 0.8224935531616211),\n",
       " ('girk', 0.8108043670654297),\n",
       " ('kca3.1', 0.8071615099906921),\n",
       " ('katp', 0.8004486560821533),\n",
       " ('ip3 receptor', 0.8004202842712402),\n",
       " ('plasma membrane ca2+', 0.797620952129364),\n",
       " ('bkca', 0.7967962026596069),\n",
       " ('neuronal ca2+', 0.7962998747825623)]"
      ]
     },
     "execution_count": 108,
     "metadata": {},
     "output_type": "execute_result"
    }
   ],
   "source": [
    "w2v_model.wv.most_similar(positive=['calcium', 'pka'], negative=['camp'])"
   ]
  },
  {
   "cell_type": "code",
   "execution_count": 110,
   "metadata": {},
   "outputs": [
    {
     "data": {
      "text/plain": [
       "'neuron'"
      ]
     },
     "execution_count": 110,
     "metadata": {},
     "output_type": "execute_result"
    }
   ],
   "source": [
    "w2v_model.wv.doesnt_match(['t-cell', 'b-cell', 'macrophage','neutrophil','neuron'])"
   ]
  },
  {
   "cell_type": "code",
   "execution_count": 116,
   "metadata": {},
   "outputs": [
    {
     "data": {
      "text/plain": [
       "[('hspg', 0.8051071763038635),\n",
       " ('syndecan', 0.7531814575195312),\n",
       " ('ncam', 0.7417287826538086),\n",
       " ('importin', 0.735167384147644),\n",
       " ('n-glycans', 0.7329444885253906),\n",
       " ('plexin', 0.7303943634033203),\n",
       " ('integrin receptor', 0.7241027355194092),\n",
       " ('heparan sulfate proteoglycans', 0.7180184125900269),\n",
       " ('parathyroid hormone receptor', 0.7174355983734131),\n",
       " ('ephrin', 0.716456949710846)]"
      ]
     },
     "execution_count": 116,
     "metadata": {},
     "output_type": "execute_result"
    }
   ],
   "source": [
    "w2v_model.wv.most_similar(positive=['integrin', 'cadherin'], negative=['fak'])"
   ]
  },
  {
   "cell_type": "code",
   "execution_count": 118,
   "metadata": {},
   "outputs": [
    {
     "data": {
      "text/plain": [
       "'histone'"
      ]
     },
     "execution_count": 118,
     "metadata": {},
     "output_type": "execute_result"
    }
   ],
   "source": [
    "w2v_model.wv.doesnt_match(['integrin', 'cadherin', 'selectin', 'occludin', 'vcam', 'ncam', 'histone'])"
   ]
  },
  {
   "cell_type": "code",
   "execution_count": 119,
   "metadata": {},
   "outputs": [
    {
     "data": {
      "text/plain": [
       "'cbp'"
      ]
     },
     "execution_count": 119,
     "metadata": {},
     "output_type": "execute_result"
    }
   ],
   "source": [
    "w2v_model.wv.doesnt_match(['sirt', 'hdac', 'cbp'])"
   ]
  },
  {
   "cell_type": "code",
   "execution_count": 332,
   "metadata": {},
   "outputs": [
    {
     "data": {
      "text/plain": [
       "[('nik', 0.8875367045402527),\n",
       " ('ikkα', 0.8703591823577881),\n",
       " ('cjun', 0.8479061126708984),\n",
       " ('rel', 0.8435419201850891),\n",
       " ('ikk-alpha', 0.8390546441078186),\n",
       " ('ikk2', 0.8384244441986084),\n",
       " ('ikkβ', 0.8378127217292786),\n",
       " ('ikkalpha', 0.8296139240264893),\n",
       " ('mekk4', 0.827118456363678),\n",
       " ('jak kinases', 0.8263416290283203)]"
      ]
     },
     "execution_count": 332,
     "metadata": {},
     "output_type": "execute_result"
    }
   ],
   "source": [
    "w2v_model.wv.most_similar(positive=['keap1', 'nfkb'], negative=['nrf2'])"
   ]
  },
  {
   "cell_type": "code",
   "execution_count": 129,
   "metadata": {},
   "outputs": [
    {
     "data": {
      "text/plain": [
       "[('junb', 0.8578189015388489),\n",
       " ('jun', 0.8337555527687073),\n",
       " ('c-fos', 0.8277279734611511),\n",
       " ('fra-1', 0.8256969451904297),\n",
       " ('fra1', 0.8035809397697449),\n",
       " ('fosb', 0.8019673824310303),\n",
       " ('mapk3', 0.7997921705245972),\n",
       " ('protooncogene', 0.7941627502441406),\n",
       " ('fra-2', 0.791016161441803),\n",
       " ('smad 2', 0.7870793342590332)]"
      ]
     },
     "execution_count": 129,
     "metadata": {},
     "output_type": "execute_result"
    }
   ],
   "source": [
    "w2v_model.wv.most_similar(positive=['fos', 'β-catenin'], negative=['tcf'])"
   ]
  },
  {
   "cell_type": "code",
   "execution_count": 443,
   "metadata": {},
   "outputs": [],
   "source": [
    "def display_pca_scatterplot(model, words_1, words_2):\n",
    "    '''\n",
    "    Plot words from two related lists in PCA dimensions \n",
    "    Connect the words at the same index in each list with a line\n",
    "    '''\n",
    "   \n",
    "    words = words_1+words_2\n",
    "    word_vectors = np.array([model[w] for w in words])\n",
    "\n",
    "    twodim = PCA().fit_transform(word_vectors)[:,:2]\n",
    "    \n",
    "    plt.figure(figsize=(10,10),frameon=False)\n",
    "    plt.scatter(twodim[:len(words_1),0], twodim[:len(words_1),1], c=colors[0], s=50)\n",
    "    for word, (x,y) in zip(words_1, twodim[0:len(words_1)]):\n",
    "        plt.text(x+0.2, y-0.12, word, fontsize=17)\n",
    "        \n",
    "    plt.scatter(twodim[len(words_1):,0], twodim[len(words_1):,1], c=colors[1], s=50)\n",
    "    for word, (x,y) in zip(words_2, twodim[len(words_1):]):\n",
    "        plt.text(x+0.2, y-0.12, word, fontsize=17)\n",
    "        \n",
    "    for pos1, pos2 in zip(twodim[0:len(words_1)],twodim[len(words_1):]):\n",
    "        plt.plot([pos1[0],pos2[0]],[pos1[1],pos2[1]],c='grey',alpha=0.6)\n",
    "    "
   ]
  },
  {
   "cell_type": "code",
   "execution_count": 357,
   "metadata": {},
   "outputs": [],
   "source": [
    "colors = plt.cm.cool(np.linspace(0,1,2)) "
   ]
  },
  {
   "cell_type": "code",
   "execution_count": 447,
   "metadata": {},
   "outputs": [
    {
     "name": "stderr",
     "output_type": "stream",
     "text": [
      "'c' argument looks like a single numeric RGB or RGBA sequence, which should be avoided as value-mapping will have precedence in case its length matches with 'x' & 'y'.  Please use a 2-D array with a single row if you really want to specify the same RGB or RGBA value for all points.\n",
      "'c' argument looks like a single numeric RGB or RGBA sequence, which should be avoided as value-mapping will have precedence in case its length matches with 'x' & 'y'.  Please use a 2-D array with a single row if you really want to specify the same RGB or RGBA value for all points.\n"
     ]
    },
    {
     "data": {
      "image/png": "[encoded data removed]",
      "text/plain": [
       "<Figure size 800x800 with 1 Axes>"
      ]
     },
     "metadata": {},
     "output_type": "display_data"
    }
   ],
   "source": [
    "display_pca_scatterplot(w2v_model.wv, \n",
    "                        ['tgf-beta','shh','egf','vegf','fgf','pdgf','tnf','igf','thrombin','wnt','hgf','notch'],['tgfbr','ptch1','egfr','vegfr','fgfr','pdgfr','tnfr','igfr','par','frizzled','met','jagged'])\n",
    "\n",
    "#plt.savefig('ligands_receptors_2.jpg')"
   ]
  },
  {
   "cell_type": "code",
   "execution_count": 360,
   "metadata": {},
   "outputs": [
    {
     "name": "stderr",
     "output_type": "stream",
     "text": [
      "'c' argument looks like a single numeric RGB or RGBA sequence, which should be avoided as value-mapping will have precedence in case its length matches with 'x' & 'y'.  Please use a 2-D array with a single row if you really want to specify the same RGB or RGBA value for all points.\n",
      "'c' argument looks like a single numeric RGB or RGBA sequence, which should be avoided as value-mapping will have precedence in case its length matches with 'x' & 'y'.  Please use a 2-D array with a single row if you really want to specify the same RGB or RGBA value for all points.\n"
     ]
    },
    {
     "data": {
      "image/png": "[encoded data removed]",
      "text/plain": [
       "<Figure size 800x800 with 1 Axes>"
      ]
     },
     "metadata": {},
     "output_type": "display_data"
    }
   ],
   "source": [
    "display_pca_scatterplot(w2v_model.wv, \n",
    "                        ['mek1','pdk1','mkk4','mkk3','mek5','lats1'],['erk1','akt','jnk','p38','erk5','yap'])\n",
    "plt.savefig('kinases.jpg')"
   ]
  },
  {
   "cell_type": "markdown",
   "metadata": {},
   "source": [
    "More word comparisons"
   ]
  },
  {
   "cell_type": "code",
   "execution_count": 218,
   "metadata": {},
   "outputs": [
    {
     "data": {
      "text/plain": [
       "[('covalent', 0.8485742211341858),\n",
       " ('microtubule', 0.8032900094985962),\n",
       " ('hdac6', 0.7520396113395691),\n",
       " ('catalysis', 0.7511951923370361),\n",
       " ('sumo', 0.7480200529098511),\n",
       " ('isoprenylation', 0.7408669590950012),\n",
       " ('v-atpase', 0.739966869354248),\n",
       " ('p53-mdm2', 0.7331105470657349),\n",
       " ('cdk', 0.7321823835372925),\n",
       " ('intramolecular', 0.7314904928207397)]"
      ]
     },
     "execution_count": 218,
     "metadata": {},
     "output_type": "execute_result"
    }
   ],
   "source": [
    "w2v_model.wv.most_similar(positive=['actin', 'tubulin'], negative=['f-actin'])"
   ]
  },
  {
   "cell_type": "code",
   "execution_count": 233,
   "metadata": {},
   "outputs": [
    {
     "data": {
      "text/plain": [
       "[('trpv3', 0.8010115623474121),\n",
       " ('cardiac sodium', 0.7993009090423584),\n",
       " ('trpm8', 0.7888839244842529),\n",
       " ('opener', 0.7840880751609802),\n",
       " ('task-1', 0.7666166424751282),\n",
       " ('ca2+-channel', 0.7648312449455261),\n",
       " ('romk', 0.7630276679992676),\n",
       " ('task-3', 0.761641263961792),\n",
       " ('nav1.2', 0.7615337371826172),\n",
       " ('cardiac k+', 0.7614700794219971)]"
      ]
     },
     "execution_count": 233,
     "metadata": {},
     "output_type": "execute_result"
    }
   ],
   "source": [
    "w2v_model.wv.most_similar(positive=['trpv1', 'sodium'], negative=['calcium'])"
   ]
  },
  {
   "cell_type": "code",
   "execution_count": 345,
   "metadata": {},
   "outputs": [
    {
     "data": {
      "text/plain": [
       "[('ampar', 0.7801319360733032),\n",
       " ('synaptic sites', 0.7784178256988525),\n",
       " ('aqp2', 0.7709223031997681),\n",
       " ('ryanodine receptor', 0.7682939171791077),\n",
       " ('galphaq/11', 0.7642937302589417),\n",
       " ('presynaptic terminal', 0.7620334625244141),\n",
       " ('ampa receptors', 0.7618232369422913),\n",
       " ('synaptotagmin', 0.7517701983451843),\n",
       " ('sarcoplasmic reticulum', 0.7509982585906982),\n",
       " ('aquaporin-2', 0.7491650581359863)]"
      ]
     },
     "execution_count": 345,
     "metadata": {},
     "output_type": "execute_result"
    }
   ],
   "source": [
    "w2v_model.wv.most_similar(positive=['glut4', 'glutamate'], negative=['glucose'])"
   ]
  },
  {
   "cell_type": "code",
   "execution_count": 239,
   "metadata": {},
   "outputs": [
    {
     "data": {
      "text/plain": [
       "[('inositol phosphate', 0.7763963937759399),\n",
       " ('dag', 0.74626624584198),\n",
       " ('nitric oxide', 0.7407645583152771),\n",
       " ('extracellular adenosine', 0.7360578775405884),\n",
       " ('aldosterone', 0.7345423698425293),\n",
       " ('mitochondrial atp', 0.7312528491020203),\n",
       " ('intracellular ca2', 0.7297405004501343),\n",
       " ('diacylglycerol', 0.7243880033493042),\n",
       " ('ins1,4,5p3', 0.723926842212677),\n",
       " ('atp', 0.7187300324440002)]"
      ]
     },
     "execution_count": 239,
     "metadata": {},
     "output_type": "execute_result"
    }
   ],
   "source": [
    "w2v_model.wv.most_similar(positive=['camp', 'cgmp'], negative=['adenyl cyclase'])"
   ]
  },
  {
   "cell_type": "code",
   "execution_count": 246,
   "metadata": {},
   "outputs": [
    {
     "data": {
      "text/plain": [
       "[('er-stress', 0.7929482460021973),\n",
       " ('outer mitochondrial membrane', 0.7428703904151917),\n",
       " ('omm', 0.7249677181243896),\n",
       " ('er membrane', 0.7182671427726746),\n",
       " ('cytosol', 0.7180137634277344),\n",
       " ('bak', 0.7085184454917908),\n",
       " ('cytoplasm', 0.7074488997459412),\n",
       " ('mlkl', 0.705944299697876),\n",
       " ('nucleoplasmic', 0.7032440900802612),\n",
       " ('cytoplasmic membrane', 0.7011617422103882)]"
      ]
     },
     "execution_count": 246,
     "metadata": {},
     "output_type": "execute_result"
    }
   ],
   "source": [
    "w2v_model.wv.most_similar(positive=['mitochondria', 'endoplasmic reticulum'], negative=['energy'])"
   ]
  },
  {
   "cell_type": "code",
   "execution_count": 259,
   "metadata": {},
   "outputs": [
    {
     "data": {
      "text/plain": [
       "[('cardiovascular', 0.7808181643486023),\n",
       " ('neurodegenerative', 0.7685712575912476),\n",
       " ('neurological', 0.7679355144500732),\n",
       " ('neuropsychiatric', 0.766158401966095),\n",
       " ('cardiovascular disease', 0.7636638283729553),\n",
       " ('psychiatric', 0.751503586769104),\n",
       " ('diabete', 0.7447019219398499),\n",
       " ('diabetes', 0.7409890294075012),\n",
       " ('alcoholism', 0.7381901144981384),\n",
       " ('atherosclerosis', 0.7346017360687256)]"
      ]
     },
     "execution_count": 259,
     "metadata": {},
     "output_type": "execute_result"
    }
   ],
   "source": [
    "w2v_model.wv.most_similar(positive=['cancer', 'alzheimer'], negative=['p53'])"
   ]
  },
  {
   "cell_type": "code",
   "execution_count": 452,
   "metadata": {},
   "outputs": [
    {
     "data": {
      "text/plain": [
       "[('perlecan', 0.875863254070282),\n",
       " ('laminin-332', 0.8604204654693604),\n",
       " ('collagen iv', 0.8503476977348328),\n",
       " ('type iv collagen', 0.8439871072769165),\n",
       " ('proteoglycan', 0.8389266133308411),\n",
       " ('lumican', 0.8194851875305176),\n",
       " ('tnc', 0.8121795654296875),\n",
       " ('tenascin', 0.8081210851669312),\n",
       " ('laminin-5', 0.807767927646637),\n",
       " ('heparan sulfate proteoglycan', 0.806502103805542)]"
      ]
     },
     "execution_count": 452,
     "metadata": {},
     "output_type": "execute_result"
    }
   ],
   "source": [
    "w2v_model.wv.most_similar(positive=['elastin', 'laminin'], negative=['collagen'])"
   ]
  },
  {
   "cell_type": "code",
   "execution_count": 276,
   "metadata": {},
   "outputs": [
    {
     "data": {
      "text/plain": [
       "[('oncoprotein', 0.8994867205619812),\n",
       " ('oncogenic', 0.8045071363449097),\n",
       " ('myc', 0.8009227514266968),\n",
       " ('proto', 0.7801446318626404),\n",
       " ('mycn', 0.7675319910049438),\n",
       " ('k-ras', 0.7450345158576965),\n",
       " ('evi1', 0.7422837018966675),\n",
       " ('kras', 0.7420530915260315),\n",
       " ('e1a', 0.7231967449188232),\n",
       " ('pax5', 0.7200646996498108)]"
      ]
     },
     "execution_count": 276,
     "metadata": {},
     "output_type": "execute_result"
    }
   ],
   "source": [
    "w2v_model.wv.most_similar(positive=['oncogene'])"
   ]
  },
  {
   "cell_type": "code",
   "execution_count": 277,
   "metadata": {},
   "outputs": [
    {
     "data": {
      "text/plain": [
       "[('tdp-43', 0.8199190497398376),\n",
       " ('alpha-synuclein', 0.8193961381912231),\n",
       " ('α-synuclein', 0.8084140419960022),\n",
       " ('synuclein', 0.7911438941955566),\n",
       " ('snca', 0.7592361569404602),\n",
       " ('intraneuronal', 0.7505019307136536),\n",
       " ('crmp2', 0.7277055978775024),\n",
       " ('p-tau', 0.7251601815223694),\n",
       " ('α-syn', 0.723549485206604),\n",
       " ('misfolding', 0.7218120694160461)]"
      ]
     },
     "execution_count": 277,
     "metadata": {},
     "output_type": "execute_result"
    }
   ],
   "source": [
    "w2v_model.wv.most_similar(positive=['tau'])"
   ]
  },
  {
   "cell_type": "code",
   "execution_count": 278,
   "metadata": {},
   "outputs": [
    {
     "data": {
      "text/plain": [
       "[('proliferation', 0.8489096760749817),\n",
       " ('motility', 0.7852169871330261),\n",
       " ('invasiveness', 0.7828394174575806),\n",
       " ('angiogenesis', 0.7763574123382568),\n",
       " ('invasion', 0.7500278949737549),\n",
       " ('migration', 0.7455548644065857),\n",
       " ('stemness', 0.7272424697875977),\n",
       " ('outgrowth', 0.7027292251586914),\n",
       " ('survival', 0.6988718509674072),\n",
       " ('tumorigenicity', 0.689399778842926)]"
      ]
     },
     "execution_count": 278,
     "metadata": {},
     "output_type": "execute_result"
    }
   ],
   "source": [
    "w2v_model.wv.most_similar(positive=['growth'])"
   ]
  },
  {
   "cell_type": "code",
   "execution_count": 279,
   "metadata": {},
   "outputs": [
    {
     "data": {
      "text/plain": [
       "[('death', 0.8679466247558594),\n",
       " ('senescence', 0.8214303851127625),\n",
       " ('necrosis', 0.818720281124115),\n",
       " ('proliferation', 0.8102151155471802),\n",
       " ('autophagy', 0.7970517873764038),\n",
       " ('ferroptosis', 0.7884844541549683),\n",
       " ('cytostasis', 0.7838461995124817),\n",
       " ('apoptotic', 0.7623265981674194),\n",
       " ('viability', 0.7511582374572754),\n",
       " ('necroptosis', 0.7473785281181335)]"
      ]
     },
     "execution_count": 279,
     "metadata": {},
     "output_type": "execute_result"
    }
   ],
   "source": [
    "w2v_model.wv.most_similar(positive=['apoptosis'])"
   ]
  },
  {
   "cell_type": "code",
   "execution_count": 284,
   "metadata": {},
   "outputs": [
    {
     "data": {
      "text/plain": [
       "[('nociceptor', 0.7048476338386536),\n",
       " ('photoreceptor', 0.7045892477035522),\n",
       " ('olfactory', 0.6770423054695129),\n",
       " ('melanopsin', 0.6665627360343933),\n",
       " ('cell', 0.6661820411682129),\n",
       " ('neural cells', 0.6617079973220825),\n",
       " ('thymocyte', 0.6564895510673523),\n",
       " ('astrocyte', 0.6523788571357727),\n",
       " ('interneuron', 0.6499875783920288),\n",
       " ('excitatory synapses', 0.6479549407958984)]"
      ]
     },
     "execution_count": 284,
     "metadata": {},
     "output_type": "execute_result"
    }
   ],
   "source": [
    "w2v_model.wv.most_similar(positive=['stem cell', 'neuron'],negative=['regeneration'])"
   ]
  },
  {
   "cell_type": "code",
   "execution_count": 292,
   "metadata": {},
   "outputs": [
    {
     "data": {
      "text/plain": [
       "[('extravascular', 0.7246816158294678),\n",
       " ('csf', 0.7202889323234558),\n",
       " ('cerebrospinal', 0.709128737449646),\n",
       " ('lm', 0.6979690790176392),\n",
       " ('lymph', 0.6959240436553955),\n",
       " ('fluid', 0.6939764022827148),\n",
       " ('amniotic', 0.6816660165786743),\n",
       " ('saliva', 0.677760124206543),\n",
       " ('microbiome', 0.6757568717002869),\n",
       " ('salivary', 0.6738871932029724)]"
      ]
     },
     "execution_count": 292,
     "metadata": {},
     "output_type": "execute_result"
    }
   ],
   "source": [
    "w2v_model.wv.most_similar(positive=['brain', 'blood'],negative=['heart'])"
   ]
  },
  {
   "cell_type": "code",
   "execution_count": 293,
   "metadata": {},
   "outputs": [],
   "source": [
    "#w2v_model.wv.save('w2v_gensim_save_method.model')"
   ]
  },
  {
   "cell_type": "code",
   "execution_count": 352,
   "metadata": {},
   "outputs": [
    {
     "ename": "AttributeError",
     "evalue": "module 'gensim.utils' has no attribute 'open'",
     "output_type": "error",
     "traceback": [
      "\u001b[0;31m---------------------------------------------------------------------------\u001b[0m",
      "\u001b[0;31mAttributeError\u001b[0m                            Traceback (most recent call last)",
      "\u001b[0;32m/opt/anaconda3/lib/python3.7/site-packages/gensim/models/word2vec.py\u001b[0m in \u001b[0;36mload\u001b[0;34m(cls, *args, **kwargs)\u001b[0m\n\u001b[1;32m   1329\u001b[0m         \u001b[0;32mtry\u001b[0m\u001b[0;34m:\u001b[0m\u001b[0;34m\u001b[0m\u001b[0;34m\u001b[0m\u001b[0m\n\u001b[0;32m-> 1330\u001b[0;31m             \u001b[0mmodel\u001b[0m \u001b[0;34m=\u001b[0m \u001b[0msuper\u001b[0m\u001b[0;34m(\u001b[0m\u001b[0mWord2Vec\u001b[0m\u001b[0;34m,\u001b[0m \u001b[0mcls\u001b[0m\u001b[0;34m)\u001b[0m\u001b[0;34m.\u001b[0m\u001b[0mload\u001b[0m\u001b[0;34m(\u001b[0m\u001b[0;34m*\u001b[0m\u001b[0margs\u001b[0m\u001b[0;34m,\u001b[0m \u001b[0;34m**\u001b[0m\u001b[0mkwargs\u001b[0m\u001b[0;34m)\u001b[0m\u001b[0;34m\u001b[0m\u001b[0;34m\u001b[0m\u001b[0m\n\u001b[0m\u001b[1;32m   1331\u001b[0m \u001b[0;34m\u001b[0m\u001b[0m\n",
      "\u001b[0;32m/opt/anaconda3/lib/python3.7/site-packages/gensim/models/base_any2vec.py\u001b[0m in \u001b[0;36mload\u001b[0;34m(cls, *args, **kwargs)\u001b[0m\n\u001b[1;32m   1246\u001b[0m             \u001b[0mmodel\u001b[0m\u001b[0;34m.\u001b[0m\u001b[0mns_exponent\u001b[0m \u001b[0;34m=\u001b[0m \u001b[0;36m0.75\u001b[0m\u001b[0;34m\u001b[0m\u001b[0;34m\u001b[0m\u001b[0m\n\u001b[0;32m-> 1247\u001b[0;31m         \u001b[0;32mif\u001b[0m \u001b[0;32mnot\u001b[0m \u001b[0mhasattr\u001b[0m\u001b[0;34m(\u001b[0m\u001b[0mmodel\u001b[0m\u001b[0;34m.\u001b[0m\u001b[0mvocabulary\u001b[0m\u001b[0;34m,\u001b[0m \u001b[0;34m'ns_exponent'\u001b[0m\u001b[0;34m)\u001b[0m\u001b[0;34m:\u001b[0m\u001b[0;34m\u001b[0m\u001b[0;34m\u001b[0m\u001b[0m\n\u001b[0m\u001b[1;32m   1248\u001b[0m             \u001b[0mmodel\u001b[0m\u001b[0;34m.\u001b[0m\u001b[0mvocabulary\u001b[0m\u001b[0;34m.\u001b[0m\u001b[0mns_exponent\u001b[0m \u001b[0;34m=\u001b[0m \u001b[0;36m0.75\u001b[0m\u001b[0;34m\u001b[0m\u001b[0;34m\u001b[0m\u001b[0m\n",
      "\u001b[0;31mAttributeError\u001b[0m: 'Word2VecKeyedVectors' object has no attribute 'vocabulary'",
      "\nDuring handling of the above exception, another exception occurred:\n",
      "\u001b[0;31mAttributeError\u001b[0m                            Traceback (most recent call last)",
      "\u001b[0;32m<ipython-input-352-dc66d649e30e>\u001b[0m in \u001b[0;36m<module>\u001b[0;34m\u001b[0m\n\u001b[0;32m----> 1\u001b[0;31m \u001b[0mmodel\u001b[0m \u001b[0;34m=\u001b[0m \u001b[0mWord2Vec\u001b[0m\u001b[0;34m.\u001b[0m\u001b[0mload\u001b[0m\u001b[0;34m(\u001b[0m\u001b[0;34m\"w2v_gensim_save_method.model\"\u001b[0m\u001b[0;34m)\u001b[0m\u001b[0;34m\u001b[0m\u001b[0;34m\u001b[0m\u001b[0m\n\u001b[0m",
      "\u001b[0;32m/opt/anaconda3/lib/python3.7/site-packages/gensim/models/word2vec.py\u001b[0m in \u001b[0;36mload\u001b[0;34m(cls, *args, **kwargs)\u001b[0m\n\u001b[1;32m   1339\u001b[0m             \u001b[0mlogger\u001b[0m\u001b[0;34m.\u001b[0m\u001b[0minfo\u001b[0m\u001b[0;34m(\u001b[0m\u001b[0;34m'Model saved using code from earlier Gensim Version. Re-loading old model in a compatible way.'\u001b[0m\u001b[0;34m)\u001b[0m\u001b[0;34m\u001b[0m\u001b[0;34m\u001b[0m\u001b[0m\n\u001b[1;32m   1340\u001b[0m             \u001b[0;32mfrom\u001b[0m \u001b[0mgensim\u001b[0m\u001b[0;34m.\u001b[0m\u001b[0mmodels\u001b[0m\u001b[0;34m.\u001b[0m\u001b[0mdeprecated\u001b[0m\u001b[0;34m.\u001b[0m\u001b[0mword2vec\u001b[0m \u001b[0;32mimport\u001b[0m \u001b[0mload_old_word2vec\u001b[0m\u001b[0;34m\u001b[0m\u001b[0;34m\u001b[0m\u001b[0m\n\u001b[0;32m-> 1341\u001b[0;31m             \u001b[0;32mreturn\u001b[0m \u001b[0mload_old_word2vec\u001b[0m\u001b[0;34m(\u001b[0m\u001b[0;34m*\u001b[0m\u001b[0margs\u001b[0m\u001b[0;34m,\u001b[0m \u001b[0;34m**\u001b[0m\u001b[0mkwargs\u001b[0m\u001b[0;34m)\u001b[0m\u001b[0;34m\u001b[0m\u001b[0;34m\u001b[0m\u001b[0m\n\u001b[0m\u001b[1;32m   1342\u001b[0m \u001b[0;34m\u001b[0m\u001b[0m\n\u001b[1;32m   1343\u001b[0m \u001b[0;34m\u001b[0m\u001b[0m\n",
      "\u001b[0;32m/opt/anaconda3/lib/python3.7/site-packages/gensim/models/deprecated/word2vec.py\u001b[0m in \u001b[0;36mload_old_word2vec\u001b[0;34m(*args, **kwargs)\u001b[0m\n\u001b[1;32m    170\u001b[0m \u001b[0;34m\u001b[0m\u001b[0m\n\u001b[1;32m    171\u001b[0m \u001b[0;32mdef\u001b[0m \u001b[0mload_old_word2vec\u001b[0m\u001b[0;34m(\u001b[0m\u001b[0;34m*\u001b[0m\u001b[0margs\u001b[0m\u001b[0;34m,\u001b[0m \u001b[0;34m**\u001b[0m\u001b[0mkwargs\u001b[0m\u001b[0;34m)\u001b[0m\u001b[0;34m:\u001b[0m\u001b[0;34m\u001b[0m\u001b[0;34m\u001b[0m\u001b[0m\n\u001b[0;32m--> 172\u001b[0;31m     \u001b[0mold_model\u001b[0m \u001b[0;34m=\u001b[0m \u001b[0mWord2Vec\u001b[0m\u001b[0;34m.\u001b[0m\u001b[0mload\u001b[0m\u001b[0;34m(\u001b[0m\u001b[0;34m*\u001b[0m\u001b[0margs\u001b[0m\u001b[0;34m,\u001b[0m \u001b[0;34m**\u001b[0m\u001b[0mkwargs\u001b[0m\u001b[0;34m)\u001b[0m\u001b[0;34m\u001b[0m\u001b[0;34m\u001b[0m\u001b[0m\n\u001b[0m\u001b[1;32m    173\u001b[0m     \u001b[0mvector_size\u001b[0m \u001b[0;34m=\u001b[0m \u001b[0mgetattr\u001b[0m\u001b[0;34m(\u001b[0m\u001b[0mold_model\u001b[0m\u001b[0;34m,\u001b[0m \u001b[0;34m'vector_size'\u001b[0m\u001b[0;34m,\u001b[0m \u001b[0mold_model\u001b[0m\u001b[0;34m.\u001b[0m\u001b[0mlayer1_size\u001b[0m\u001b[0;34m)\u001b[0m\u001b[0;34m\u001b[0m\u001b[0;34m\u001b[0m\u001b[0m\n\u001b[1;32m    174\u001b[0m     params = {\n",
      "\u001b[0;32m/opt/anaconda3/lib/python3.7/site-packages/gensim/models/deprecated/word2vec.py\u001b[0m in \u001b[0;36mload\u001b[0;34m(cls, *args, **kwargs)\u001b[0m\n\u001b[1;32m   1639\u001b[0m     \u001b[0;34m@\u001b[0m\u001b[0mclassmethod\u001b[0m\u001b[0;34m\u001b[0m\u001b[0;34m\u001b[0m\u001b[0m\n\u001b[1;32m   1640\u001b[0m     \u001b[0;32mdef\u001b[0m \u001b[0mload\u001b[0m\u001b[0;34m(\u001b[0m\u001b[0mcls\u001b[0m\u001b[0;34m,\u001b[0m \u001b[0;34m*\u001b[0m\u001b[0margs\u001b[0m\u001b[0;34m,\u001b[0m \u001b[0;34m**\u001b[0m\u001b[0mkwargs\u001b[0m\u001b[0;34m)\u001b[0m\u001b[0;34m:\u001b[0m\u001b[0;34m\u001b[0m\u001b[0;34m\u001b[0m\u001b[0m\n\u001b[0;32m-> 1641\u001b[0;31m         \u001b[0mmodel\u001b[0m \u001b[0;34m=\u001b[0m \u001b[0msuper\u001b[0m\u001b[0;34m(\u001b[0m\u001b[0mWord2Vec\u001b[0m\u001b[0;34m,\u001b[0m \u001b[0mcls\u001b[0m\u001b[0;34m)\u001b[0m\u001b[0;34m.\u001b[0m\u001b[0mload\u001b[0m\u001b[0;34m(\u001b[0m\u001b[0;34m*\u001b[0m\u001b[0margs\u001b[0m\u001b[0;34m,\u001b[0m \u001b[0;34m**\u001b[0m\u001b[0mkwargs\u001b[0m\u001b[0;34m)\u001b[0m\u001b[0;34m\u001b[0m\u001b[0;34m\u001b[0m\u001b[0m\n\u001b[0m\u001b[1;32m   1642\u001b[0m         \u001b[0;31m# update older models\u001b[0m\u001b[0;34m\u001b[0m\u001b[0;34m\u001b[0m\u001b[0;34m\u001b[0m\u001b[0m\n\u001b[1;32m   1643\u001b[0m         \u001b[0;32mif\u001b[0m \u001b[0mhasattr\u001b[0m\u001b[0;34m(\u001b[0m\u001b[0mmodel\u001b[0m\u001b[0;34m,\u001b[0m \u001b[0;34m'table'\u001b[0m\u001b[0;34m)\u001b[0m\u001b[0;34m:\u001b[0m\u001b[0;34m\u001b[0m\u001b[0;34m\u001b[0m\u001b[0m\n",
      "\u001b[0;32m/opt/anaconda3/lib/python3.7/site-packages/gensim/models/deprecated/old_saveload.py\u001b[0m in \u001b[0;36mload\u001b[0;34m(cls, fname, mmap)\u001b[0m\n\u001b[1;32m     85\u001b[0m         \u001b[0mcompress\u001b[0m\u001b[0;34m,\u001b[0m \u001b[0msubname\u001b[0m \u001b[0;34m=\u001b[0m \u001b[0mSaveLoad\u001b[0m\u001b[0;34m.\u001b[0m\u001b[0m_adapt_by_suffix\u001b[0m\u001b[0;34m(\u001b[0m\u001b[0mfname\u001b[0m\u001b[0;34m)\u001b[0m\u001b[0;34m\u001b[0m\u001b[0;34m\u001b[0m\u001b[0m\n\u001b[1;32m     86\u001b[0m \u001b[0;34m\u001b[0m\u001b[0m\n\u001b[0;32m---> 87\u001b[0;31m         \u001b[0mobj\u001b[0m \u001b[0;34m=\u001b[0m \u001b[0munpickle\u001b[0m\u001b[0;34m(\u001b[0m\u001b[0mfname\u001b[0m\u001b[0;34m)\u001b[0m\u001b[0;34m\u001b[0m\u001b[0;34m\u001b[0m\u001b[0m\n\u001b[0m\u001b[1;32m     88\u001b[0m         \u001b[0mobj\u001b[0m\u001b[0;34m.\u001b[0m\u001b[0m_load_specials\u001b[0m\u001b[0;34m(\u001b[0m\u001b[0mfname\u001b[0m\u001b[0;34m,\u001b[0m \u001b[0mmmap\u001b[0m\u001b[0;34m,\u001b[0m \u001b[0mcompress\u001b[0m\u001b[0;34m,\u001b[0m \u001b[0msubname\u001b[0m\u001b[0;34m)\u001b[0m\u001b[0;34m\u001b[0m\u001b[0;34m\u001b[0m\u001b[0m\n\u001b[1;32m     89\u001b[0m         \u001b[0mlogger\u001b[0m\u001b[0;34m.\u001b[0m\u001b[0minfo\u001b[0m\u001b[0;34m(\u001b[0m\u001b[0;34m\"loaded %s\"\u001b[0m\u001b[0;34m,\u001b[0m \u001b[0mfname\u001b[0m\u001b[0;34m)\u001b[0m\u001b[0;34m\u001b[0m\u001b[0;34m\u001b[0m\u001b[0m\n",
      "\u001b[0;32m/opt/anaconda3/lib/python3.7/site-packages/gensim/models/deprecated/old_saveload.py\u001b[0m in \u001b[0;36munpickle\u001b[0;34m(fname)\u001b[0m\n\u001b[1;32m    368\u001b[0m \u001b[0;34m\u001b[0m\u001b[0m\n\u001b[1;32m    369\u001b[0m     \"\"\"\n\u001b[0;32m--> 370\u001b[0;31m     \u001b[0;32mwith\u001b[0m \u001b[0mutils\u001b[0m\u001b[0;34m.\u001b[0m\u001b[0mopen\u001b[0m\u001b[0;34m(\u001b[0m\u001b[0mfname\u001b[0m\u001b[0;34m,\u001b[0m \u001b[0;34m'rb'\u001b[0m\u001b[0;34m)\u001b[0m \u001b[0;32mas\u001b[0m \u001b[0mf\u001b[0m\u001b[0;34m:\u001b[0m\u001b[0;34m\u001b[0m\u001b[0;34m\u001b[0m\u001b[0m\n\u001b[0m\u001b[1;32m    371\u001b[0m         \u001b[0mfile_bytes\u001b[0m \u001b[0;34m=\u001b[0m \u001b[0mf\u001b[0m\u001b[0;34m.\u001b[0m\u001b[0mread\u001b[0m\u001b[0;34m(\u001b[0m\u001b[0;34m)\u001b[0m\u001b[0;34m\u001b[0m\u001b[0;34m\u001b[0m\u001b[0m\n\u001b[1;32m    372\u001b[0m         \u001b[0mfile_bytes\u001b[0m \u001b[0;34m=\u001b[0m \u001b[0mfile_bytes\u001b[0m\u001b[0;34m.\u001b[0m\u001b[0mreplace\u001b[0m\u001b[0;34m(\u001b[0m\u001b[0;34mb'gensim.models.word2vec'\u001b[0m\u001b[0;34m,\u001b[0m \u001b[0;34mb'gensim.models.deprecated.word2vec'\u001b[0m\u001b[0;34m)\u001b[0m\u001b[0;34m\u001b[0m\u001b[0;34m\u001b[0m\u001b[0m\n",
      "\u001b[0;31mAttributeError\u001b[0m: module 'gensim.utils' has no attribute 'open'"
     ]
    }
   ],
   "source": [
    "model = Word2Vec.load(\"w2v_gensim_save_method.model\") "
   ]
  },
  {
   "cell_type": "code",
   "execution_count": 294,
   "metadata": {},
   "outputs": [
    {
     "name": "stderr",
     "output_type": "stream",
     "text": [
      "/opt/anaconda3/lib/python3.7/site-packages/gensim/models/keyedvectors.py:877: FutureWarning: arrays to stack must be passed as a \"sequence\" type such as list or tuple. Support for non-sequence iterables such as generators is deprecated as of NumPy 1.16 and will raise an error in the future.\n",
      "  vectors = vstack(self.word_vec(word, use_norm=True) for word in used_words).astype(REAL)\n"
     ]
    },
    {
     "data": {
      "text/plain": [
       "'patient'"
      ]
     },
     "execution_count": 294,
     "metadata": {},
     "output_type": "execute_result"
    }
   ],
   "source": [
    "w2v_model.wv.doesnt_match(['brain', 'liver', 'lung', 'skin', 'patient'])"
   ]
  },
  {
   "cell_type": "code",
   "execution_count": 295,
   "metadata": {},
   "outputs": [
    {
     "data": {
      "text/plain": [
       "'adenosine'"
      ]
     },
     "execution_count": 295,
     "metadata": {},
     "output_type": "execute_result"
    }
   ],
   "source": [
    "w2v_model.wv.doesnt_match(['adenosine', 'tyrosine', 'serine', 'proline'])"
   ]
  },
  {
   "cell_type": "code",
   "execution_count": 296,
   "metadata": {},
   "outputs": [
    {
     "data": {
      "text/plain": [
       "'gh'"
      ]
     },
     "execution_count": 296,
     "metadata": {},
     "output_type": "execute_result"
    }
   ],
   "source": [
    "w2v_model.wv.doesnt_match(['serotonin', 'dopamine', 'gaba', 'ach', 'gh'])"
   ]
  },
  {
   "cell_type": "code",
   "execution_count": 299,
   "metadata": {},
   "outputs": [
    {
     "data": {
      "text/plain": [
       "[('leptin', 0.7714312076568604),\n",
       " ('no-cgmp', 0.7335880994796753),\n",
       " ('igf-1', 0.728884220123291),\n",
       " ('ngf', 0.725912868976593),\n",
       " ('bdnf-trkb', 0.7246143221855164),\n",
       " ('hepatic insulin', 0.7234041690826416),\n",
       " ('s1p', 0.7180932760238647),\n",
       " ('igf-i', 0.7009556293487549),\n",
       " ('neurotrophin', 0.6949155330657959),\n",
       " ('endothelial', 0.6910805106163025)]"
      ]
     },
     "execution_count": 299,
     "metadata": {},
     "output_type": "execute_result"
    }
   ],
   "source": [
    "w2v_model.wv.most_similar(positive=['insulin', 'lipid'],negative=['sugar'])"
   ]
  },
  {
   "cell_type": "code",
   "execution_count": 303,
   "metadata": {},
   "outputs": [
    {
     "data": {
      "text/plain": [
       "[('kinin', 0.8138394355773926),\n",
       " ('ghrelin', 0.7855609655380249),\n",
       " ('adenosine', 0.7820999026298523),\n",
       " ('extracellular nucleotides', 0.7794912457466125),\n",
       " ('eet', 0.7719882726669312),\n",
       " ('rve1', 0.7699036598205566),\n",
       " ('α-msh', 0.7681056261062622),\n",
       " ('cyslts', 0.7615867853164673),\n",
       " ('lxa4', 0.7600436806678772),\n",
       " ('prostanoid', 0.7567172646522522)]"
      ]
     },
     "execution_count": 303,
     "metadata": {},
     "output_type": "execute_result"
    }
   ],
   "source": [
    "w2v_model.wv.most_similar(positive=['adiponectin', 'sugar'],negative=['fat'])"
   ]
  },
  {
   "cell_type": "code",
   "execution_count": 337,
   "metadata": {},
   "outputs": [
    {
     "data": {
      "text/plain": [
       "[('fetal liver', 0.7460353374481201),\n",
       " ('uterus', 0.7362096905708313),\n",
       " ('gonad', 0.721034049987793),\n",
       " ('haematopoietic', 0.7128474712371826),\n",
       " ('bm-derived', 0.7006518840789795),\n",
       " ('adrenal gland', 0.6998518705368042),\n",
       " ('primitive', 0.698593258857727),\n",
       " ('hemopoietic', 0.6959096789360046),\n",
       " ('haematopoietic stem cells', 0.6943485736846924),\n",
       " ('thymus', 0.6824236512184143)]"
      ]
     },
     "execution_count": 337,
     "metadata": {},
     "output_type": "execute_result"
    }
   ],
   "source": [
    "w2v_model.wv.most_similar(positive=['pancreas', 'erythropoietin'],negative=['insulin'])"
   ]
  },
  {
   "cell_type": "code",
   "execution_count": 407,
   "metadata": {},
   "outputs": [
    {
     "data": {
      "text/plain": [
       "[('hla class i', 0.8676983118057251),\n",
       " ('cd80', 0.8658444285392761),\n",
       " ('cd5', 0.8618474006652832),\n",
       " ('tim-3', 0.855554461479187),\n",
       " ('hla-dr', 0.85270094871521),\n",
       " ('ccr7', 0.8501997590065002),\n",
       " ('b7-h1', 0.8485901355743408),\n",
       " ('cd86', 0.8472750782966614),\n",
       " ('cd7', 0.8357675671577454),\n",
       " ('cd19', 0.835611879825592)]"
      ]
     },
     "execution_count": 407,
     "metadata": {},
     "output_type": "execute_result"
    }
   ],
   "source": [
    "w2v_model.wv.most_similar(positive=['pd-l1', 'ctla-4'],negative=['pd-1'])"
   ]
  },
  {
   "cell_type": "code",
   "execution_count": 411,
   "metadata": {},
   "outputs": [
    {
     "data": {
      "text/plain": [
       "[('drosha', 0.7889699339866638),\n",
       " ('m6a', 0.7710211873054504),\n",
       " ('sra', 0.7671451568603516),\n",
       " ('posttranscriptionally', 0.7131240367889404),\n",
       " ('ago2', 0.69962078332901),\n",
       " ('transcript', 0.6956264972686768),\n",
       " ('utr', 0.6948648691177368),\n",
       " ('star', 0.6844633221626282),\n",
       " ('snorna', 0.6826021671295166),\n",
       " (\"3'-utr\", 0.6807464957237244)]"
      ]
     },
     "execution_count": 411,
     "metadata": {},
     "output_type": "execute_result"
    }
   ],
   "source": [
    "w2v_model.wv.most_similar(positive=['histone', 'rna'],negative=['dna'])"
   ]
  },
  {
   "cell_type": "code",
   "execution_count": 361,
   "metadata": {},
   "outputs": [
    {
     "data": {
      "text/plain": [
       "[('estrogen', 0.9158849716186523),\n",
       " ('oestrogen', 0.8687738180160522),\n",
       " ('antiestrogen', 0.8297780156135559),\n",
       " ('tamoxifen', 0.8119247555732727),\n",
       " ('progestin', 0.792025089263916),\n",
       " ('ar', 0.7741833925247192),\n",
       " ('hormone', 0.7732338905334473),\n",
       " ('endocrine', 0.7502608895301819),\n",
       " ('androgen receptor', 0.7492418885231018),\n",
       " ('gc', 0.7469851970672607)]"
      ]
     },
     "execution_count": 361,
     "metadata": {},
     "output_type": "execute_result"
    }
   ],
   "source": [
    "w2v_model.wv.most_similar(positive=['androgen', 'breast cancer'], negative=['prostate cancer'])"
   ]
  },
  {
   "cell_type": "code",
   "execution_count": 428,
   "metadata": {},
   "outputs": [
    {
     "data": {
      "text/plain": [
       "[('lymphadenopathy', 0.9026530385017395),\n",
       " ('cgvhd', 0.8918194770812988),\n",
       " ('toxoplasmosis', 0.8872932195663452),\n",
       " ('gout', 0.8772332668304443),\n",
       " ('agvhd', 0.8755866289138794),\n",
       " ('septicemia', 0.8689640164375305),\n",
       " ('silicosis', 0.8675581216812134),\n",
       " ('ards', 0.8629375696182251),\n",
       " (\"crohn's disease\", 0.8621755242347717),\n",
       " ('hepatitis c', 0.8579164147377014)]"
      ]
     },
     "execution_count": 428,
     "metadata": {},
     "output_type": "execute_result"
    }
   ],
   "source": [
    "w2v_model.wv.most_similar(positive=['covid-19'])"
   ]
  },
  {
   "cell_type": "code",
   "execution_count": 434,
   "metadata": {},
   "outputs": [
    {
     "data": {
      "text/plain": [
       "'covid-19'"
      ]
     },
     "execution_count": 434,
     "metadata": {},
     "output_type": "execute_result"
    }
   ],
   "source": [
    "w2v_model.wv.doesnt_match(['covid-19','hiv','herpes','ebv','influenza','bacteria'])"
   ]
  },
  {
   "cell_type": "code",
   "execution_count": 435,
   "metadata": {},
   "outputs": [
    {
     "data": {
      "text/plain": [
       "'angii'"
      ]
     },
     "execution_count": 435,
     "metadata": {},
     "output_type": "execute_result"
    }
   ],
   "source": [
    "w2v_model.wv.doesnt_match(['hif','jun','creb','smad','gata','hoxb13','angii'])"
   ]
  },
  {
   "cell_type": "code",
   "execution_count": 372,
   "metadata": {},
   "outputs": [
    {
     "data": {
      "text/plain": [
       "[('hes5', 0.9020042419433594),\n",
       " ('gli2', 0.8858749866485596),\n",
       " ('gli1', 0.8796781897544861),\n",
       " ('gli-1', 0.8783226609230042),\n",
       " ('hey1', 0.8776895999908447),\n",
       " ('wnt4', 0.8467684984207153),\n",
       " ('hes-1', 0.8421448469161987),\n",
       " ('pax7', 0.8263850212097168),\n",
       " ('gli3', 0.8238429427146912),\n",
       " ('dkk2', 0.8233767747879028)]"
      ]
     },
     "execution_count": 372,
     "metadata": {},
     "output_type": "execute_result"
    }
   ],
   "source": [
    "w2v_model.wv.most_similar(positive=['shh', 'hes1'], negative=['notch'])"
   ]
  },
  {
   "cell_type": "code",
   "execution_count": 377,
   "metadata": {},
   "outputs": [
    {
     "data": {
      "text/plain": [
       "[('fmlp', 0.8725319504737854),\n",
       " ('fmet-leu-phe', 0.8660200834274292),\n",
       " ('paf', 0.8609027862548828),\n",
       " ('extracellular atp', 0.8470888733863831),\n",
       " ('fmlf', 0.8434070944786072),\n",
       " ('bradykinin', 0.8408018946647644),\n",
       " ('epinephrine', 0.8388182520866394),\n",
       " ('5ht', 0.838687002658844),\n",
       " ('methacholine', 0.8239145278930664),\n",
       " ('acetylcholine', 0.8214134573936462)]"
      ]
     },
     "execution_count": 377,
     "metadata": {},
     "output_type": "execute_result"
    }
   ],
   "source": [
    "w2v_model.wv.most_similar(positive=['histamine', 'neutrophil'], negative=['eosinophil'])"
   ]
  },
  {
   "cell_type": "code",
   "execution_count": 393,
   "metadata": {},
   "outputs": [
    {
     "data": {
      "text/plain": [
       "[('circadian', 0.8755050897598267),\n",
       " ('oscillator', 0.8379597067832947),\n",
       " ('rhythm', 0.8198610544204712),\n",
       " ('timekeeping', 0.7599442005157471),\n",
       " ('rhythmicity', 0.7415726780891418),\n",
       " ('circuitry', 0.7378842830657959),\n",
       " ('entrainment', 0.7361363172531128),\n",
       " ('circuit', 0.7115831971168518),\n",
       " ('scn', 0.7113426923751831),\n",
       " ('spermatogenesis', 0.709203839302063)]"
      ]
     },
     "execution_count": 393,
     "metadata": {},
     "output_type": "execute_result"
    }
   ],
   "source": [
    "w2v_model.wv.most_similar(positive=['clock'])"
   ]
  },
  {
   "cell_type": "code",
   "execution_count": 394,
   "metadata": {},
   "outputs": [
    {
     "data": {
      "text/plain": [
       "[('cilium', 0.959104061126709),\n",
       " ('photoreceptor', 0.7801337242126465),\n",
       " ('dendrite', 0.7544570565223694),\n",
       " ('centriolar', 0.7475356459617615),\n",
       " ('seminiferous epithelium', 0.7409558296203613),\n",
       " ('ciliogenesis', 0.737008273601532),\n",
       " ('neuron', 0.7365002036094666),\n",
       " ('photoreceptor cells', 0.7330804467201233),\n",
       " ('centriole', 0.732792854309082),\n",
       " ('nephron', 0.7253248691558838)]"
      ]
     },
     "execution_count": 394,
     "metadata": {},
     "output_type": "execute_result"
    }
   ],
   "source": [
    "w2v_model.wv.most_similar(positive=['cilia'])"
   ]
  },
  {
   "cell_type": "code",
   "execution_count": 395,
   "metadata": {},
   "outputs": [
    {
     "data": {
      "text/plain": [
       "[('transducin', 0.821509599685669),\n",
       " ('photopigment', 0.7980531454086304),\n",
       " ('melanopsin', 0.7874122858047485),\n",
       " ('opsin', 0.7782406210899353),\n",
       " ('rho1', 0.7592681646347046),\n",
       " ('mosaic', 0.7490711212158203),\n",
       " ('vsd', 0.7381170392036438),\n",
       " ('tmd', 0.7301325798034668),\n",
       " ('recoverin', 0.7291203737258911),\n",
       " ('shaker', 0.7234669327735901)]"
      ]
     },
     "execution_count": 395,
     "metadata": {},
     "output_type": "execute_result"
    }
   ],
   "source": [
    "w2v_model.wv.most_similar(positive=['rhodopsin'])"
   ]
  },
  {
   "cell_type": "code",
   "execution_count": null,
   "metadata": {},
   "outputs": [],
   "source": []
  }
 ],
 "metadata": {
  "kernelspec": {
   "display_name": "Python 3",
   "language": "python",
   "name": "python3"
  },
  "language_info": {
   "codemirror_mode": {
    "name": "ipython",
    "version": 3
   },
   "file_extension": ".py",
   "mimetype": "text/x-python",
   "name": "python",
   "nbconvert_exporter": "python",
   "pygments_lexer": "ipython3",
   "version": "3.7.6"
  }
 },
 "nbformat": 4,
 "nbformat_minor": 4
}
