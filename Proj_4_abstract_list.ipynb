{
 "cells": [
  {
   "cell_type": "code",
   "execution_count": 3,
   "metadata": {},
   "outputs": [],
   "source": [
    "import pickle"
   ]
  },
  {
   "cell_type": "code",
   "execution_count": 143,
   "metadata": {},
   "outputs": [],
   "source": [
    "import os\n",
    "os.chdir('/Users/beth/Documents/Metis')"
   ]
  },
  {
   "cell_type": "code",
   "execution_count": 64,
   "metadata": {},
   "outputs": [],
   "source": [
    "file_list = !ls proj4*"
   ]
  },
  {
   "cell_type": "code",
   "execution_count": 65,
   "metadata": {},
   "outputs": [
    {
     "data": {
      "text/plain": [
       "['proj4_pubmed_1985_0.pickle',\n",
       " 'proj4_pubmed_1986_0.pickle',\n",
       " 'proj4_pubmed_1987_0.pickle',\n",
       " 'proj4_pubmed_1988_0.pickle',\n",
       " 'proj4_pubmed_1989_0.pickle',\n",
       " 'proj4_pubmed_1990_0.pickle',\n",
       " 'proj4_pubmed_1991_0.pickle',\n",
       " 'proj4_pubmed_1992_0.pickle',\n",
       " 'proj4_pubmed_1993_0.pickle',\n",
       " 'proj4_pubmed_1994_0.pickle',\n",
       " 'proj4_pubmed_1995_0.pickle',\n",
       " 'proj4_pubmed_1996_0.pickle',\n",
       " 'proj4_pubmed_1997_0.pickle',\n",
       " 'proj4_pubmed_1998_0.pickle',\n",
       " 'proj4_pubmed_1999_0.pickle',\n",
       " 'proj4_pubmed_2000_0.pickle',\n",
       " 'proj4_pubmed_2001_0.pickle',\n",
       " 'proj4_pubmed_2002_0.pickle',\n",
       " 'proj4_pubmed_2003_0.pickle',\n",
       " 'proj4_pubmed_2003_1.pickle',\n",
       " 'proj4_pubmed_2004_0.pickle',\n",
       " 'proj4_pubmed_2004_1.pickle',\n",
       " 'proj4_pubmed_2005_0.pickle',\n",
       " 'proj4_pubmed_2005_1.pickle',\n",
       " 'proj4_pubmed_2006_0.pickle',\n",
       " 'proj4_pubmed_2006_1.pickle',\n",
       " 'proj4_pubmed_2007_0.pickle',\n",
       " 'proj4_pubmed_2007_1.pickle',\n",
       " 'proj4_pubmed_2008_0.pickle',\n",
       " 'proj4_pubmed_2008_1.pickle',\n",
       " 'proj4_pubmed_2009_0.pickle',\n",
       " 'proj4_pubmed_2009_1.pickle',\n",
       " 'proj4_pubmed_2010_0.pickle',\n",
       " 'proj4_pubmed_2010_1.pickle',\n",
       " 'proj4_pubmed_2010_2.pickle',\n",
       " 'proj4_pubmed_2011_0.pickle',\n",
       " 'proj4_pubmed_2011_1.pickle',\n",
       " 'proj4_pubmed_2011_2.pickle',\n",
       " 'proj4_pubmed_2012_0.pickle',\n",
       " 'proj4_pubmed_2012_1.pickle',\n",
       " 'proj4_pubmed_2012_2.pickle',\n",
       " 'proj4_pubmed_2013_0.pickle',\n",
       " 'proj4_pubmed_2013_1.pickle',\n",
       " 'proj4_pubmed_2013_2.pickle',\n",
       " 'proj4_pubmed_2014_0.pickle',\n",
       " 'proj4_pubmed_2014_1.pickle',\n",
       " 'proj4_pubmed_2014_2.pickle',\n",
       " 'proj4_pubmed_2015_0.pickle',\n",
       " 'proj4_pubmed_2015_1.pickle',\n",
       " 'proj4_pubmed_2015_2.pickle',\n",
       " 'proj4_pubmed_2015_3.pickle',\n",
       " 'proj4_pubmed_2016_0.pickle',\n",
       " 'proj4_pubmed_2016_1.pickle',\n",
       " 'proj4_pubmed_2016_2.pickle',\n",
       " 'proj4_pubmed_2017_0.pickle',\n",
       " 'proj4_pubmed_2017_1.pickle',\n",
       " 'proj4_pubmed_2017_2.pickle',\n",
       " 'proj4_pubmed_2017_3.pickle',\n",
       " 'proj4_pubmed_2018_0.pickle',\n",
       " 'proj4_pubmed_2018_1.pickle',\n",
       " 'proj4_pubmed_2018_2.pickle',\n",
       " 'proj4_pubmed_2018_3.pickle',\n",
       " 'proj4_pubmed_2019_0.pickle',\n",
       " 'proj4_pubmed_2019_1.pickle',\n",
       " 'proj4_pubmed_2019_2.pickle',\n",
       " 'proj4_pubmed_2019_3.pickle',\n",
       " 'proj4_pubmed_2019_4.pickle',\n",
       " 'proj4_pubmed_2020.pickle']"
      ]
     },
     "execution_count": 65,
     "metadata": {},
     "output_type": "execute_result"
    }
   ],
   "source": [
    "file_list"
   ]
  },
  {
   "cell_type": "code",
   "execution_count": 130,
   "metadata": {},
   "outputs": [],
   "source": [
    "for file in file_list[6:]:\n",
    "    with open(file, 'rb') as read_file:\n",
    "        pubmed = pickle.load(read_file)\n",
    "    abs_text = \"\\n\\n\" + pubmed.find('body').text\n",
    "    abs_text = abs_text.split('[Indexed for MEDLINE]')\n",
    "    abstracts = []\n",
    "    for i in abs_text:\n",
    "        try:\n",
    "            title = i.split('\\n\\n')[2]\n",
    "            abstract = i.split('\\n\\n')[5]\n",
    "            abstracts.append(title + abstract)\n",
    "        except:\n",
    "            continue\n",
    "    abstracts_final.extend(abstracts)"
   ]
  },
  {
   "cell_type": "code",
   "execution_count": 144,
   "metadata": {},
   "outputs": [],
   "source": [
    "with open('title_abstract_docs_list.pickle', 'wb') as write_file:\n",
    "    pickle.dump(abstracts_final,write_file)"
   ]
  }
 ],
 "metadata": {
  "kernelspec": {
   "display_name": "Python 3",
   "language": "python",
   "name": "python3"
  },
  "language_info": {
   "codemirror_mode": {
    "name": "ipython",
    "version": 3
   },
   "file_extension": ".py",
   "mimetype": "text/x-python",
   "name": "python",
   "nbconvert_exporter": "python",
   "pygments_lexer": "ipython3",
   "version": "3.7.6"
  }
 },
 "nbformat": 4,
 "nbformat_minor": 4
}
